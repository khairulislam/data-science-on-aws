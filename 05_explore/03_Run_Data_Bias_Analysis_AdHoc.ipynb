{
 "cells": [
  {
   "cell_type": "markdown",
   "metadata": {},
   "source": [
    "# Run Ad-Hoc Data Bias Analysis\n",
    "\n",
    "## Run Bias Analysis In The Notebook using `smclarify`\n",
    "https://github.com/aws/amazon-sagemaker-clarify\n"
   ]
  },
  {
   "cell_type": "code",
   "execution_count": 3,
   "metadata": {},
   "outputs": [],
   "source": [
    "!pip install -q smclarify>=0.1"
   ]
  },
  {
   "cell_type": "code",
   "execution_count": 4,
   "metadata": {
    "collapsed": false,
    "jupyter": {
     "outputs_hidden": false
    },
    "pycharm": {
     "name": "#%%\n"
    }
   },
   "outputs": [],
   "source": [
    "from smclarify.bias import report\n",
    "from typing import Dict\n",
    "from collections import defaultdict\n",
    "import pandas as pd\n",
    "import seaborn as sns"
   ]
  },
  {
   "cell_type": "markdown",
   "metadata": {},
   "source": [
    "# Read Dataset From S3"
   ]
  },
  {
   "cell_type": "code",
   "execution_count": 5,
   "metadata": {},
   "outputs": [],
   "source": [
    "%store -r bias_data_s3_uri"
   ]
  },
  {
   "cell_type": "code",
   "execution_count": 6,
   "metadata": {},
   "outputs": [
    {
     "name": "stdout",
     "output_type": "stream",
     "text": [
      "s3://sagemaker-us-east-1-211125778552/bias-detection-1709010764/amazon_reviews_us_giftcards_software_videogames.csv\n"
     ]
    }
   ],
   "source": [
    "print(bias_data_s3_uri)"
   ]
  },
  {
   "cell_type": "code",
   "execution_count": 7,
   "metadata": {},
   "outputs": [],
   "source": [
    "%store -r balanced_bias_data_s3_uri"
   ]
  },
  {
   "cell_type": "code",
   "execution_count": 8,
   "metadata": {},
   "outputs": [
    {
     "name": "stdout",
     "output_type": "stream",
     "text": [
      "s3://sagemaker-us-east-1-211125778552/bias-detection-1709010764/amazon_reviews_us_giftcards_software_videogames_balanced.csv\n"
     ]
    }
   ],
   "source": [
    "print(balanced_bias_data_s3_uri)"
   ]
  },
  {
   "cell_type": "code",
   "execution_count": 9,
   "metadata": {},
   "outputs": [
    {
     "name": "stdout",
     "output_type": "stream",
     "text": [
      "download: s3://sagemaker-us-east-1-211125778552/bias-detection-1709010764/amazon_reviews_us_giftcards_software_videogames.csv to data-clarify/amazon_reviews_us_giftcards_software_videogames.csv\n"
     ]
    }
   ],
   "source": [
    "!aws s3 cp $bias_data_s3_uri ./data-clarify/"
   ]
  },
  {
   "cell_type": "code",
   "execution_count": 10,
   "metadata": {},
   "outputs": [
    {
     "name": "stdout",
     "output_type": "stream",
     "text": [
      "download: s3://sagemaker-us-east-1-211125778552/bias-detection-1709010764/amazon_reviews_us_giftcards_software_videogames_balanced.csv to data-clarify/amazon_reviews_us_giftcards_software_videogames_balanced.csv\n"
     ]
    }
   ],
   "source": [
    "!aws s3 cp $balanced_bias_data_s3_uri ./data-clarify/"
   ]
  },
  {
   "cell_type": "markdown",
   "metadata": {},
   "source": [
    "# Analyze Unbalanced Data"
   ]
  },
  {
   "cell_type": "code",
   "execution_count": 11,
   "metadata": {},
   "outputs": [
    {
     "data": {
      "text/plain": [
       "(1000, 15)"
      ]
     },
     "execution_count": 11,
     "metadata": {},
     "output_type": "execute_result"
    }
   ],
   "source": [
    "df = pd.read_csv(\"./data-clarify/amazon_reviews_us_giftcards_software_videogames.csv\")\n",
    "df.shape"
   ]
  },
  {
   "cell_type": "code",
   "execution_count": 12,
   "metadata": {
    "collapsed": false,
    "jupyter": {
     "outputs_hidden": false
    },
    "pycharm": {
     "name": "#%%\n"
    }
   },
   "outputs": [
    {
     "data": {
      "text/plain": [
       "<matplotlib.axes._subplots.AxesSubplot at 0x7fdf89c7ed10>"
      ]
     },
     "execution_count": 12,
     "metadata": {},
     "output_type": "execute_result"
    },
    {
     "data": {
      "image/png": "[encoded data removed]",
      "text/plain": [
       "<Figure size 640x480 with 1 Axes>"
      ]
     },
     "metadata": {},
     "output_type": "display_data"
    }
   ],
   "source": [
    "sns.countplot(data=df, x=\"star_rating\", hue=\"product_category\")"
   ]
  },
  {
   "cell_type": "markdown",
   "metadata": {},
   "source": [
    "# Calculate Bias Metrics on Unbalanced Data"
   ]
  },
  {
   "cell_type": "markdown",
   "metadata": {},
   "source": [
    "## Define \n",
    "* Facet Column (= Product Category), \n",
    "* Label Column (= Star Rating), \n",
    "* Positive Label Value (= 5,4)"
   ]
  },
  {
   "cell_type": "code",
   "execution_count": 14,
   "metadata": {},
   "outputs": [
    {
     "name": "stdout",
     "output_type": "stream",
     "text": [
      "\u001b[0;31mInit signature:\u001b[0m\n",
      "\u001b[0mreport\u001b[0m\u001b[0;34m.\u001b[0m\u001b[0mLabelColumn\u001b[0m\u001b[0;34m(\u001b[0m\u001b[0;34m\u001b[0m\n",
      "\u001b[0;34m\u001b[0m    \u001b[0mname\u001b[0m\u001b[0;34m:\u001b[0m \u001b[0mstr\u001b[0m\u001b[0;34m,\u001b[0m\u001b[0;34m\u001b[0m\n",
      "\u001b[0;34m\u001b[0m    \u001b[0mseries\u001b[0m\u001b[0;34m:\u001b[0m \u001b[0mpandas\u001b[0m\u001b[0;34m.\u001b[0m\u001b[0mcore\u001b[0m\u001b[0;34m.\u001b[0m\u001b[0mseries\u001b[0m\u001b[0;34m.\u001b[0m\u001b[0mSeries\u001b[0m\u001b[0;34m,\u001b[0m\u001b[0;34m\u001b[0m\n",
      "\u001b[0;34m\u001b[0m    \u001b[0mpositive_label_values\u001b[0m\u001b[0;34m:\u001b[0m \u001b[0mUnion\u001b[0m\u001b[0;34m[\u001b[0m\u001b[0mAny\u001b[0m\u001b[0;34m,\u001b[0m \u001b[0mNoneType\u001b[0m\u001b[0;34m]\u001b[0m \u001b[0;34m=\u001b[0m \u001b[0;32mNone\u001b[0m\u001b[0;34m,\u001b[0m\u001b[0;34m\u001b[0m\n",
      "\u001b[0;34m\u001b[0m\u001b[0;34m)\u001b[0m\u001b[0;34m\u001b[0m\u001b[0;34m\u001b[0m\u001b[0m\n",
      "\u001b[0;31mDocstring:\u001b[0m      <no docstring>\n",
      "\u001b[0;31mInit docstring:\u001b[0m\n",
      "initialize the label column with name, data  and positive values\n",
      ":param data: data series for the label column\n",
      ":param positive_label_values: positive label values for target column\n",
      "\u001b[0;31mFile:\u001b[0m           ~/.conda/envs/data_science_on_aws/lib/python3.7/site-packages/smclarify/bias/report.py\n",
      "\u001b[0;31mType:\u001b[0m           type\n",
      "\u001b[0;31mSubclasses:\u001b[0m     \n"
     ]
    }
   ],
   "source": [
    "report.LabelColumn?"
   ]
  },
  {
   "cell_type": "code",
   "execution_count": 15,
   "metadata": {
    "collapsed": false,
    "jupyter": {
     "outputs_hidden": false
    },
    "pycharm": {
     "name": "#%%\n"
    }
   },
   "outputs": [],
   "source": [
    "facet_column = report.FacetColumn(name=\"product_category\")\n",
    "\n",
    "label_column = report.LabelColumn(\n",
    "    name=\"star_rating\", \n",
    "    series=df[\"star_rating\"], \n",
    "    positive_label_values=[5, 4]\n",
    ")"
   ]
  },
  {
   "cell_type": "markdown",
   "metadata": {},
   "source": [
    "## Run SageMaker Clarify Bias Report"
   ]
  },
  {
   "cell_type": "code",
   "execution_count": 16,
   "metadata": {
    "collapsed": false,
    "jupyter": {
     "outputs_hidden": false
    },
    "pycharm": {
     "name": "#%%\n"
    }
   },
   "outputs": [
    {
     "data": {
      "text/plain": [
       "[{'value_or_threshold': 'Gift Card',\n",
       "  'metrics': [{'name': 'CI',\n",
       "    'description': 'Class Imbalance (CI)',\n",
       "    'value': 0.268},\n",
       "   {'name': 'DPL',\n",
       "    'description': 'Difference in Positive Proportions in Labels (DPL)',\n",
       "    'value': -0.2903587250693834},\n",
       "   {'name': 'JS',\n",
       "    'description': 'Jensen-Shannon Divergence (JS)',\n",
       "    'value': 0.07302487542160971},\n",
       "   {'name': 'KL',\n",
       "    'description': 'Kullback-Liebler Divergence (KL)',\n",
       "    'value': 0.40503704219982173},\n",
       "   {'name': 'KS',\n",
       "    'description': 'Kolmogorov-Smirnov Distance (KS)',\n",
       "    'value': 0.2903587250693834},\n",
       "   {'name': 'LP', 'description': 'L-p Norm (LP)', 'value': 0.4106292469464828},\n",
       "   {'name': 'TVD',\n",
       "    'description': 'Total Variation Distance (TVD)',\n",
       "    'value': 0.2903587250693834}]},\n",
       " {'value_or_threshold': 'Digital_Software',\n",
       "  'metrics': [{'name': 'CI',\n",
       "    'description': 'Class Imbalance (CI)',\n",
       "    'value': 0.516},\n",
       "   {'name': 'DPL',\n",
       "    'description': 'Difference in Positive Proportions in Labels (DPL)',\n",
       "    'value': 0.24470660066726269},\n",
       "   {'name': 'JS',\n",
       "    'description': 'Jensen-Shannon Divergence (JS)',\n",
       "    'value': 0.03650665339798122},\n",
       "   {'name': 'KL',\n",
       "    'description': 'Kullback-Liebler Divergence (KL)',\n",
       "    'value': 0.13679937266160605},\n",
       "   {'name': 'KS',\n",
       "    'description': 'Kolmogorov-Smirnov Distance (KS)',\n",
       "    'value': 0.24470660066726269},\n",
       "   {'name': 'LP',\n",
       "    'description': 'L-p Norm (LP)',\n",
       "    'value': 0.34606739346585996},\n",
       "   {'name': 'TVD',\n",
       "    'description': 'Total Variation Distance (TVD)',\n",
       "    'value': 0.24470660066726269}]},\n",
       " {'value_or_threshold': 'Digital_Video_Games',\n",
       "  'metrics': [{'name': 'CI',\n",
       "    'description': 'Class Imbalance (CI)',\n",
       "    'value': 0.216},\n",
       "   {'name': 'DPL',\n",
       "    'description': 'Difference in Positive Proportions in Labels (DPL)',\n",
       "    'value': 0.0943541890440387},\n",
       "   {'name': 'JS',\n",
       "    'description': 'Jensen-Shannon Divergence (JS)',\n",
       "    'value': 0.0060255716641899396},\n",
       "   {'name': 'KL',\n",
       "    'description': 'Kullback-Liebler Divergence (KL)',\n",
       "    'value': 0.02316256787896634},\n",
       "   {'name': 'KS',\n",
       "    'description': 'Kolmogorov-Smirnov Distance (KS)',\n",
       "    'value': 0.0943541890440387},\n",
       "   {'name': 'LP',\n",
       "    'description': 'L-p Norm (LP)',\n",
       "    'value': 0.13343697381279443},\n",
       "   {'name': 'TVD',\n",
       "    'description': 'Total Variation Distance (TVD)',\n",
       "    'value': 0.0943541890440387}]}]"
      ]
     },
     "execution_count": 16,
     "metadata": {},
     "output_type": "execute_result"
    }
   ],
   "source": [
    "report.bias_report(\n",
    "    df=df, \n",
    "    facet_column=facet_column, \n",
    "    label_column=label_column, \n",
    "    stage_type=report.StageType.PRE_TRAINING, \n",
    "    metrics=[\"CI\", \"DPL\", \"KL\", \"JS\", \"LP\", \"TVD\", \"KS\"]\n",
    ")"
   ]
  },
  {
   "cell_type": "markdown",
   "metadata": {},
   "source": [
    "# Balance the data"
   ]
  },
  {
   "cell_type": "code",
   "execution_count": 17,
   "metadata": {},
   "outputs": [
    {
     "data": {
      "text/plain": [
       "(30, 2)"
      ]
     },
     "execution_count": 17,
     "metadata": {},
     "output_type": "execute_result"
    }
   ],
   "source": [
    "df_grouped_by = df.groupby([\"product_category\", \"star_rating\"])[[\"product_category\", \"star_rating\"]]\n",
    "df_balanced = df_grouped_by.apply(lambda x: x.sample(df_grouped_by.size().min()).reset_index(drop=True))\n",
    "df_balanced.shape"
   ]
  },
  {
   "cell_type": "code",
   "execution_count": 18,
   "metadata": {},
   "outputs": [
    {
     "data": {
      "text/plain": [
       "<matplotlib.axes._subplots.AxesSubplot at 0x7fdf89a88190>"
      ]
     },
     "execution_count": 18,
     "metadata": {},
     "output_type": "execute_result"
    },
    {
     "data": {
      "image/png": "[encoded data removed]",
      "text/plain": [
       "<Figure size 640x480 with 1 Axes>"
      ]
     },
     "metadata": {},
     "output_type": "display_data"
    }
   ],
   "source": [
    "import seaborn as sns\n",
    "\n",
    "sns.countplot(data=df_balanced, x=\"star_rating\", hue=\"product_category\")"
   ]
  },
  {
   "cell_type": "markdown",
   "metadata": {},
   "source": [
    "# Calculate Bias Metrics on Balanced Data"
   ]
  },
  {
   "cell_type": "markdown",
   "metadata": {},
   "source": [
    "## Define \n",
    "* Facet Column (= Product Category), \n",
    "* Label Column (= Star Rating), \n",
    "* Positive Label Value (= 5,4)"
   ]
  },
  {
   "cell_type": "code",
   "execution_count": 20,
   "metadata": {},
   "outputs": [],
   "source": [
    "from smclarify.bias import report\n",
    "\n",
    "facet_column = report.FacetColumn(name=\"product_category\")\n",
    "\n",
    "label_column = report.LabelColumn(\n",
    "    name=\"star_rating\", \n",
    "    series=df_balanced[\"star_rating\"], \n",
    "    positive_label_values=[5, 4]\n",
    ")"
   ]
  },
  {
   "cell_type": "markdown",
   "metadata": {},
   "source": [
    "## Run SageMaker Clarify Bias Report"
   ]
  },
  {
   "cell_type": "code",
   "execution_count": 21,
   "metadata": {},
   "outputs": [
    {
     "data": {
      "text/plain": [
       "[{'value_or_threshold': 'Digital_Software',\n",
       "  'metrics': [{'name': 'CI',\n",
       "    'description': 'Class Imbalance (CI)',\n",
       "    'value': 0.3333333333333333},\n",
       "   {'name': 'DPL',\n",
       "    'description': 'Difference in Positive Proportions in Labels (DPL)',\n",
       "    'value': 0.0},\n",
       "   {'name': 'JS',\n",
       "    'description': 'Jensen-Shannon Divergence (JS)',\n",
       "    'value': 0.0},\n",
       "   {'name': 'KL',\n",
       "    'description': 'Kullback-Liebler Divergence (KL)',\n",
       "    'value': 0.0},\n",
       "   {'name': 'KS',\n",
       "    'description': 'Kolmogorov-Smirnov Distance (KS)',\n",
       "    'value': 0.0},\n",
       "   {'name': 'LP', 'description': 'L-p Norm (LP)', 'value': 0.0},\n",
       "   {'name': 'TVD',\n",
       "    'description': 'Total Variation Distance (TVD)',\n",
       "    'value': 0.0}]},\n",
       " {'value_or_threshold': 'Digital_Video_Games',\n",
       "  'metrics': [{'name': 'CI',\n",
       "    'description': 'Class Imbalance (CI)',\n",
       "    'value': 0.3333333333333333},\n",
       "   {'name': 'DPL',\n",
       "    'description': 'Difference in Positive Proportions in Labels (DPL)',\n",
       "    'value': 0.0},\n",
       "   {'name': 'JS',\n",
       "    'description': 'Jensen-Shannon Divergence (JS)',\n",
       "    'value': 0.0},\n",
       "   {'name': 'KL',\n",
       "    'description': 'Kullback-Liebler Divergence (KL)',\n",
       "    'value': 0.0},\n",
       "   {'name': 'KS',\n",
       "    'description': 'Kolmogorov-Smirnov Distance (KS)',\n",
       "    'value': 0.0},\n",
       "   {'name': 'LP', 'description': 'L-p Norm (LP)', 'value': 0.0},\n",
       "   {'name': 'TVD',\n",
       "    'description': 'Total Variation Distance (TVD)',\n",
       "    'value': 0.0}]},\n",
       " {'value_or_threshold': 'Gift Card',\n",
       "  'metrics': [{'name': 'CI',\n",
       "    'description': 'Class Imbalance (CI)',\n",
       "    'value': 0.3333333333333333},\n",
       "   {'name': 'DPL',\n",
       "    'description': 'Difference in Positive Proportions in Labels (DPL)',\n",
       "    'value': 0.0},\n",
       "   {'name': 'JS',\n",
       "    'description': 'Jensen-Shannon Divergence (JS)',\n",
       "    'value': 0.0},\n",
       "   {'name': 'KL',\n",
       "    'description': 'Kullback-Liebler Divergence (KL)',\n",
       "    'value': 0.0},\n",
       "   {'name': 'KS',\n",
       "    'description': 'Kolmogorov-Smirnov Distance (KS)',\n",
       "    'value': 0.0},\n",
       "   {'name': 'LP', 'description': 'L-p Norm (LP)', 'value': 0.0},\n",
       "   {'name': 'TVD',\n",
       "    'description': 'Total Variation Distance (TVD)',\n",
       "    'value': 0.0}]}]"
      ]
     },
     "execution_count": 21,
     "metadata": {},
     "output_type": "execute_result"
    }
   ],
   "source": [
    "report.bias_report(\n",
    "    df=df_balanced, \n",
    "    facet_column=facet_column, \n",
    "    label_column=label_column, \n",
    "    stage_type=report.StageType.PRE_TRAINING, \n",
    "    metrics=[\"CI\", \"DPL\", \"KL\", \"JS\", \"LP\", \"TVD\", \"KS\"]\n",
    ")"
   ]
  },
  {
   "cell_type": "code",
   "execution_count": 22,
   "metadata": {},
   "outputs": [
    {
     "data": {
      "text/html": [
       "\n",
       "<p><b>Shutting down your kernel for this notebook to release resources.</b></p>\n",
       "<button class=\"sm-command-button\" data-commandlinker-command=\"kernelmenu:shutdown\" style=\"display:none;\">Shutdown Kernel</button>\n",
       "        \n",
       "<script>\n",
       "try {\n",
       "    els = document.getElementsByClassName(\"sm-command-button\");\n",
       "    els[0].click();\n",
       "}\n",
       "catch(err) {\n",
       "    // NoOp\n",
       "}    \n",
       "</script>\n"
      ],
      "text/plain": [
       "<IPython.core.display.HTML object>"
      ]
     },
     "metadata": {},
     "output_type": "display_data"
    }
   ],
   "source": [
    "%%html\n",
    "\n",
    "<p><b>Shutting down your kernel for this notebook to release resources.</b></p>\n",
    "<button class=\"sm-command-button\" data-commandlinker-command=\"kernelmenu:shutdown\" style=\"display:none;\">Shutdown Kernel</button>\n",
    "        \n",
    "<script>\n",
    "try {\n",
    "    els = document.getElementsByClassName(\"sm-command-button\");\n",
    "    els[0].click();\n",
    "}\n",
    "catch(err) {\n",
    "    // NoOp\n",
    "}    \n",
    "</script>"
   ]
  },
  {
   "cell_type": "code",
   "execution_count": 23,
   "metadata": {},
   "outputs": [
    {
     "data": {
      "application/javascript": "\ntry {\n    Jupyter.notebook.save_checkpoint();\n    Jupyter.notebook.session.delete();\n}\ncatch(err) {\n    // NoOp\n}\n",
      "text/plain": [
       "<IPython.core.display.Javascript object>"
      ]
     },
     "metadata": {},
     "output_type": "display_data"
    }
   ],
   "source": [
    "%%javascript\n",
    "\n",
    "try {\n",
    "    Jupyter.notebook.save_checkpoint();\n",
    "    Jupyter.notebook.session.delete();\n",
    "}\n",
    "catch(err) {\n",
    "    // NoOp\n",
    "}"
   ]
  }
 ],
 "metadata": {
  "instance_type": "ml.t3.medium",
  "kernelspec": {
   "display_name": "data_science_on_aws",
   "language": "python",
   "name": "python3"
  },
  "language_info": {
   "codemirror_mode": {
    "name": "ipython",
    "version": 3
   },
   "file_extension": ".py",
   "mimetype": "text/x-python",
   "name": "python",
   "nbconvert_exporter": "python",
   "pygments_lexer": "ipython3",
   "version": "3.7.16"
  }
 },
 "nbformat": 4,
 "nbformat_minor": 4
}
