{
 "cells": [
  {
   "cell_type": "markdown",
   "metadata": {},
   "source": [
    "# Query Data with AWS Data Wrangler"
   ]
  },
  {
   "cell_type": "markdown",
   "metadata": {},
   "source": [
    "**AWS Data Wrangler** is an open-source Python library that extends the power of the Pandas library to AWS connecting DataFrames and AWS data related services (Amazon Redshift, AWS Glue, Amazon Athena, Amazon EMR, Amazon QuickSight, etc).\n",
    "\n",
    "* https://github.com/awslabs/aws-data-wrangler\n",
    "* https://aws-data-wrangler.readthedocs.io\n",
    "\n",
    "Built on top of other open-source projects like Pandas, Apache Arrow, Boto3, s3fs, SQLAlchemy, Psycopg2 and PyMySQL, it offers abstracted functions to execute usual ETL tasks like load/unload data from Data Lakes, Data Warehouses and Databases.\n",
    "\n",
    "_Note that AWS Data Wrangler is simply a Python library that uses existing AWS Services.  AWS Data Wrangler is not a separate AWS Service.  You install AWS Data Wrangler through `pip install` as we will see next._"
   ]
  },
  {
   "cell_type": "markdown",
   "metadata": {},
   "source": [
    "# _Pre-Requisite: Make Sure You Created an Athena Table for Both TSV and Parquet in Previous Notebooks_"
   ]
  },
  {
   "cell_type": "code",
   "execution_count": 1,
   "metadata": {},
   "outputs": [],
   "source": [
    "%store -r ingest_create_athena_table_tsv_passed"
   ]
  },
  {
   "cell_type": "code",
   "execution_count": 2,
   "metadata": {},
   "outputs": [],
   "source": [
    "try:\n",
    "    ingest_create_athena_table_tsv_passed\n",
    "except NameError:\n",
    "    print(\"++++++++++++++++++++++++++++++++++++++++++++++\")\n",
    "    print(\"[ERROR] YOU HAVE TO RUN ALL PREVIOUS NOTEBOOKS.  You did not register the TSV Data.\")\n",
    "    print(\"++++++++++++++++++++++++++++++++++++++++++++++\")"
   ]
  },
  {
   "cell_type": "code",
   "execution_count": 3,
   "metadata": {},
   "outputs": [
    {
     "name": "stdout",
     "output_type": "stream",
     "text": [
      "True\n"
     ]
    }
   ],
   "source": [
    "print(ingest_create_athena_table_tsv_passed)"
   ]
  },
  {
   "cell_type": "code",
   "execution_count": 4,
   "metadata": {},
   "outputs": [
    {
     "name": "stdout",
     "output_type": "stream",
     "text": [
      "[OK]\n"
     ]
    }
   ],
   "source": [
    "if not ingest_create_athena_table_tsv_passed:\n",
    "    print(\"++++++++++++++++++++++++++++++++++++++++++++++\")\n",
    "    print(\"[ERROR] YOU HAVE TO RUN ALL PREVIOUS NOTEBOOKS.  You did not register the TSV Data.\")\n",
    "    print(\"++++++++++++++++++++++++++++++++++++++++++++++\")\n",
    "else:\n",
    "    print(\"[OK]\")"
   ]
  },
  {
   "cell_type": "code",
   "execution_count": 5,
   "metadata": {},
   "outputs": [],
   "source": [
    "%store -r ingest_create_athena_table_parquet_passed"
   ]
  },
  {
   "cell_type": "code",
   "execution_count": 6,
   "metadata": {},
   "outputs": [],
   "source": [
    "try:\n",
    "    ingest_create_athena_table_parquet_passed\n",
    "except NameError:\n",
    "    print(\"++++++++++++++++++++++++++++++++++++++++++++++\")\n",
    "    print(\"[ERROR] YOU HAVE TO RUN ALL PREVIOUS NOTEBOOKS.  You did not convert into Parquet data.\")\n",
    "    print(\"++++++++++++++++++++++++++++++++++++++++++++++\")"
   ]
  },
  {
   "cell_type": "code",
   "execution_count": 7,
   "metadata": {},
   "outputs": [
    {
     "name": "stdout",
     "output_type": "stream",
     "text": [
      "True\n"
     ]
    }
   ],
   "source": [
    "print(ingest_create_athena_table_parquet_passed)"
   ]
  },
  {
   "cell_type": "code",
   "execution_count": 8,
   "metadata": {},
   "outputs": [
    {
     "name": "stdout",
     "output_type": "stream",
     "text": [
      "[OK]\n"
     ]
    }
   ],
   "source": [
    "if not ingest_create_athena_table_parquet_passed:\n",
    "    print(\"++++++++++++++++++++++++++++++++++++++++++++++\")\n",
    "    print(\"[ERROR] YOU HAVE TO RUN ALL PREVIOUS NOTEBOOKS.  You did not convert into Parquet data.\")\n",
    "    print(\"++++++++++++++++++++++++++++++++++++++++++++++\")\n",
    "else:\n",
    "    print(\"[OK]\")"
   ]
  },
  {
   "cell_type": "markdown",
   "metadata": {},
   "source": [
    "# Setup"
   ]
  },
  {
   "cell_type": "code",
   "execution_count": 9,
   "metadata": {},
   "outputs": [],
   "source": [
    "import sagemaker\n",
    "import boto3\n",
    "\n",
    "sess = sagemaker.Session()\n",
    "bucket = sess.default_bucket()\n",
    "role = sagemaker.get_execution_role()\n",
    "region = boto3.Session().region_name\n",
    "\n",
    "sm = boto3.Session().client(service_name=\"sagemaker\", region_name=region)"
   ]
  },
  {
   "cell_type": "code",
   "execution_count": 10,
   "metadata": {},
   "outputs": [],
   "source": [
    "import awswrangler as wr"
   ]
  },
  {
   "cell_type": "markdown",
   "metadata": {},
   "source": [
    "# Query Parquet from S3 with Push-Down Filters\n",
    "\n",
    "Read Apache Parquet file(s) from from a received S3 prefix or list of S3 objects paths.\n",
    "\n",
    "The concept of Dataset goes beyond the simple idea of files and enable more complex features like partitioning and catalog integration (AWS Glue Catalog): \n",
    "\n",
    "_dataset (bool)_ – If True read a parquet dataset instead of simple file(s) loading all the related partitions as columns."
   ]
  },
  {
   "cell_type": "code",
   "execution_count": 11,
   "metadata": {},
   "outputs": [],
   "source": [
    "p_filter = lambda x: x[\"product_category\"] == \"Digital_Software\""
   ]
  },
  {
   "cell_type": "code",
   "execution_count": 12,
   "metadata": {},
   "outputs": [
    {
     "data": {
      "text/plain": [
       "(102084, 3)"
      ]
     },
     "execution_count": 12,
     "metadata": {},
     "output_type": "execute_result"
    }
   ],
   "source": [
    "path = \"s3://{}/amazon-reviews-pds/parquet/\".format(bucket)\n",
    "df_parquet_results = wr.s3.read_parquet(\n",
    "    path, columns=[\"star_rating\", \"product_category\", \"review_body\"], partition_filter=p_filter, dataset=True\n",
    ")\n",
    "df_parquet_results.shape"
   ]
  },
  {
   "cell_type": "code",
   "execution_count": 13,
   "metadata": {},
   "outputs": [
    {
     "data": {
      "text/html": [
       "<div>\n",
       "<style scoped>\n",
       "    .dataframe tbody tr th:only-of-type {\n",
       "        vertical-align: middle;\n",
       "    }\n",
       "\n",
       "    .dataframe tbody tr th {\n",
       "        vertical-align: top;\n",
       "    }\n",
       "\n",
       "    .dataframe thead th {\n",
       "        text-align: right;\n",
       "    }\n",
       "</style>\n",
       "<table border=\"1\" class=\"dataframe\">\n",
       "  <thead>\n",
       "    <tr style=\"text-align: right;\">\n",
       "      <th></th>\n",
       "      <th>star_rating</th>\n",
       "      <th>review_body</th>\n",
       "      <th>product_category</th>\n",
       "    </tr>\n",
       "  </thead>\n",
       "  <tbody>\n",
       "    <tr>\n",
       "      <th>0</th>\n",
       "      <td>4</td>\n",
       "      <td>QuickBooks is a good program but this version ...</td>\n",
       "      <td>Digital_Software</td>\n",
       "    </tr>\n",
       "    <tr>\n",
       "      <th>1</th>\n",
       "      <td>1</td>\n",
       "      <td>did not work. at all</td>\n",
       "      <td>Digital_Software</td>\n",
       "    </tr>\n",
       "    <tr>\n",
       "      <th>2</th>\n",
       "      <td>1</td>\n",
       "      <td>do not installe this it causes you computer to...</td>\n",
       "      <td>Digital_Software</td>\n",
       "    </tr>\n",
       "    <tr>\n",
       "      <th>3</th>\n",
       "      <td>5</td>\n",
       "      <td>So much of an improvement over the McAfee Anti...</td>\n",
       "      <td>Digital_Software</td>\n",
       "    </tr>\n",
       "    <tr>\n",
       "      <th>4</th>\n",
       "      <td>3</td>\n",
       "      <td>ok</td>\n",
       "      <td>Digital_Software</td>\n",
       "    </tr>\n",
       "  </tbody>\n",
       "</table>\n",
       "</div>"
      ],
      "text/plain": [
       "   star_rating                                        review_body  \\\n",
       "0            4  QuickBooks is a good program but this version ...   \n",
       "1            1                               did not work. at all   \n",
       "2            1  do not installe this it causes you computer to...   \n",
       "3            5  So much of an improvement over the McAfee Anti...   \n",
       "4            3                                                 ok   \n",
       "\n",
       "   product_category  \n",
       "0  Digital_Software  \n",
       "1  Digital_Software  \n",
       "2  Digital_Software  \n",
       "3  Digital_Software  \n",
       "4  Digital_Software  "
      ]
     },
     "execution_count": 13,
     "metadata": {},
     "output_type": "execute_result"
    }
   ],
   "source": [
    "df_parquet_results.head(5)"
   ]
  },
  {
   "cell_type": "markdown",
   "metadata": {},
   "source": [
    "# Query Parquet from S3 in Chunks"
   ]
  },
  {
   "cell_type": "markdown",
   "metadata": {},
   "source": [
    "Batching (chunked argument) (Memory Friendly):\n",
    "\n",
    "Will enable the function to return a Iterable of DataFrames instead of a regular DataFrame.\n",
    "\n",
    "There are two batching strategies on Wrangler:\n",
    "* If chunked=True, a new DataFrame will be returned for each file in your path/dataset.\n",
    "* If chunked=INTEGER, Wrangler will iterate on the data by number of rows equal to the received INTEGER.\n",
    "\n",
    "P.S. chunked=True if faster and uses less memory while chunked=INTEGER is more precise in number of rows for each Dataframe."
   ]
  },
  {
   "cell_type": "code",
   "execution_count": 14,
   "metadata": {},
   "outputs": [],
   "source": [
    "path = \"s3://{}/amazon-reviews-pds/parquet/\".format(bucket)\n",
    "chunk_iter = wr.s3.read_parquet(\n",
    "    path,\n",
    "    columns=[\"star_rating\", \"product_category\", \"review_body\"],\n",
    "    # filters=[(\"product_category\", \"=\", \"Digital_Software\")],\n",
    "    partition_filter=p_filter,\n",
    "    dataset=True,\n",
    "    chunked=True,\n",
    ")"
   ]
  },
  {
   "cell_type": "code",
   "execution_count": 15,
   "metadata": {
    "scrolled": true
   },
   "outputs": [
    {
     "name": "stdout",
     "output_type": "stream",
     "text": [
      "       star_rating                                        review_body  \\\n",
      "0                4  QuickBooks is a good program but this version ...   \n",
      "1                1                               did not work. at all   \n",
      "2                1  do not installe this it causes you computer to...   \n",
      "3                5  So much of an improvement over the McAfee Anti...   \n",
      "4                3                                                 ok   \n",
      "...            ...                                                ...   \n",
      "65531            5  Having just spent a MIND-BLOWING four days wit...   \n",
      "65532            5  I've always been afraid to do my own taxes due...   \n",
      "65533            5  It is exactly what I needed to get my photo's ...   \n",
      "65534            5  This is refined software compared to earlier v...   \n",
      "65535            2  If you need it on a immediate basis, do not or...   \n",
      "\n",
      "       product_category  \n",
      "0      Digital_Software  \n",
      "1      Digital_Software  \n",
      "2      Digital_Software  \n",
      "3      Digital_Software  \n",
      "4      Digital_Software  \n",
      "...                 ...  \n",
      "65531  Digital_Software  \n",
      "65532  Digital_Software  \n",
      "65533  Digital_Software  \n",
      "65534  Digital_Software  \n",
      "65535  Digital_Software  \n",
      "\n",
      "[65536 rows x 3 columns]\n"
     ]
    }
   ],
   "source": [
    "print(next(chunk_iter))"
   ]
  },
  {
   "cell_type": "markdown",
   "metadata": {},
   "source": [
    "# Query the Glue Catalog (ie. Hive Metastore)\n",
    "Get an iterator of tables."
   ]
  },
  {
   "cell_type": "code",
   "execution_count": 16,
   "metadata": {},
   "outputs": [],
   "source": [
    "database_name = \"dsoaws\"\n",
    "table_name_tsv = \"amazon_reviews_tsv\"\n",
    "table_name_parquet = \"amazon_reviews_parquet\""
   ]
  },
  {
   "cell_type": "code",
   "execution_count": 17,
   "metadata": {},
   "outputs": [
    {
     "name": "stdout",
     "output_type": "stream",
     "text": [
      "amazon_reviews_parquet\n",
      "amazon_reviews_tsv\n"
     ]
    }
   ],
   "source": [
    "for table in wr.catalog.get_tables(database=\"dsoaws\"):\n",
    "    print(table[\"Name\"])"
   ]
  },
  {
   "cell_type": "markdown",
   "metadata": {},
   "source": [
    "# Query from Athena\n",
    "Execute any SQL query on AWS Athena and return the results as a Pandas DataFrame.  \n"
   ]
  },
  {
   "cell_type": "code",
   "execution_count": 18,
   "metadata": {},
   "outputs": [
    {
     "name": "stdout",
     "output_type": "stream",
     "text": [
      "CPU times: user 598 ms, sys: 66.6 ms, total: 665 ms\n",
      "Wall time: 4.18 s\n"
     ]
    }
   ],
   "source": [
    "%%time\n",
    "df = wr.athena.read_sql_query(sql=\"SELECT * FROM {} LIMIT 5000\".format(table_name_parquet), database=database_name)"
   ]
  },
  {
   "cell_type": "code",
   "execution_count": 19,
   "metadata": {},
   "outputs": [
    {
     "data": {
      "text/html": [
       "<div>\n",
       "<style scoped>\n",
       "    .dataframe tbody tr th:only-of-type {\n",
       "        vertical-align: middle;\n",
       "    }\n",
       "\n",
       "    .dataframe tbody tr th {\n",
       "        vertical-align: top;\n",
       "    }\n",
       "\n",
       "    .dataframe thead th {\n",
       "        text-align: right;\n",
       "    }\n",
       "</style>\n",
       "<table border=\"1\" class=\"dataframe\">\n",
       "  <thead>\n",
       "    <tr style=\"text-align: right;\">\n",
       "      <th></th>\n",
       "      <th>marketplace</th>\n",
       "      <th>customer_id</th>\n",
       "      <th>review_id</th>\n",
       "      <th>product_id</th>\n",
       "      <th>product_parent</th>\n",
       "      <th>product_title</th>\n",
       "      <th>star_rating</th>\n",
       "      <th>helpful_votes</th>\n",
       "      <th>total_votes</th>\n",
       "      <th>vine</th>\n",
       "      <th>verified_purchase</th>\n",
       "      <th>review_headline</th>\n",
       "      <th>review_body</th>\n",
       "      <th>year</th>\n",
       "      <th>review_date</th>\n",
       "      <th>product_category</th>\n",
       "    </tr>\n",
       "  </thead>\n",
       "  <tbody>\n",
       "    <tr>\n",
       "      <th>0</th>\n",
       "      <td>US</td>\n",
       "      <td>10495702</td>\n",
       "      <td>R3TKUASN3SL16O</td>\n",
       "      <td>B00MEUPSXS</td>\n",
       "      <td>625882117</td>\n",
       "      <td>QuickBooks Premier 2015</td>\n",
       "      <td>4</td>\n",
       "      <td>1</td>\n",
       "      <td>1</td>\n",
       "      <td>N</td>\n",
       "      <td>Y</td>\n",
       "      <td>QuickBooks is a good program but this version ...</td>\n",
       "      <td>QuickBooks is a good program but this version ...</td>\n",
       "      <td>2015</td>\n",
       "      <td>2015-08-18</td>\n",
       "      <td>Digital_Software</td>\n",
       "    </tr>\n",
       "    <tr>\n",
       "      <th>1</th>\n",
       "      <td>US</td>\n",
       "      <td>9682914</td>\n",
       "      <td>RE85JCBUDBPKR</td>\n",
       "      <td>B00SG9ABQU</td>\n",
       "      <td>303901870</td>\n",
       "      <td>Pluto TV: 100+ Free Channels [Download]</td>\n",
       "      <td>1</td>\n",
       "      <td>0</td>\n",
       "      <td>0</td>\n",
       "      <td>N</td>\n",
       "      <td>Y</td>\n",
       "      <td>One Star</td>\n",
       "      <td>did not work. at all</td>\n",
       "      <td>2015</td>\n",
       "      <td>2015-08-18</td>\n",
       "      <td>Digital_Software</td>\n",
       "    </tr>\n",
       "    <tr>\n",
       "      <th>2</th>\n",
       "      <td>US</td>\n",
       "      <td>49441252</td>\n",
       "      <td>R2P2G6RSG65GCH</td>\n",
       "      <td>B00IT6HE5G</td>\n",
       "      <td>228166066</td>\n",
       "      <td>IObit Malware Fighter 2 Pro, 1 Year / 1 PC [Do...</td>\n",
       "      <td>1</td>\n",
       "      <td>0</td>\n",
       "      <td>0</td>\n",
       "      <td>N</td>\n",
       "      <td>Y</td>\n",
       "      <td>One Star</td>\n",
       "      <td>do not installe this it causes you computer to...</td>\n",
       "      <td>2015</td>\n",
       "      <td>2015-08-18</td>\n",
       "      <td>Digital_Software</td>\n",
       "    </tr>\n",
       "    <tr>\n",
       "      <th>3</th>\n",
       "      <td>US</td>\n",
       "      <td>49409661</td>\n",
       "      <td>R3IJOHVKU1YJZW</td>\n",
       "      <td>B00MHZ6Z64</td>\n",
       "      <td>249773946</td>\n",
       "      <td>Norton Security</td>\n",
       "      <td>5</td>\n",
       "      <td>0</td>\n",
       "      <td>0</td>\n",
       "      <td>N</td>\n",
       "      <td>Y</td>\n",
       "      <td>Stellar Performance and Protection</td>\n",
       "      <td>So much of an improvement over the McAfee Anti...</td>\n",
       "      <td>2015</td>\n",
       "      <td>2015-08-18</td>\n",
       "      <td>Digital_Software</td>\n",
       "    </tr>\n",
       "    <tr>\n",
       "      <th>4</th>\n",
       "      <td>US</td>\n",
       "      <td>19623397</td>\n",
       "      <td>R1M7N70CZFLU3J</td>\n",
       "      <td>B00SOJ3GMS</td>\n",
       "      <td>232333503</td>\n",
       "      <td>Unlimited Free VPN by betternet [Download]</td>\n",
       "      <td>3</td>\n",
       "      <td>0</td>\n",
       "      <td>0</td>\n",
       "      <td>N</td>\n",
       "      <td>Y</td>\n",
       "      <td>Three Stars</td>\n",
       "      <td>ok</td>\n",
       "      <td>2015</td>\n",
       "      <td>2015-08-18</td>\n",
       "      <td>Digital_Software</td>\n",
       "    </tr>\n",
       "  </tbody>\n",
       "</table>\n",
       "</div>"
      ],
      "text/plain": [
       "  marketplace customer_id       review_id  product_id product_parent  \\\n",
       "0          US    10495702  R3TKUASN3SL16O  B00MEUPSXS      625882117   \n",
       "1          US     9682914   RE85JCBUDBPKR  B00SG9ABQU      303901870   \n",
       "2          US    49441252  R2P2G6RSG65GCH  B00IT6HE5G      228166066   \n",
       "3          US    49409661  R3IJOHVKU1YJZW  B00MHZ6Z64      249773946   \n",
       "4          US    19623397  R1M7N70CZFLU3J  B00SOJ3GMS      232333503   \n",
       "\n",
       "                                       product_title  star_rating  \\\n",
       "0                            QuickBooks Premier 2015            4   \n",
       "1            Pluto TV: 100+ Free Channels [Download]            1   \n",
       "2  IObit Malware Fighter 2 Pro, 1 Year / 1 PC [Do...            1   \n",
       "3                                    Norton Security            5   \n",
       "4         Unlimited Free VPN by betternet [Download]            3   \n",
       "\n",
       "   helpful_votes  total_votes vine verified_purchase  \\\n",
       "0              1            1    N                 Y   \n",
       "1              0            0    N                 Y   \n",
       "2              0            0    N                 Y   \n",
       "3              0            0    N                 Y   \n",
       "4              0            0    N                 Y   \n",
       "\n",
       "                                     review_headline  \\\n",
       "0  QuickBooks is a good program but this version ...   \n",
       "1                                           One Star   \n",
       "2                                           One Star   \n",
       "3                 Stellar Performance and Protection   \n",
       "4                                        Three Stars   \n",
       "\n",
       "                                         review_body  year review_date  \\\n",
       "0  QuickBooks is a good program but this version ...  2015  2015-08-18   \n",
       "1                               did not work. at all  2015  2015-08-18   \n",
       "2  do not installe this it causes you computer to...  2015  2015-08-18   \n",
       "3  So much of an improvement over the McAfee Anti...  2015  2015-08-18   \n",
       "4                                                 ok  2015  2015-08-18   \n",
       "\n",
       "   product_category  \n",
       "0  Digital_Software  \n",
       "1  Digital_Software  \n",
       "2  Digital_Software  \n",
       "3  Digital_Software  \n",
       "4  Digital_Software  "
      ]
     },
     "execution_count": 19,
     "metadata": {},
     "output_type": "execute_result"
    }
   ],
   "source": [
    "df.head(5)"
   ]
  },
  {
   "cell_type": "markdown",
   "metadata": {},
   "source": [
    "# Query from Athena in Chunks\n",
    "Retrieving in chunks can help reduce memory requirements.  \n",
    "\n",
    "_This will take a few seconds._"
   ]
  },
  {
   "cell_type": "code",
   "execution_count": 20,
   "metadata": {},
   "outputs": [
    {
     "name": "stdout",
     "output_type": "stream",
     "text": [
      "CPU times: user 340 ms, sys: 46.5 ms, total: 386 ms\n",
      "Wall time: 3.16 s\n"
     ]
    }
   ],
   "source": [
    "%%time\n",
    "\n",
    "chunk_iter = wr.athena.read_sql_query(\n",
    "    sql=\"SELECT * FROM {} LIMIT 5000\".format(table_name_parquet),\n",
    "    database=\"{}\".format(database_name),\n",
    "    chunksize=64_000,  # 64 KB Chunks\n",
    ")"
   ]
  },
  {
   "cell_type": "code",
   "execution_count": 21,
   "metadata": {},
   "outputs": [
    {
     "name": "stdout",
     "output_type": "stream",
     "text": [
      "     marketplace customer_id       review_id  product_id product_parent  \\\n",
      "0             US    24371595  R27ZP1F1CD0C3Y  B004LLIL5A      346014806   \n",
      "1             US    42489718   RJ7RSBCHUDNNE  B004LLIKVU      473048287   \n",
      "2             US      861463  R1HVYBSKLQJI5S  B00IX1I3G6      926539283   \n",
      "3             US    10670435  R15H8E7WD6XD29  B004KNWX6C      763371347   \n",
      "4             US    48872127   RVN4P3RU4F8IE  BT00CTOYC0      506740729   \n",
      "...          ...         ...             ...         ...            ...   \n",
      "4995          US    38856386  R3OP3MS0XW63LE  B00XUUAB92      347974698   \n",
      "4996          US    11539371   RO7XUKMRN9C4O  B00AF0K82U      938949631   \n",
      "4997          US     5707810  R22Q4EAGD8800K  B00JDQLFZ6      775486538   \n",
      "4998          US    20337354  R32N8AE4S166QO  B00H5BM3L6       40124087   \n",
      "4999          US    11223211   RO15VF6YKA3VK  B00IX1I3G6      926539283   \n",
      "\n",
      "                                          product_title  star_rating  \\\n",
      "0                         Amazon eGift Card - Celebrate            5   \n",
      "1                                Amazon.com eGift Cards            5   \n",
      "2                   Amazon.com Gift Card Balance Reload            5   \n",
      "3                  Amazon Gift Card - Print - Celebrate            5   \n",
      "4     Amazon.com $15 Gift Card in a Greeting Card (A...            5   \n",
      "...                                                 ...          ...   \n",
      "4995  Amazon Gift Card - Print - Happy Father's Day ...            4   \n",
      "4996  Amazon.com Gift Card - Upload Your Photo (Prin...            5   \n",
      "4997  Amazon.com Gift Card in a Greeting Card (Vario...            5   \n",
      "4998  Amazon eGift Card - Belated Birthday Bird (Ani...            5   \n",
      "4999                Amazon.com Gift Card Balance Reload            5   \n",
      "\n",
      "      helpful_votes  total_votes vine verified_purchase  \\\n",
      "0                 0            0    N                 Y   \n",
      "1                 0            0    N                 Y   \n",
      "2                 0            0    N                 Y   \n",
      "3                 0            0    N                 Y   \n",
      "4                 0            0    N                 Y   \n",
      "...             ...          ...  ...               ...   \n",
      "4995              0            0    N                 Y   \n",
      "4996              0            0    N                 Y   \n",
      "4997              0            0    N                 Y   \n",
      "4998              0            0    N                 Y   \n",
      "4999              0            0    N                 Y   \n",
      "\n",
      "                                        review_headline  \\\n",
      "0                                            Five Stars   \n",
      "1     Gift card for the greatest selection of items ...   \n",
      "2                                            Five Stars   \n",
      "3                                            Five Stars   \n",
      "4                 Quick Solution for Forgotten Occasion   \n",
      "...                                                 ...   \n",
      "4995                         Prompt service from Amazon   \n",
      "4996                                         Saves time   \n",
      "4997                                          Thank you   \n",
      "4998                                        Outstanding   \n",
      "4999                                            Love it   \n",
      "\n",
      "                                            review_body  year review_date  \\\n",
      "0                Great birthday gift for a young adult.  2015  2015-08-31   \n",
      "1     It's an Amazon gift card and with over 9823983...  2015  2015-08-31   \n",
      "2                                                  Good  2015  2015-08-31   \n",
      "3                     Awesome way to send a gift card!!  2015  2015-08-31   \n",
      "4     I love that I have instant, helpful options wh...  2015  2015-08-31   \n",
      "...                                                 ...   ...         ...   \n",
      "4995  I appreciate the fact that the gift card arriv...  2015  2015-07-24   \n",
      "4996  Amazon saves my shopping time. Instead of driv...  2015  2015-07-24   \n",
      "4997                               Thank you. I got it.  2015  2015-07-24   \n",
      "4998  Perfect since my check and expensive card was ...  2015  2015-07-24   \n",
      "4999                    Reloads couldn't be any easier!  2015  2015-07-24   \n",
      "\n",
      "     product_category  \n",
      "0           Gift Card  \n",
      "1           Gift Card  \n",
      "2           Gift Card  \n",
      "3           Gift Card  \n",
      "4           Gift Card  \n",
      "...               ...  \n",
      "4995        Gift Card  \n",
      "4996        Gift Card  \n",
      "4997        Gift Card  \n",
      "4998        Gift Card  \n",
      "4999        Gift Card  \n",
      "\n",
      "[5000 rows x 16 columns]\n"
     ]
    }
   ],
   "source": [
    "print(next(chunk_iter))"
   ]
  },
  {
   "cell_type": "markdown",
   "metadata": {},
   "source": [
    "# Release Resources"
   ]
  },
  {
   "cell_type": "code",
   "execution_count": 22,
   "metadata": {},
   "outputs": [
    {
     "data": {
      "text/html": [
       "\n",
       "<p><b>Shutting down your kernel for this notebook to release resources.</b></p>\n",
       "<button class=\"sm-command-button\" data-commandlinker-command=\"kernelmenu:shutdown\" style=\"display:none;\">Shutdown Kernel</button>\n",
       "        \n",
       "<script>\n",
       "try {\n",
       "    els = document.getElementsByClassName(\"sm-command-button\");\n",
       "    els[0].click();\n",
       "}\n",
       "catch(err) {\n",
       "    // NoOp\n",
       "}    \n",
       "</script>\n"
      ],
      "text/plain": [
       "<IPython.core.display.HTML object>"
      ]
     },
     "metadata": {},
     "output_type": "display_data"
    }
   ],
   "source": [
    "%%html\n",
    "\n",
    "<p><b>Shutting down your kernel for this notebook to release resources.</b></p>\n",
    "<button class=\"sm-command-button\" data-commandlinker-command=\"kernelmenu:shutdown\" style=\"display:none;\">Shutdown Kernel</button>\n",
    "        \n",
    "<script>\n",
    "try {\n",
    "    els = document.getElementsByClassName(\"sm-command-button\");\n",
    "    els[0].click();\n",
    "}\n",
    "catch(err) {\n",
    "    // NoOp\n",
    "}    \n",
    "</script>"
   ]
  },
  {
   "cell_type": "code",
   "execution_count": 23,
   "metadata": {},
   "outputs": [
    {
     "data": {
      "application/javascript": "\ntry {\n    Jupyter.notebook.save_checkpoint();\n    Jupyter.notebook.session.delete();\n}\ncatch(err) {\n    // NoOp\n}\n",
      "text/plain": [
       "<IPython.core.display.Javascript object>"
      ]
     },
     "metadata": {},
     "output_type": "display_data"
    }
   ],
   "source": [
    "%%javascript\n",
    "\n",
    "try {\n",
    "    Jupyter.notebook.save_checkpoint();\n",
    "    Jupyter.notebook.session.delete();\n",
    "}\n",
    "catch(err) {\n",
    "    // NoOp\n",
    "}"
   ]
  }
 ],
 "metadata": {
  "instance_type": "ml.t3.medium",
  "kernelspec": {
   "display_name": "data_science_on_aws",
   "language": "python",
   "name": "python3"
  },
  "language_info": {
   "codemirror_mode": {
    "name": "ipython",
    "version": 3
   },
   "file_extension": ".py",
   "mimetype": "text/x-python",
   "name": "python",
   "nbconvert_exporter": "python",
   "pygments_lexer": "ipython3",
   "version": "3.7.16"
  }
 },
 "nbformat": 4,
 "nbformat_minor": 4
}
