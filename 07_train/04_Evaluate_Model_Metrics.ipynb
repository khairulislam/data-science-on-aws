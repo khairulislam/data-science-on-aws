{
 "cells": [
  {
   "cell_type": "markdown",
   "metadata": {},
   "source": [
    "# Evaluate Model with Amazon SageMaker Processing Jobs and Scikit-Learn\n",
    "\n",
    "Often, distributed data processing frameworks such as Scikit-Learn are used to pre-process data sets in order to prepare them for training.  \n",
    "\n",
    "In this notebook we'll use Amazon SageMaker Processing, and leverage the power of Scikit-Learn in a managed SageMaker environment to run our processing workload."
   ]
  },
  {
   "cell_type": "markdown",
   "metadata": {},
   "source": [
    "# NOTE:  THIS NOTEBOOK WILL TAKE A 5-10 MINUTES TO COMPLETE.\n",
    "\n",
    "# PLEASE BE PATIENT."
   ]
  },
  {
   "cell_type": "markdown",
   "metadata": {},
   "source": [
    "![](img/prepare_dataset_bert.png)\n",
    "\n",
    "![](img/processing.jpg)"
   ]
  },
  {
   "cell_type": "markdown",
   "metadata": {},
   "source": [
    "## Contents\n",
    "\n",
    "1. Setup Environment\n",
    "1. Setup Input Data\n",
    "1. Setup Output Data\n",
    "1. Build a Spark container for running the processing job\n",
    "1. Run the Processing Job using Amazon SageMaker\n",
    "1. Inspect the Processed Output Data"
   ]
  },
  {
   "cell_type": "markdown",
   "metadata": {},
   "source": [
    "# Setup Environment\n",
    "\n",
    "Let's start by specifying:\n",
    "* The S3 bucket and prefixes that you use for training and model data. Use the default bucket specified by the Amazon SageMaker session.\n",
    "* The IAM role ARN used to give processing and training access to the dataset."
   ]
  },
  {
   "cell_type": "code",
   "execution_count": 1,
   "metadata": {
    "scrolled": true
   },
   "outputs": [],
   "source": [
    "import sagemaker\n",
    "import boto3\n",
    "\n",
    "sess = sagemaker.Session()\n",
    "role = sagemaker.get_execution_role()\n",
    "bucket = sess.default_bucket()\n",
    "region = boto3.Session().region_name\n",
    "\n",
    "sm = boto3.Session().client(service_name=\"sagemaker\", region_name=region)"
   ]
  },
  {
   "cell_type": "code",
   "execution_count": 2,
   "metadata": {},
   "outputs": [],
   "source": [
    "%store -r training_job_name"
   ]
  },
  {
   "cell_type": "code",
   "execution_count": 3,
   "metadata": {},
   "outputs": [
    {
     "name": "stdout",
     "output_type": "stream",
     "text": [
      "[OK]\n"
     ]
    }
   ],
   "source": [
    "try:\n",
    "    training_job_name\n",
    "    print(\"[OK]\")\n",
    "except NameError:\n",
    "    print(\"+++++++++++++++++++++++++++++++\")\n",
    "    print(\"[ERROR] Please run the notebooks in the previous TRAIN section before you continue.\")\n",
    "    print(\"+++++++++++++++++++++++++++++++\")"
   ]
  },
  {
   "cell_type": "code",
   "execution_count": 4,
   "metadata": {},
   "outputs": [
    {
     "name": "stdout",
     "output_type": "stream",
     "text": [
      "tensorflow-training-2024-03-03-04-02-13-539\n"
     ]
    }
   ],
   "source": [
    "print(training_job_name)"
   ]
  },
  {
   "cell_type": "code",
   "execution_count": 5,
   "metadata": {},
   "outputs": [],
   "source": [
    "%store -r raw_input_data_s3_uri"
   ]
  },
  {
   "cell_type": "code",
   "execution_count": 6,
   "metadata": {},
   "outputs": [],
   "source": [
    "try:\n",
    "    raw_input_data_s3_uri\n",
    "except NameError:\n",
    "    print(\"++++++++++++++++++++++++++++++++++++++++++++++++++++++++++++++++++++++++++++\")\n",
    "    print(\"[ERROR] Please run the notebooks in the PREPARE section before you continue.\")\n",
    "    print(\"++++++++++++++++++++++++++++++++++++++++++++++++++++++++++++++++++++++++++++\")"
   ]
  },
  {
   "cell_type": "code",
   "execution_count": 7,
   "metadata": {},
   "outputs": [
    {
     "name": "stdout",
     "output_type": "stream",
     "text": [
      "s3://sagemaker-us-east-1-211125778552/amazon-reviews-pds/tsv/\n"
     ]
    }
   ],
   "source": [
    "print(raw_input_data_s3_uri)"
   ]
  },
  {
   "cell_type": "code",
   "execution_count": 8,
   "metadata": {},
   "outputs": [],
   "source": [
    "%store -r max_seq_length"
   ]
  },
  {
   "cell_type": "code",
   "execution_count": 9,
   "metadata": {},
   "outputs": [
    {
     "name": "stdout",
     "output_type": "stream",
     "text": [
      "[OK]\n"
     ]
    }
   ],
   "source": [
    "try:\n",
    "    max_seq_length\n",
    "    print(\"[OK]\")\n",
    "except NameError:\n",
    "    print(\"+++++++++++++++++++++++++++++++\")\n",
    "    print(\"[ERROR] Please run the notebooks in the previous TRAIN section before you continue.\")\n",
    "    print(\"+++++++++++++++++++++++++++++++\")"
   ]
  },
  {
   "cell_type": "code",
   "execution_count": 10,
   "metadata": {},
   "outputs": [
    {
     "name": "stdout",
     "output_type": "stream",
     "text": [
      "64\n"
     ]
    }
   ],
   "source": [
    "print(max_seq_length)"
   ]
  },
  {
   "cell_type": "code",
   "execution_count": 11,
   "metadata": {},
   "outputs": [],
   "source": [
    "%store -r experiment_name"
   ]
  },
  {
   "cell_type": "code",
   "execution_count": 12,
   "metadata": {},
   "outputs": [
    {
     "name": "stdout",
     "output_type": "stream",
     "text": [
      "[OK]\n"
     ]
    }
   ],
   "source": [
    "try:\n",
    "    experiment_name\n",
    "    print(\"[OK]\")\n",
    "except NameError:\n",
    "    print(\"+++++++++++++++++++++++++++++++\")\n",
    "    print(\"[ERROR] Please run the notebooks in the previous TRAIN section before you continue.\")\n",
    "    print(\"+++++++++++++++++++++++++++++++\")"
   ]
  },
  {
   "cell_type": "code",
   "execution_count": 13,
   "metadata": {},
   "outputs": [
    {
     "name": "stdout",
     "output_type": "stream",
     "text": [
      "Amazon-Customer-Reviews-BERT-Experiment-1709436495\n"
     ]
    }
   ],
   "source": [
    "print(experiment_name)"
   ]
  },
  {
   "cell_type": "code",
   "execution_count": 14,
   "metadata": {},
   "outputs": [],
   "source": [
    "%store -r trial_name"
   ]
  },
  {
   "cell_type": "code",
   "execution_count": 15,
   "metadata": {},
   "outputs": [
    {
     "name": "stdout",
     "output_type": "stream",
     "text": [
      "[OK]\n"
     ]
    }
   ],
   "source": [
    "try:\n",
    "    trial_name\n",
    "    print(\"[OK]\")\n",
    "except NameError:\n",
    "    print(\"+++++++++++++++++++++++++++++++\")\n",
    "    print(\"[ERROR] Please run the notebooks in the previous TRAIN section before you continue.\")\n",
    "    print(\"+++++++++++++++++++++++++++++++\")"
   ]
  },
  {
   "cell_type": "code",
   "execution_count": 16,
   "metadata": {},
   "outputs": [
    {
     "name": "stdout",
     "output_type": "stream",
     "text": [
      "trial-1709436495\n"
     ]
    }
   ],
   "source": [
    "print(trial_name)"
   ]
  },
  {
   "cell_type": "code",
   "execution_count": 17,
   "metadata": {},
   "outputs": [
    {
     "name": "stdout",
     "output_type": "stream",
     "text": [
      "tensorflow-training-2024-03-03-04-02-13-539\n"
     ]
    }
   ],
   "source": [
    "print(training_job_name)"
   ]
  },
  {
   "cell_type": "code",
   "execution_count": 18,
   "metadata": {
    "scrolled": true
   },
   "outputs": [
    {
     "name": "stdout",
     "output_type": "stream",
     "text": [
      "{'TrainingJobName': 'tensorflow-training-2024-03-03-04-02-13-539', 'TrainingJobArn': 'arn:aws:sagemaker:us-east-1:211125778552:training-job/tensorflow-training-2024-03-03-04-02-13-539', 'ModelArtifacts': {'S3ModelArtifacts': 's3://sagemaker-us-east-1-211125778552/tensorflow-training-2024-03-03-04-02-13-539/output/model.tar.gz'}, 'TrainingJobStatus': 'Completed', 'SecondaryStatus': 'Completed', 'HyperParameters': {'enable_checkpointing': 'false', 'enable_sagemaker_debugger': 'true', 'enable_tensorboard': 'true', 'epochs': '2', 'epsilon': '1e-08', 'freeze_bert_layer': 'false', 'learning_rate': '1e-05', 'max_seq_length': '64', 'model_dir': '\"s3://sagemaker-us-east-1-211125778552/tensorflow-training-2024-03-03-04-02-13-539/model\"', 'run_sample_predictions': 'true', 'run_test': 'true', 'run_validation': 'true', 'sagemaker_container_log_level': '20', 'sagemaker_job_name': '\"tensorflow-training-2024-03-03-04-02-13-539\"', 'sagemaker_program': '\"tf_bert_reviews.py\"', 'sagemaker_region': '\"us-east-1\"', 'sagemaker_submit_directory': '\"s3://sagemaker-us-east-1-211125778552/tensorflow-training-2024-03-03-04-02-13-539/source/sourcedir.tar.gz\"', 'test_batch_size': '128', 'test_steps': '100', 'train_batch_size': '128', 'train_steps_per_epoch': '100', 'use_amp': 'true', 'use_xla': 'true', 'validation_batch_size': '128', 'validation_steps': '100'}, 'AlgorithmSpecification': {'TrainingImage': '763104351884.dkr.ecr.us-east-1.amazonaws.com/tensorflow-training:2.3.1-cpu-py37', 'TrainingInputMode': 'File', 'MetricDefinitions': [{'Name': 'train:loss', 'Regex': 'loss: ([0-9\\\\.]+)'}, {'Name': 'train:accuracy', 'Regex': 'accuracy: ([0-9\\\\.]+)'}, {'Name': 'validation:loss', 'Regex': 'val_loss: ([0-9\\\\.]+)'}, {'Name': 'validation:accuracy', 'Regex': 'val_accuracy: ([0-9\\\\.]+)'}], 'EnableSageMakerMetricsTimeSeries': True}, 'RoleArn': 'arn:aws:iam::211125778552:role/service-role/AmazonSageMaker-ExecutionRole-20240215T152311', 'InputDataConfig': [{'ChannelName': 'train', 'DataSource': {'S3DataSource': {'S3DataType': 'S3Prefix', 'S3Uri': 's3://sagemaker-us-east-1-211125778552/sagemaker-scikit-learn-2024-03-03-03-46-55-548/output/bert-train', 'S3DataDistributionType': 'ShardedByS3Key'}}, 'CompressionType': 'None', 'RecordWrapperType': 'None'}, {'ChannelName': 'validation', 'DataSource': {'S3DataSource': {'S3DataType': 'S3Prefix', 'S3Uri': 's3://sagemaker-us-east-1-211125778552/sagemaker-scikit-learn-2024-03-03-03-46-55-548/output/bert-validation', 'S3DataDistributionType': 'ShardedByS3Key'}}, 'CompressionType': 'None', 'RecordWrapperType': 'None'}, {'ChannelName': 'test', 'DataSource': {'S3DataSource': {'S3DataType': 'S3Prefix', 'S3Uri': 's3://sagemaker-us-east-1-211125778552/sagemaker-scikit-learn-2024-03-03-03-46-55-548/output/bert-test', 'S3DataDistributionType': 'ShardedByS3Key'}}, 'CompressionType': 'None', 'RecordWrapperType': 'None'}], 'OutputDataConfig': {'KmsKeyId': '', 'S3OutputPath': 's3://sagemaker-us-east-1-211125778552/', 'CompressionType': 'GZIP'}, 'ResourceConfig': {'InstanceType': 'ml.c4.2xlarge', 'InstanceCount': 1, 'VolumeSizeInGB': 1024}, 'StoppingCondition': {'MaxRuntimeInSeconds': 86400}, 'CreationTime': datetime.datetime(2024, 3, 3, 4, 2, 15, 501000, tzinfo=tzlocal()), 'TrainingStartTime': datetime.datetime(2024, 3, 3, 4, 3, 11, 199000, tzinfo=tzlocal()), 'TrainingEndTime': datetime.datetime(2024, 3, 3, 5, 11, 51, 219000, tzinfo=tzlocal()), 'LastModifiedTime': datetime.datetime(2024, 3, 3, 5, 12, 9, 934000, tzinfo=tzlocal()), 'SecondaryStatusTransitions': [{'Status': 'Starting', 'StartTime': datetime.datetime(2024, 3, 3, 4, 2, 15, 501000, tzinfo=tzlocal()), 'EndTime': datetime.datetime(2024, 3, 3, 4, 3, 11, 199000, tzinfo=tzlocal()), 'StatusMessage': 'Preparing the instances for training'}, {'Status': 'Downloading', 'StartTime': datetime.datetime(2024, 3, 3, 4, 3, 11, 199000, tzinfo=tzlocal()), 'EndTime': datetime.datetime(2024, 3, 3, 4, 4, 12, 110000, tzinfo=tzlocal()), 'StatusMessage': 'Downloading the training image'}, {'Status': 'Training', 'StartTime': datetime.datetime(2024, 3, 3, 4, 4, 12, 110000, tzinfo=tzlocal()), 'EndTime': datetime.datetime(2024, 3, 3, 5, 11, 25, 700000, tzinfo=tzlocal()), 'StatusMessage': 'Training image download completed. Training in progress.'}, {'Status': 'Uploading', 'StartTime': datetime.datetime(2024, 3, 3, 5, 11, 25, 700000, tzinfo=tzlocal()), 'EndTime': datetime.datetime(2024, 3, 3, 5, 11, 51, 219000, tzinfo=tzlocal()), 'StatusMessage': 'Uploading generated training model'}, {'Status': 'Completed', 'StartTime': datetime.datetime(2024, 3, 3, 5, 11, 51, 219000, tzinfo=tzlocal()), 'EndTime': datetime.datetime(2024, 3, 3, 5, 11, 51, 219000, tzinfo=tzlocal()), 'StatusMessage': 'Training job completed'}], 'FinalMetricDataList': [{'MetricName': 'train:loss', 'Value': 1.4316999912261963, 'Timestamp': datetime.datetime(2024, 3, 3, 5, 6, 49, tzinfo=tzlocal())}, {'MetricName': 'train:accuracy', 'Value': 0.48910000920295715, 'Timestamp': datetime.datetime(2024, 3, 3, 5, 6, 49, tzinfo=tzlocal())}, {'MetricName': 'validation:loss', 'Value': 1.437600016593933, 'Timestamp': datetime.datetime(2024, 3, 3, 4, 59, 53, tzinfo=tzlocal())}, {'MetricName': 'validation:accuracy', 'Value': 0.4708000123500824, 'Timestamp': datetime.datetime(2024, 3, 3, 4, 59, 53, tzinfo=tzlocal())}], 'EnableNetworkIsolation': False, 'EnableInterContainerTrafficEncryption': False, 'EnableManagedSpotTraining': False, 'CheckpointConfig': {'S3Uri': 's3://sagemaker-us-east-1-211125778552/checkpoints/c359d1a6-c0d9-44ff-ad0b-f688921ba027/'}, 'TrainingTimeInSeconds': 4120, 'BillableTimeInSeconds': 4120, 'DebugHookConfig': {'S3OutputPath': 's3://sagemaker-us-east-1-211125778552/', 'HookParameters': {'export_tensorboard': 'true', 'save_interval': '10', 'tensorboard_dir': 'hook_tensorboard/'}, 'CollectionConfigurations': []}, 'ExperimentConfig': {'ExperimentName': 'Amazon-Customer-Reviews-BERT-Experiment-1709436495', 'TrialName': 'trial-1709436495', 'TrialComponentDisplayName': 'train'}, 'ProfilerConfig': {'S3OutputPath': 's3://sagemaker-us-east-1-211125778552/', 'ProfilingIntervalInMilliseconds': 500, 'ProfilingParameters': {'DataloaderProfilingConfig': '{\"StartStep\": 5, \"NumSteps\": 10, \"MetricsRegex\": \".*\", }', 'DetailedProfilingConfig': '{\"StartStep\": 5, \"NumSteps\": 10, }', 'FileOpenFailThreshold': '50', 'HorovodProfilingConfig': '{\"StartStep\": 5, \"NumSteps\": 10, }', 'LocalPath': '/opt/ml/output/profiler/', 'PythonProfilingConfig': '{\"StartStep\": 5, \"NumSteps\": 10, \"ProfilerName\": \"cprofile\", \"cProfileTimer\": \"total_time\", }', 'RotateFileCloseIntervalInSeconds': '60', 'RotateMaxFileSizeInBytes': '10485760', 'SMDataParallelProfilingConfig': '{\"StartStep\": 5, \"NumSteps\": 10, }'}, 'DisableProfiler': False}, 'ProfilerRuleConfigurations': [{'RuleConfigurationName': 'ProfilerReport', 'RuleEvaluatorImage': '503895931360.dkr.ecr.us-east-1.amazonaws.com/sagemaker-debugger-rules:latest', 'VolumeSizeInGB': 0, 'RuleParameters': {'rule_to_invoke': 'ProfilerReport'}}], 'ProfilerRuleEvaluationStatuses': [{'RuleConfigurationName': 'ProfilerReport', 'RuleEvaluationJobArn': 'arn:aws:sagemaker:us-east-1:211125778552:processing-job/tensorflow-training-2024-0-ProfilerReport-386bd5c2', 'RuleEvaluationStatus': 'NoIssuesFound', 'LastModifiedTime': datetime.datetime(2024, 3, 3, 5, 12, 9, 930000, tzinfo=tzlocal())}], 'ProfilingStatus': 'Enabled', 'ResponseMetadata': {'RequestId': 'cff6fb49-33d0-4bb3-8b71-cae7679bc5f5', 'HTTPStatusCode': 200, 'HTTPHeaders': {'x-amzn-requestid': 'cff6fb49-33d0-4bb3-8b71-cae7679bc5f5', 'content-type': 'application/x-amz-json-1.1', 'content-length': '6658', 'date': 'Wed, 06 Mar 2024 15:39:18 GMT'}, 'RetryAttempts': 0}}\n"
     ]
    }
   ],
   "source": [
    "from sagemaker.tensorflow.estimator import TensorFlow\n",
    "\n",
    "describe_training_job_response = sm.describe_training_job(TrainingJobName=training_job_name)\n",
    "print(describe_training_job_response)"
   ]
  },
  {
   "cell_type": "code",
   "execution_count": 19,
   "metadata": {},
   "outputs": [
    {
     "data": {
      "text/plain": [
       "'s3://sagemaker-us-east-1-211125778552/tensorflow-training-2024-03-03-04-02-13-539/output/'"
      ]
     },
     "execution_count": 19,
     "metadata": {},
     "output_type": "execute_result"
    }
   ],
   "source": [
    "model_dir_s3_uri = describe_training_job_response[\"ModelArtifacts\"][\"S3ModelArtifacts\"].replace(\"model.tar.gz\", \"\")\n",
    "model_dir_s3_uri"
   ]
  },
  {
   "cell_type": "markdown",
   "metadata": {},
   "source": [
    "# Run the Processing Job using Amazon SageMaker\n",
    "\n",
    "Next, use the Amazon SageMaker Python SDK to submit a processing job using our custom python script."
   ]
  },
  {
   "cell_type": "markdown",
   "metadata": {},
   "source": [
    "# Create the `Experiment Config`"
   ]
  },
  {
   "cell_type": "code",
   "execution_count": 20,
   "metadata": {},
   "outputs": [],
   "source": [
    "experiment_config = {\n",
    "    \"ExperimentName\": experiment_name,\n",
    "    \"TrialName\": trial_name,\n",
    "    \"TrialComponentDisplayName\": \"evaluate\",\n",
    "}"
   ]
  },
  {
   "cell_type": "markdown",
   "metadata": {},
   "source": [
    "# Set the Processing Job Hyper-Parameters "
   ]
  },
  {
   "cell_type": "code",
   "execution_count": 21,
   "metadata": {
    "scrolled": true
   },
   "outputs": [],
   "source": [
    "processing_instance_type = \"ml.m5.xlarge\"\n",
    "processing_instance_count = 1"
   ]
  },
  {
   "cell_type": "markdown",
   "metadata": {},
   "source": [
    "# Choosing a `max_seq_length` for BERT\n",
    "Since a smaller `max_seq_length` leads to faster training and lower resource utilization, we want to find the smallest review length that captures `80%` of our reviews.\n",
    "\n",
    "Remember our distribution of review lengths from a previous section?\n",
    "\n",
    "```\n",
    "mean         51.683405\n",
    "std         107.030844\n",
    "min           1.000000\n",
    "10%           2.000000\n",
    "20%           7.000000\n",
    "30%          19.000000\n",
    "40%          22.000000\n",
    "50%          26.000000\n",
    "60%          32.000000\n",
    "70%          43.000000\n",
    "80%          63.000000\n",
    "90%         110.000000\n",
    "100%       5347.000000\n",
    "max        5347.000000\n",
    "```\n",
    "\n",
    "![](img/review_word_count_distribution.png)\n",
    "\n",
    "Review length `63` represents the `80th` percentile for this dataset.  However, it's best to stick with powers-of-2 when using BERT.  So let's choose `64` as this is the smallest power-of-2 greater than `63`.  Reviews with length > `64` will be truncated to `64`."
   ]
  },
  {
   "cell_type": "code",
   "execution_count": 22,
   "metadata": {
    "scrolled": true
   },
   "outputs": [],
   "source": [
    "from sagemaker.sklearn.processing import SKLearnProcessor\n",
    "\n",
    "processor = SKLearnProcessor(\n",
    "    framework_version=\"0.23-1\",\n",
    "    role=role,\n",
    "    instance_type=processing_instance_type,\n",
    "    instance_count=processing_instance_count,\n",
    "    max_runtime_in_seconds=7200,\n",
    ")"
   ]
  },
  {
   "cell_type": "code",
   "execution_count": 23,
   "metadata": {},
   "outputs": [
    {
     "name": "stdout",
     "output_type": "stream",
     "text": [
      "\n",
      "Job Name:  sagemaker-scikit-learn-2024-03-06-15-39-19-291\n",
      "Inputs:  [{'InputName': 'model-tar-s3-uri', 'AppManaged': False, 'S3Input': {'S3Uri': 's3://sagemaker-us-east-1-211125778552/tensorflow-training-2024-03-03-04-02-13-539/output/', 'LocalPath': '/opt/ml/processing/input/model/', 'S3DataType': 'S3Prefix', 'S3InputMode': 'File', 'S3DataDistributionType': 'FullyReplicated', 'S3CompressionType': 'None'}}, {'InputName': 'evaluation-data-s3-uri', 'AppManaged': False, 'S3Input': {'S3Uri': 's3://sagemaker-us-east-1-211125778552/amazon-reviews-pds/tsv/', 'LocalPath': '/opt/ml/processing/input/data/', 'S3DataType': 'S3Prefix', 'S3InputMode': 'File', 'S3DataDistributionType': 'FullyReplicated', 'S3CompressionType': 'None'}}, {'InputName': 'code', 'AppManaged': False, 'S3Input': {'S3Uri': 's3://sagemaker-us-east-1-211125778552/sagemaker-scikit-learn-2024-03-06-15-39-19-291/input/code/evaluate_model_metrics.py', 'LocalPath': '/opt/ml/processing/input/code', 'S3DataType': 'S3Prefix', 'S3InputMode': 'File', 'S3DataDistributionType': 'FullyReplicated', 'S3CompressionType': 'None'}}]\n",
      "Outputs:  [{'OutputName': 'metrics', 'AppManaged': False, 'S3Output': {'S3Uri': 's3://sagemaker-us-east-1-211125778552/sagemaker-scikit-learn-2024-03-06-15-39-19-291/output/metrics', 'LocalPath': '/opt/ml/processing/output/metrics', 'S3UploadMode': 'EndOfJob'}}]\n"
     ]
    }
   ],
   "source": [
    "from sagemaker.processing import ProcessingInput, ProcessingOutput\n",
    "\n",
    "processor.run(\n",
    "    code=\"evaluate_model_metrics.py\",\n",
    "    inputs=[\n",
    "        ProcessingInput(\n",
    "            input_name=\"model-tar-s3-uri\", source=model_dir_s3_uri, destination=\"/opt/ml/processing/input/model/\"\n",
    "        ),\n",
    "        ProcessingInput(\n",
    "            input_name=\"evaluation-data-s3-uri\",\n",
    "            source=raw_input_data_s3_uri,\n",
    "            destination=\"/opt/ml/processing/input/data/\",\n",
    "        ),\n",
    "    ],\n",
    "    outputs=[\n",
    "        ProcessingOutput(s3_upload_mode=\"EndOfJob\", output_name=\"metrics\", source=\"/opt/ml/processing/output/metrics\"),\n",
    "    ],\n",
    "    arguments=[\"--max-seq-length\", str(max_seq_length)],\n",
    "    experiment_config=experiment_config,\n",
    "    logs=True,\n",
    "    wait=False,\n",
    ")"
   ]
  },
  {
   "cell_type": "code",
   "execution_count": 24,
   "metadata": {
    "scrolled": true
   },
   "outputs": [
    {
     "name": "stdout",
     "output_type": "stream",
     "text": [
      "sagemaker-scikit-learn-2024-03-06-15-39-19-291\n"
     ]
    }
   ],
   "source": [
    "scikit_processing_job_name = processor.jobs[-1].describe()[\"ProcessingJobName\"]\n",
    "print(scikit_processing_job_name)"
   ]
  },
  {
   "cell_type": "code",
   "execution_count": 25,
   "metadata": {
    "scrolled": true
   },
   "outputs": [
    {
     "data": {
      "text/html": [
       "<b>Review <a target=\"blank\" href=\"https://console.aws.amazon.com/sagemaker/home?region=us-east-1#/processing-jobs/sagemaker-scikit-learn-2024-03-06-15-39-19-291\">Processing Job</a></b>"
      ],
      "text/plain": [
       "<IPython.core.display.HTML object>"
      ]
     },
     "metadata": {},
     "output_type": "display_data"
    }
   ],
   "source": [
    "from IPython.core.display import display, HTML\n",
    "\n",
    "display(\n",
    "    HTML(\n",
    "        '<b>Review <a target=\"blank\" href=\"https://console.aws.amazon.com/sagemaker/home?region={}#/processing-jobs/{}\">Processing Job</a></b>'.format(\n",
    "            region, scikit_processing_job_name\n",
    "        )\n",
    "    )\n",
    ")"
   ]
  },
  {
   "cell_type": "code",
   "execution_count": 26,
   "metadata": {
    "scrolled": true
   },
   "outputs": [
    {
     "data": {
      "text/html": [
       "<b>Review <a target=\"blank\" href=\"https://console.aws.amazon.com/cloudwatch/home?region=us-east-1#logStream:group=/aws/sagemaker/ProcessingJobs;prefix=sagemaker-scikit-learn-2024-03-06-15-39-19-291;streamFilter=typeLogStreamPrefix\">CloudWatch Logs</a> After About 5 Minutes</b>"
      ],
      "text/plain": [
       "<IPython.core.display.HTML object>"
      ]
     },
     "metadata": {},
     "output_type": "display_data"
    }
   ],
   "source": [
    "from IPython.core.display import display, HTML\n",
    "\n",
    "display(\n",
    "    HTML(\n",
    "        '<b>Review <a target=\"blank\" href=\"https://console.aws.amazon.com/cloudwatch/home?region={}#logStream:group=/aws/sagemaker/ProcessingJobs;prefix={};streamFilter=typeLogStreamPrefix\">CloudWatch Logs</a> After About 5 Minutes</b>'.format(\n",
    "            region, scikit_processing_job_name\n",
    "        )\n",
    "    )\n",
    ")"
   ]
  },
  {
   "cell_type": "code",
   "execution_count": 27,
   "metadata": {
    "scrolled": true
   },
   "outputs": [
    {
     "data": {
      "text/html": [
       "<b>Review <a target=\"blank\" href=\"https://s3.console.aws.amazon.com/s3/buckets/sagemaker-us-east-1-211125778552/sagemaker-scikit-learn-2024-03-06-15-39-19-291/?region=us-east-1&tab=overview\">S3 Output Data</a> After The Processing Job Has Completed</b>"
      ],
      "text/plain": [
       "<IPython.core.display.HTML object>"
      ]
     },
     "metadata": {},
     "output_type": "display_data"
    }
   ],
   "source": [
    "from IPython.core.display import display, HTML\n",
    "\n",
    "display(\n",
    "    HTML(\n",
    "        '<b>Review <a target=\"blank\" href=\"https://s3.console.aws.amazon.com/s3/buckets/{}/{}/?region={}&tab=overview\">S3 Output Data</a> After The Processing Job Has Completed</b>'.format(\n",
    "            bucket, scikit_processing_job_name, region\n",
    "        )\n",
    "    )\n",
    ")"
   ]
  },
  {
   "cell_type": "markdown",
   "metadata": {},
   "source": [
    "# Monitor the Processing Job"
   ]
  },
  {
   "cell_type": "code",
   "execution_count": 28,
   "metadata": {},
   "outputs": [
    {
     "name": "stdout",
     "output_type": "stream",
     "text": [
      "{'ProcessingInputs': [{'InputName': 'model-tar-s3-uri', 'AppManaged': False, 'S3Input': {'S3Uri': 's3://sagemaker-us-east-1-211125778552/tensorflow-training-2024-03-03-04-02-13-539/output/', 'LocalPath': '/opt/ml/processing/input/model/', 'S3DataType': 'S3Prefix', 'S3InputMode': 'File', 'S3DataDistributionType': 'FullyReplicated', 'S3CompressionType': 'None'}}, {'InputName': 'evaluation-data-s3-uri', 'AppManaged': False, 'S3Input': {'S3Uri': 's3://sagemaker-us-east-1-211125778552/amazon-reviews-pds/tsv/', 'LocalPath': '/opt/ml/processing/input/data/', 'S3DataType': 'S3Prefix', 'S3InputMode': 'File', 'S3DataDistributionType': 'FullyReplicated', 'S3CompressionType': 'None'}}, {'InputName': 'code', 'AppManaged': False, 'S3Input': {'S3Uri': 's3://sagemaker-us-east-1-211125778552/sagemaker-scikit-learn-2024-03-06-15-39-19-291/input/code/evaluate_model_metrics.py', 'LocalPath': '/opt/ml/processing/input/code', 'S3DataType': 'S3Prefix', 'S3InputMode': 'File', 'S3DataDistributionType': 'FullyReplicated', 'S3CompressionType': 'None'}}], 'ProcessingOutputConfig': {'Outputs': [{'OutputName': 'metrics', 'S3Output': {'S3Uri': 's3://sagemaker-us-east-1-211125778552/sagemaker-scikit-learn-2024-03-06-15-39-19-291/output/metrics', 'LocalPath': '/opt/ml/processing/output/metrics', 'S3UploadMode': 'EndOfJob'}, 'AppManaged': False}]}, 'ProcessingJobName': 'sagemaker-scikit-learn-2024-03-06-15-39-19-291', 'ProcessingResources': {'ClusterConfig': {'InstanceCount': 1, 'InstanceType': 'ml.m5.xlarge', 'VolumeSizeInGB': 30}}, 'StoppingCondition': {'MaxRuntimeInSeconds': 7200}, 'AppSpecification': {'ImageUri': '683313688378.dkr.ecr.us-east-1.amazonaws.com/sagemaker-scikit-learn:0.23-1-cpu-py3', 'ContainerEntrypoint': ['python3', '/opt/ml/processing/input/code/evaluate_model_metrics.py'], 'ContainerArguments': ['--max-seq-length', '64']}, 'RoleArn': 'arn:aws:iam::211125778552:role/service-role/AmazonSageMaker-ExecutionRole-20240215T152311', 'ExperimentConfig': {'ExperimentName': 'Amazon-Customer-Reviews-BERT-Experiment-1709436495', 'TrialName': 'trial-1709436495', 'TrialComponentDisplayName': 'evaluate'}, 'ProcessingJobArn': 'arn:aws:sagemaker:us-east-1:211125778552:processing-job/sagemaker-scikit-learn-2024-03-06-15-39-19-291', 'ProcessingJobStatus': 'InProgress', 'LastModifiedTime': datetime.datetime(2024, 3, 6, 15, 39, 19, 856000, tzinfo=tzlocal()), 'CreationTime': datetime.datetime(2024, 3, 6, 15, 39, 19, 856000, tzinfo=tzlocal()), 'ResponseMetadata': {'RequestId': 'fe801544-eec9-4014-ba4e-3181ff23bf3e', 'HTTPStatusCode': 200, 'HTTPHeaders': {'x-amzn-requestid': 'fe801544-eec9-4014-ba4e-3181ff23bf3e', 'content-type': 'application/x-amz-json-1.1', 'content-length': '2422', 'date': 'Wed, 06 Mar 2024 15:39:19 GMT'}, 'RetryAttempts': 0}}\n"
     ]
    }
   ],
   "source": [
    "running_processor = sagemaker.processing.ProcessingJob.from_processing_name(\n",
    "    processing_job_name=scikit_processing_job_name, sagemaker_session=sess\n",
    ")\n",
    "\n",
    "processing_job_description = running_processor.describe()\n",
    "\n",
    "print(processing_job_description)"
   ]
  },
  {
   "cell_type": "code",
   "execution_count": 29,
   "metadata": {},
   "outputs": [
    {
     "name": "stdout",
     "output_type": "stream",
     "text": [
      "sagemaker-scikit-learn-2024-03-06-15-39-19-291\n"
     ]
    }
   ],
   "source": [
    "processing_evaluation_metrics_job_name = processing_job_description[\"ProcessingJobName\"]\n",
    "print(processing_evaluation_metrics_job_name)"
   ]
  },
  {
   "cell_type": "code",
   "execution_count": 30,
   "metadata": {
    "scrolled": true
   },
   "outputs": [
    {
     "name": "stdout",
     "output_type": "stream",
     "text": [
      ".......................................................................................................................................................................!CPU times: user 634 ms, sys: 61.3 ms, total: 695 ms\n",
      "Wall time: 14min 2s\n"
     ]
    }
   ],
   "source": [
    "%%time\n",
    "\n",
    "running_processor.wait(logs=False)"
   ]
  },
  {
   "cell_type": "markdown",
   "metadata": {},
   "source": [
    "# _Please Wait Until the ^^ Processing Job ^^ Completes Above._"
   ]
  },
  {
   "cell_type": "markdown",
   "metadata": {},
   "source": [
    "# Inspect the Processed Output Data\n",
    "\n",
    "Take a look at a few rows of the transformed dataset to make sure the processing was successful."
   ]
  },
  {
   "cell_type": "code",
   "execution_count": 31,
   "metadata": {},
   "outputs": [
    {
     "name": "stdout",
     "output_type": "stream",
     "text": [
      "s3://sagemaker-us-east-1-211125778552/sagemaker-scikit-learn-2024-03-06-15-39-19-291/output/metrics\n"
     ]
    }
   ],
   "source": [
    "processing_job_description = running_processor.describe()\n",
    "\n",
    "output_config = processing_job_description[\"ProcessingOutputConfig\"]\n",
    "for output in output_config[\"Outputs\"]:\n",
    "    if output[\"OutputName\"] == \"metrics\":\n",
    "        processed_metrics_s3_uri = output[\"S3Output\"][\"S3Uri\"]\n",
    "\n",
    "print(processed_metrics_s3_uri)"
   ]
  },
  {
   "cell_type": "code",
   "execution_count": 32,
   "metadata": {
    "scrolled": true
   },
   "outputs": [
    {
     "name": "stdout",
     "output_type": "stream",
     "text": [
      "2024-03-06 15:53:14         41 evaluation.json\n"
     ]
    }
   ],
   "source": [
    "!aws s3 ls $processed_metrics_s3_uri/"
   ]
  },
  {
   "cell_type": "markdown",
   "metadata": {},
   "source": [
    "## Show the test accuracy"
   ]
  },
  {
   "cell_type": "code",
   "execution_count": 33,
   "metadata": {},
   "outputs": [
    {
     "name": "stdout",
     "output_type": "stream",
     "text": [
      "{'metrics': {'accuracy': {'value': 0.6}}}\n"
     ]
    }
   ],
   "source": [
    "import json\n",
    "from pprint import pprint\n",
    "\n",
    "evaluation_json = sagemaker.s3.S3Downloader.read_file(\"{}/evaluation.json\".format(processed_metrics_s3_uri))\n",
    "\n",
    "pprint(json.loads(evaluation_json))"
   ]
  },
  {
   "cell_type": "code",
   "execution_count": 34,
   "metadata": {},
   "outputs": [],
   "source": [
    "# !aws s3 cp $processed_metrics_s3_uri/confusion_matrix.png ./model_evaluation/\n",
    "\n",
    "# import time\n",
    "\n",
    "# time.sleep(10)  # Slight delay for our notebook to recognize the newly-downloaded file"
   ]
  },
  {
   "cell_type": "code",
   "execution_count": 35,
   "metadata": {},
   "outputs": [],
   "source": [
    "# %%html\n",
    "\n",
    "# <img src='./model_evaluation/confusion_matrix.png'>"
   ]
  },
  {
   "cell_type": "markdown",
   "metadata": {},
   "source": [
    "# Pass Variables to the Next Notebook(s)"
   ]
  },
  {
   "cell_type": "code",
   "execution_count": 36,
   "metadata": {},
   "outputs": [
    {
     "name": "stdout",
     "output_type": "stream",
     "text": [
      "Stored 'processing_evaluation_metrics_job_name' (str)\n"
     ]
    }
   ],
   "source": [
    "%store processing_evaluation_metrics_job_name"
   ]
  },
  {
   "cell_type": "code",
   "execution_count": 37,
   "metadata": {
    "scrolled": true
   },
   "outputs": [
    {
     "name": "stdout",
     "output_type": "stream",
     "text": [
      "Stored 'processed_metrics_s3_uri' (str)\n"
     ]
    }
   ],
   "source": [
    "%store processed_metrics_s3_uri"
   ]
  },
  {
   "cell_type": "code",
   "execution_count": 38,
   "metadata": {},
   "outputs": [
    {
     "name": "stdout",
     "output_type": "stream",
     "text": [
      "Stored variables and their in-db values:\n",
      "autopilot_endpoint_arn                                -> 'arn:aws:sagemaker:us-east-1:211125778552:endpoint\n",
      "autopilot_model_arn                                   -> 'arn:aws:sagemaker:us-east-1:211125778552:model/au\n",
      "autopilot_train_s3_uri                                -> 's3://sagemaker-us-east-1-211125778552/data/amazon\n",
      "balance_dataset                                       -> True\n",
      "balanced_bias_data_jsonlines_s3_uri                   -> 's3://sagemaker-us-east-1-211125778552/bias-detect\n",
      "balanced_bias_data_s3_uri                             -> 's3://sagemaker-us-east-1-211125778552/bias-detect\n",
      "bias_data_s3_uri                                      -> 's3://sagemaker-us-east-1-211125778552/bias-detect\n",
      "comprehend_endpoint_arn                               -> 'arn:aws:comprehend:us-east-1:211125778552:documen\n",
      "comprehend_train_s3_uri                               -> 's3://sagemaker-us-east-1-211125778552/data/amazon\n",
      "comprehend_training_job_arn                           -> 'arn:aws:comprehend:us-east-1:211125778552:documen\n",
      "experiment_name                                       -> 'Amazon-Customer-Reviews-BERT-Experiment-170943649\n",
      "feature_group_name                                    -> 'reviews-feature-group-1709436496'\n",
      "feature_store_offline_prefix                          -> 'reviews-feature-store-1709436496'\n",
      "ingest_create_athena_db_passed                        -> True\n",
      "ingest_create_athena_table_parquet_passed             -> True\n",
      "ingest_create_athena_table_tsv_passed                 -> True\n",
      "max_seq_length                                        -> 64\n",
      "processed_metrics_s3_uri                              -> 's3://sagemaker-us-east-1-211125778552/sagemaker-s\n",
      "processed_test_data_s3_uri                            -> 's3://sagemaker-us-east-1-211125778552/sagemaker-s\n",
      "processed_train_data_s3_uri                           -> 's3://sagemaker-us-east-1-211125778552/sagemaker-s\n",
      "processed_validation_data_s3_uri                      -> 's3://sagemaker-us-east-1-211125778552/sagemaker-s\n",
      "processing_evaluation_metrics_job_name                -> 'sagemaker-scikit-learn-2024-03-06-15-39-19-291'\n",
      "raw_input_data_s3_uri                                 -> 's3://sagemaker-us-east-1-211125778552/amazon-revi\n",
      "s3_private_path_tsv                                   -> 's3://sagemaker-us-east-1-211125778552/amazon-revi\n",
      "s3_public_path_tsv                                    -> 's3://dsoaws/amazon-reviews-pds/tsv'\n",
      "setup_dependencies_passed                             -> True\n",
      "setup_iam_roles_passed                                -> True\n",
      "setup_s3_bucket_passed                                -> True\n",
      "test_split_percentage                                 -> 0.2\n",
      "train_split_percentage                                -> 0.6\n",
      "training_job_name                                     -> 'tensorflow-training-2024-03-03-04-02-13-539'\n",
      "transformer_pytorch_model_dir_s3_uri                  -> 's3://sagemaker-us-east-1-211125778552/model/tenso\n",
      "trial_name                                            -> 'trial-1709436495'\n",
      "validation_split_percentage                           -> 0.2\n"
     ]
    }
   ],
   "source": [
    "%store"
   ]
  },
  {
   "cell_type": "markdown",
   "metadata": {},
   "source": [
    "# Show the Experiment Tracking Lineage"
   ]
  },
  {
   "cell_type": "code",
   "execution_count": 39,
   "metadata": {},
   "outputs": [
    {
     "data": {
      "text/html": [
       "<div>\n",
       "<style scoped>\n",
       "    .dataframe tbody tr th:only-of-type {\n",
       "        vertical-align: middle;\n",
       "    }\n",
       "\n",
       "    .dataframe tbody tr th {\n",
       "        vertical-align: top;\n",
       "    }\n",
       "\n",
       "    .dataframe thead th {\n",
       "        text-align: right;\n",
       "    }\n",
       "</style>\n",
       "<table border=\"1\" class=\"dataframe\">\n",
       "  <thead>\n",
       "    <tr style=\"text-align: right;\">\n",
       "      <th></th>\n",
       "      <th>TrialComponentName</th>\n",
       "      <th>DisplayName</th>\n",
       "      <th>SourceArn</th>\n",
       "      <th>SageMaker.InstanceCount</th>\n",
       "      <th>SageMaker.InstanceType</th>\n",
       "      <th>SageMaker.VolumeSizeInGB</th>\n",
       "      <th>SageMaker.ImageUri - MediaType</th>\n",
       "      <th>SageMaker.ImageUri - Value</th>\n",
       "      <th>code - MediaType</th>\n",
       "      <th>code - Value</th>\n",
       "      <th>...</th>\n",
       "      <th>SageMaker.ModelArtifact - Value</th>\n",
       "      <th>AWS_DEFAULT_REGION</th>\n",
       "      <th>raw-input-data - MediaType</th>\n",
       "      <th>raw-input-data - Value</th>\n",
       "      <th>bert-test - MediaType</th>\n",
       "      <th>bert-test - Value</th>\n",
       "      <th>bert-train - MediaType</th>\n",
       "      <th>bert-train - Value</th>\n",
       "      <th>bert-validation - MediaType</th>\n",
       "      <th>bert-validation - Value</th>\n",
       "    </tr>\n",
       "  </thead>\n",
       "  <tbody>\n",
       "    <tr>\n",
       "      <th>0</th>\n",
       "      <td>sagemaker-scikit-learn-2024-03-06-15-39-19-291-aws-processing-job</td>\n",
       "      <td>evaluate</td>\n",
       "      <td>arn:aws:sagemaker:us-east-1:211125778552:processing-job/sagemaker-scikit-learn-2024-03-06-15-39-19-291</td>\n",
       "      <td>1.0</td>\n",
       "      <td>ml.m5.xlarge</td>\n",
       "      <td>30.0</td>\n",
       "      <td>NaN</td>\n",
       "      <td>683313688378.dkr.ecr.us-east-1.amazonaws.com/sagemaker-scikit-learn:0.23-1-cpu-py3</td>\n",
       "      <td>NaN</td>\n",
       "      <td>s3://sagemaker-us-east-1-211125778552/sagemaker-scikit-learn-2024-03-06-15-39-19-291/input/code/evaluate_model_metrics.py</td>\n",
       "      <td>...</td>\n",
       "      <td>NaN</td>\n",
       "      <td>NaN</td>\n",
       "      <td>NaN</td>\n",
       "      <td>NaN</td>\n",
       "      <td>NaN</td>\n",
       "      <td>NaN</td>\n",
       "      <td>NaN</td>\n",
       "      <td>NaN</td>\n",
       "      <td>NaN</td>\n",
       "      <td>NaN</td>\n",
       "    </tr>\n",
       "    <tr>\n",
       "      <th>1</th>\n",
       "      <td>tensorflow-training-2024-03-03-04-02-13-539-aws-training-job</td>\n",
       "      <td>train</td>\n",
       "      <td>arn:aws:sagemaker:us-east-1:211125778552:training-job/tensorflow-training-2024-03-03-04-02-13-539</td>\n",
       "      <td>1.0</td>\n",
       "      <td>ml.c4.2xlarge</td>\n",
       "      <td>1024.0</td>\n",
       "      <td>NaN</td>\n",
       "      <td>NaN</td>\n",
       "      <td>NaN</td>\n",
       "      <td>NaN</td>\n",
       "      <td>...</td>\n",
       "      <td>s3://sagemaker-us-east-1-211125778552/tensorflow-training-2024-03-03-04-02-13-539/output/model.tar.gz</td>\n",
       "      <td>NaN</td>\n",
       "      <td>NaN</td>\n",
       "      <td>NaN</td>\n",
       "      <td>NaN</td>\n",
       "      <td>NaN</td>\n",
       "      <td>NaN</td>\n",
       "      <td>NaN</td>\n",
       "      <td>NaN</td>\n",
       "      <td>NaN</td>\n",
       "    </tr>\n",
       "    <tr>\n",
       "      <th>2</th>\n",
       "      <td>sagemaker-scikit-learn-2024-03-03-03-46-55-548-aws-processing-job</td>\n",
       "      <td>prepare</td>\n",
       "      <td>arn:aws:sagemaker:us-east-1:211125778552:processing-job/sagemaker-scikit-learn-2024-03-03-03-46-55-548</td>\n",
       "      <td>2.0</td>\n",
       "      <td>ml.c5.2xlarge</td>\n",
       "      <td>30.0</td>\n",
       "      <td>NaN</td>\n",
       "      <td>683313688378.dkr.ecr.us-east-1.amazonaws.com/sagemaker-scikit-learn:0.23-1-cpu-py3</td>\n",
       "      <td>NaN</td>\n",
       "      <td>s3://sagemaker-us-east-1-211125778552/sagemaker-scikit-learn-2024-03-03-03-46-55-548/input/code/preprocess-scikit-text-to-bert-feature-store.py</td>\n",
       "      <td>...</td>\n",
       "      <td>NaN</td>\n",
       "      <td>us-east-1</td>\n",
       "      <td>NaN</td>\n",
       "      <td>s3://sagemaker-us-east-1-211125778552/amazon-reviews-pds/tsv/</td>\n",
       "      <td>NaN</td>\n",
       "      <td>s3://sagemaker-us-east-1-211125778552/sagemaker-scikit-learn-2024-03-03-03-46-55-548/output/bert-test</td>\n",
       "      <td>NaN</td>\n",
       "      <td>s3://sagemaker-us-east-1-211125778552/sagemaker-scikit-learn-2024-03-03-03-46-55-548/output/bert-train</td>\n",
       "      <td>NaN</td>\n",
       "      <td>s3://sagemaker-us-east-1-211125778552/sagemaker-scikit-learn-2024-03-03-03-46-55-548/output/bert-validation</td>\n",
       "    </tr>\n",
       "    <tr>\n",
       "      <th>3</th>\n",
       "      <td>sagemaker-scikit-learn-2024-03-03-03-28-16-715-aws-processing-job</td>\n",
       "      <td>prepare</td>\n",
       "      <td>arn:aws:sagemaker:us-east-1:211125778552:processing-job/sagemaker-scikit-learn-2024-03-03-03-28-16-715</td>\n",
       "      <td>2.0</td>\n",
       "      <td>ml.t3.medium</td>\n",
       "      <td>30.0</td>\n",
       "      <td>NaN</td>\n",
       "      <td>683313688378.dkr.ecr.us-east-1.amazonaws.com/sagemaker-scikit-learn:0.23-1-cpu-py3</td>\n",
       "      <td>NaN</td>\n",
       "      <td>s3://sagemaker-us-east-1-211125778552/sagemaker-scikit-learn-2024-03-03-03-28-16-715/input/code/preprocess-scikit-text-to-bert-feature-store.py</td>\n",
       "      <td>...</td>\n",
       "      <td>NaN</td>\n",
       "      <td>us-east-1</td>\n",
       "      <td>NaN</td>\n",
       "      <td>s3://sagemaker-us-east-1-211125778552/amazon-reviews-pds/tsv/</td>\n",
       "      <td>NaN</td>\n",
       "      <td>s3://sagemaker-us-east-1-211125778552/sagemaker-scikit-learn-2024-03-03-03-28-16-715/output/bert-test</td>\n",
       "      <td>NaN</td>\n",
       "      <td>s3://sagemaker-us-east-1-211125778552/sagemaker-scikit-learn-2024-03-03-03-28-16-715/output/bert-train</td>\n",
       "      <td>NaN</td>\n",
       "      <td>s3://sagemaker-us-east-1-211125778552/sagemaker-scikit-learn-2024-03-03-03-28-16-715/output/bert-validation</td>\n",
       "    </tr>\n",
       "  </tbody>\n",
       "</table>\n",
       "<p>4 rows × 143 columns</p>\n",
       "</div>"
      ],
      "text/plain": [
       "                                                  TrialComponentName  \\\n",
       "0  sagemaker-scikit-learn-2024-03-06-15-39-19-291-aws-processing-job   \n",
       "1       tensorflow-training-2024-03-03-04-02-13-539-aws-training-job   \n",
       "2  sagemaker-scikit-learn-2024-03-03-03-46-55-548-aws-processing-job   \n",
       "3  sagemaker-scikit-learn-2024-03-03-03-28-16-715-aws-processing-job   \n",
       "\n",
       "  DisplayName  \\\n",
       "0    evaluate   \n",
       "1       train   \n",
       "2     prepare   \n",
       "3     prepare   \n",
       "\n",
       "                                                                                                SourceArn  \\\n",
       "0  arn:aws:sagemaker:us-east-1:211125778552:processing-job/sagemaker-scikit-learn-2024-03-06-15-39-19-291   \n",
       "1       arn:aws:sagemaker:us-east-1:211125778552:training-job/tensorflow-training-2024-03-03-04-02-13-539   \n",
       "2  arn:aws:sagemaker:us-east-1:211125778552:processing-job/sagemaker-scikit-learn-2024-03-03-03-46-55-548   \n",
       "3  arn:aws:sagemaker:us-east-1:211125778552:processing-job/sagemaker-scikit-learn-2024-03-03-03-28-16-715   \n",
       "\n",
       "   SageMaker.InstanceCount SageMaker.InstanceType  SageMaker.VolumeSizeInGB  \\\n",
       "0                      1.0           ml.m5.xlarge                      30.0   \n",
       "1                      1.0          ml.c4.2xlarge                    1024.0   \n",
       "2                      2.0          ml.c5.2xlarge                      30.0   \n",
       "3                      2.0           ml.t3.medium                      30.0   \n",
       "\n",
       "   SageMaker.ImageUri - MediaType  \\\n",
       "0                             NaN   \n",
       "1                             NaN   \n",
       "2                             NaN   \n",
       "3                             NaN   \n",
       "\n",
       "                                                           SageMaker.ImageUri - Value  \\\n",
       "0  683313688378.dkr.ecr.us-east-1.amazonaws.com/sagemaker-scikit-learn:0.23-1-cpu-py3   \n",
       "1                                                                                 NaN   \n",
       "2  683313688378.dkr.ecr.us-east-1.amazonaws.com/sagemaker-scikit-learn:0.23-1-cpu-py3   \n",
       "3  683313688378.dkr.ecr.us-east-1.amazonaws.com/sagemaker-scikit-learn:0.23-1-cpu-py3   \n",
       "\n",
       "   code - MediaType  \\\n",
       "0               NaN   \n",
       "1               NaN   \n",
       "2               NaN   \n",
       "3               NaN   \n",
       "\n",
       "                                                                                                                                      code - Value  \\\n",
       "0                        s3://sagemaker-us-east-1-211125778552/sagemaker-scikit-learn-2024-03-06-15-39-19-291/input/code/evaluate_model_metrics.py   \n",
       "1                                                                                                                                              NaN   \n",
       "2  s3://sagemaker-us-east-1-211125778552/sagemaker-scikit-learn-2024-03-03-03-46-55-548/input/code/preprocess-scikit-text-to-bert-feature-store.py   \n",
       "3  s3://sagemaker-us-east-1-211125778552/sagemaker-scikit-learn-2024-03-03-03-28-16-715/input/code/preprocess-scikit-text-to-bert-feature-store.py   \n",
       "\n",
       "   ...  \\\n",
       "0  ...   \n",
       "1  ...   \n",
       "2  ...   \n",
       "3  ...   \n",
       "\n",
       "                                                                         SageMaker.ModelArtifact - Value  \\\n",
       "0                                                                                                    NaN   \n",
       "1  s3://sagemaker-us-east-1-211125778552/tensorflow-training-2024-03-03-04-02-13-539/output/model.tar.gz   \n",
       "2                                                                                                    NaN   \n",
       "3                                                                                                    NaN   \n",
       "\n",
       "  AWS_DEFAULT_REGION  raw-input-data - MediaType  \\\n",
       "0                NaN                         NaN   \n",
       "1                NaN                         NaN   \n",
       "2          us-east-1                         NaN   \n",
       "3          us-east-1                         NaN   \n",
       "\n",
       "                                          raw-input-data - Value  \\\n",
       "0                                                            NaN   \n",
       "1                                                            NaN   \n",
       "2  s3://sagemaker-us-east-1-211125778552/amazon-reviews-pds/tsv/   \n",
       "3  s3://sagemaker-us-east-1-211125778552/amazon-reviews-pds/tsv/   \n",
       "\n",
       "   bert-test - MediaType  \\\n",
       "0                    NaN   \n",
       "1                    NaN   \n",
       "2                    NaN   \n",
       "3                    NaN   \n",
       "\n",
       "                                                                                       bert-test - Value  \\\n",
       "0                                                                                                    NaN   \n",
       "1                                                                                                    NaN   \n",
       "2  s3://sagemaker-us-east-1-211125778552/sagemaker-scikit-learn-2024-03-03-03-46-55-548/output/bert-test   \n",
       "3  s3://sagemaker-us-east-1-211125778552/sagemaker-scikit-learn-2024-03-03-03-28-16-715/output/bert-test   \n",
       "\n",
       "  bert-train - MediaType  \\\n",
       "0                    NaN   \n",
       "1                    NaN   \n",
       "2                    NaN   \n",
       "3                    NaN   \n",
       "\n",
       "                                                                                       bert-train - Value  \\\n",
       "0                                                                                                     NaN   \n",
       "1                                                                                                     NaN   \n",
       "2  s3://sagemaker-us-east-1-211125778552/sagemaker-scikit-learn-2024-03-03-03-46-55-548/output/bert-train   \n",
       "3  s3://sagemaker-us-east-1-211125778552/sagemaker-scikit-learn-2024-03-03-03-28-16-715/output/bert-train   \n",
       "\n",
       "  bert-validation - MediaType  \\\n",
       "0                         NaN   \n",
       "1                         NaN   \n",
       "2                         NaN   \n",
       "3                         NaN   \n",
       "\n",
       "                                                                                       bert-validation - Value  \n",
       "0                                                                                                          NaN  \n",
       "1                                                                                                          NaN  \n",
       "2  s3://sagemaker-us-east-1-211125778552/sagemaker-scikit-learn-2024-03-03-03-46-55-548/output/bert-validation  \n",
       "3  s3://sagemaker-us-east-1-211125778552/sagemaker-scikit-learn-2024-03-03-03-28-16-715/output/bert-validation  \n",
       "\n",
       "[4 rows x 143 columns]"
      ]
     },
     "execution_count": 39,
     "metadata": {},
     "output_type": "execute_result"
    }
   ],
   "source": [
    "from sagemaker.analytics import ExperimentAnalytics\n",
    "\n",
    "import pandas as pd\n",
    "\n",
    "pd.set_option(\"max_colwidth\", 500)\n",
    "\n",
    "experiment_analytics = ExperimentAnalytics(\n",
    "    sagemaker_session=sess, experiment_name=experiment_name, sort_by=\"CreationTime\", sort_order=\"Descending\"\n",
    ")\n",
    "\n",
    "experiment_analytics_df = experiment_analytics.dataframe()\n",
    "experiment_analytics_df"
   ]
  },
  {
   "cell_type": "code",
   "execution_count": 40,
   "metadata": {},
   "outputs": [
    {
     "name": "stdout",
     "output_type": "stream",
     "text": [
      "sagemaker-scikit-learn-2024-03-06-15-39-19-291-aws-processing-job\n"
     ]
    }
   ],
   "source": [
    "trial_component_name = experiment_analytics_df.TrialComponentName[0]\n",
    "print(trial_component_name)"
   ]
  },
  {
   "cell_type": "code",
   "execution_count": 41,
   "metadata": {},
   "outputs": [
    {
     "data": {
      "text/plain": [
       "{'TrialComponentName': 'sagemaker-scikit-learn-2024-03-06-15-39-19-291-aws-processing-job',\n",
       " 'TrialComponentArn': 'arn:aws:sagemaker:us-east-1:211125778552:experiment-trial-component/sagemaker-scikit-learn-2024-03-06-15-39-19-291-aws-processing-job',\n",
       " 'DisplayName': 'evaluate',\n",
       " 'Source': {'SourceArn': 'arn:aws:sagemaker:us-east-1:211125778552:processing-job/sagemaker-scikit-learn-2024-03-06-15-39-19-291',\n",
       "  'SourceType': 'SageMakerProcessingJob'},\n",
       " 'Status': {'PrimaryStatus': 'Completed',\n",
       "  'Message': 'Status: Completed, exit message: null, failure reason: null'},\n",
       " 'StartTime': datetime.datetime(2024, 3, 6, 15, 43, 34, tzinfo=tzlocal()),\n",
       " 'EndTime': datetime.datetime(2024, 3, 6, 15, 53, 19, tzinfo=tzlocal()),\n",
       " 'CreationTime': datetime.datetime(2024, 3, 6, 15, 39, 20, 297000, tzinfo=tzlocal()),\n",
       " 'CreatedBy': {'UserProfileArn': 'arn:aws:sagemaker:us-east-1:211125778552:user-profile/d-k0wihxzgpgsi/default-user',\n",
       "  'UserProfileName': 'default-user',\n",
       "  'DomainId': 'd-k0wihxzgpgsi'},\n",
       " 'LastModifiedTime': datetime.datetime(2024, 3, 6, 15, 53, 19, 935000, tzinfo=tzlocal()),\n",
       " 'LastModifiedBy': {},\n",
       " 'Parameters': {'SageMaker.InstanceCount': {'NumberValue': 1.0},\n",
       "  'SageMaker.InstanceType': {'StringValue': 'ml.m5.xlarge'},\n",
       "  'SageMaker.VolumeSizeInGB': {'NumberValue': 30.0}},\n",
       " 'InputArtifacts': {'SageMaker.ImageUri': {'Value': '683313688378.dkr.ecr.us-east-1.amazonaws.com/sagemaker-scikit-learn:0.23-1-cpu-py3'},\n",
       "  'code': {'Value': 's3://sagemaker-us-east-1-211125778552/sagemaker-scikit-learn-2024-03-06-15-39-19-291/input/code/evaluate_model_metrics.py'},\n",
       "  'evaluation-data-s3-uri': {'Value': 's3://sagemaker-us-east-1-211125778552/amazon-reviews-pds/tsv/'},\n",
       "  'model-tar-s3-uri': {'Value': 's3://sagemaker-us-east-1-211125778552/tensorflow-training-2024-03-03-04-02-13-539/output/'}},\n",
       " 'OutputArtifacts': {'metrics': {'Value': 's3://sagemaker-us-east-1-211125778552/sagemaker-scikit-learn-2024-03-06-15-39-19-291/output/metrics'}},\n",
       " 'Metrics': [],\n",
       " 'LineageGroupArn': 'arn:aws:sagemaker:us-east-1:211125778552:lineage-group/sagemaker-default-lineage-group',\n",
       " 'Sources': [],\n",
       " 'ResponseMetadata': {'RequestId': '3cc6ed45-fdd6-437d-b6e8-77618ab85d64',\n",
       "  'HTTPStatusCode': 200,\n",
       "  'HTTPHeaders': {'x-amzn-requestid': '3cc6ed45-fdd6-437d-b6e8-77618ab85d64',\n",
       "   'content-type': 'application/x-amz-json-1.1',\n",
       "   'content-length': '1798',\n",
       "   'date': 'Wed, 06 Mar 2024 15:53:23 GMT'},\n",
       "  'RetryAttempts': 0}}"
      ]
     },
     "execution_count": 41,
     "metadata": {},
     "output_type": "execute_result"
    }
   ],
   "source": [
    "trial_component_description = sm.describe_trial_component(TrialComponentName=trial_component_name)\n",
    "trial_component_description"
   ]
  },
  {
   "cell_type": "code",
   "execution_count": 42,
   "metadata": {},
   "outputs": [
    {
     "data": {
      "text/html": [
       "<div>\n",
       "<style scoped>\n",
       "    .dataframe tbody tr th:only-of-type {\n",
       "        vertical-align: middle;\n",
       "    }\n",
       "\n",
       "    .dataframe tbody tr th {\n",
       "        vertical-align: top;\n",
       "    }\n",
       "\n",
       "    .dataframe thead th {\n",
       "        text-align: right;\n",
       "    }\n",
       "</style>\n",
       "<table border=\"1\" class=\"dataframe\">\n",
       "  <thead>\n",
       "    <tr style=\"text-align: right;\">\n",
       "      <th></th>\n",
       "      <th>Name/Source</th>\n",
       "      <th>Direction</th>\n",
       "      <th>Type</th>\n",
       "      <th>Association Type</th>\n",
       "      <th>Lineage Type</th>\n",
       "    </tr>\n",
       "  </thead>\n",
       "  <tbody>\n",
       "    <tr>\n",
       "      <th>0</th>\n",
       "      <td>s3://...291/input/code/evaluate_model_metrics.py</td>\n",
       "      <td>Input</td>\n",
       "      <td>DataSet</td>\n",
       "      <td>ContributedTo</td>\n",
       "      <td>artifact</td>\n",
       "    </tr>\n",
       "    <tr>\n",
       "      <th>1</th>\n",
       "      <td>s3://...t-1-211125778552/amazon-reviews-pds/tsv/</td>\n",
       "      <td>Input</td>\n",
       "      <td>DataSet</td>\n",
       "      <td>ContributedTo</td>\n",
       "      <td>artifact</td>\n",
       "    </tr>\n",
       "    <tr>\n",
       "      <th>2</th>\n",
       "      <td>s3://...training-2024-03-03-04-02-13-539/output/</td>\n",
       "      <td>Input</td>\n",
       "      <td>DataSet</td>\n",
       "      <td>ContributedTo</td>\n",
       "      <td>artifact</td>\n",
       "    </tr>\n",
       "    <tr>\n",
       "      <th>3</th>\n",
       "      <td>68331...om/sagemaker-scikit-learn:0.23-1-cpu-py3</td>\n",
       "      <td>Input</td>\n",
       "      <td>Image</td>\n",
       "      <td>ContributedTo</td>\n",
       "      <td>artifact</td>\n",
       "    </tr>\n",
       "    <tr>\n",
       "      <th>4</th>\n",
       "      <td>s3://...n-2024-03-06-15-39-19-291/output/metrics</td>\n",
       "      <td>Output</td>\n",
       "      <td>DataSet</td>\n",
       "      <td>Produced</td>\n",
       "      <td>artifact</td>\n",
       "    </tr>\n",
       "  </tbody>\n",
       "</table>\n",
       "</div>"
      ],
      "text/plain": [
       "                                        Name/Source Direction     Type  \\\n",
       "0  s3://...291/input/code/evaluate_model_metrics.py     Input  DataSet   \n",
       "1  s3://...t-1-211125778552/amazon-reviews-pds/tsv/     Input  DataSet   \n",
       "2  s3://...training-2024-03-03-04-02-13-539/output/     Input  DataSet   \n",
       "3  68331...om/sagemaker-scikit-learn:0.23-1-cpu-py3     Input    Image   \n",
       "4  s3://...n-2024-03-06-15-39-19-291/output/metrics    Output  DataSet   \n",
       "\n",
       "  Association Type Lineage Type  \n",
       "0    ContributedTo     artifact  \n",
       "1    ContributedTo     artifact  \n",
       "2    ContributedTo     artifact  \n",
       "3    ContributedTo     artifact  \n",
       "4         Produced     artifact  "
      ]
     },
     "execution_count": 42,
     "metadata": {},
     "output_type": "execute_result"
    }
   ],
   "source": [
    "from sagemaker.lineage.visualizer import LineageTableVisualizer\n",
    "\n",
    "lineage_table_viz = LineageTableVisualizer(sess)\n",
    "lineage_table_viz_df = lineage_table_viz.show(processing_job_name=processing_evaluation_metrics_job_name)\n",
    "lineage_table_viz_df"
   ]
  },
  {
   "cell_type": "markdown",
   "metadata": {},
   "source": [
    "# Release Resources"
   ]
  },
  {
   "cell_type": "code",
   "execution_count": 43,
   "metadata": {},
   "outputs": [
    {
     "data": {
      "text/html": [
       "\n",
       "<p><b>Shutting down your kernel for this notebook to release resources.</b></p>\n",
       "<button class=\"sm-command-button\" data-commandlinker-command=\"kernelmenu:shutdown\" style=\"display:none;\">Shutdown Kernel</button>\n",
       "        \n",
       "<script>\n",
       "try {\n",
       "    els = document.getElementsByClassName(\"sm-command-button\");\n",
       "    els[0].click();\n",
       "}\n",
       "catch(err) {\n",
       "    // NoOp\n",
       "}    \n",
       "</script>\n"
      ],
      "text/plain": [
       "<IPython.core.display.HTML object>"
      ]
     },
     "metadata": {},
     "output_type": "display_data"
    }
   ],
   "source": [
    "%%html\n",
    "\n",
    "<p><b>Shutting down your kernel for this notebook to release resources.</b></p>\n",
    "<button class=\"sm-command-button\" data-commandlinker-command=\"kernelmenu:shutdown\" style=\"display:none;\">Shutdown Kernel</button>\n",
    "        \n",
    "<script>\n",
    "try {\n",
    "    els = document.getElementsByClassName(\"sm-command-button\");\n",
    "    els[0].click();\n",
    "}\n",
    "catch(err) {\n",
    "    // NoOp\n",
    "}    \n",
    "</script>"
   ]
  },
  {
   "cell_type": "code",
   "execution_count": 44,
   "metadata": {
    "scrolled": true
   },
   "outputs": [
    {
     "data": {
      "application/javascript": "\ntry {\n    Jupyter.notebook.save_checkpoint();\n    Jupyter.notebook.session.delete();\n}\ncatch(err) {\n    // NoOp\n}\n",
      "text/plain": [
       "<IPython.core.display.Javascript object>"
      ]
     },
     "metadata": {},
     "output_type": "display_data"
    }
   ],
   "source": [
    "%%javascript\n",
    "\n",
    "try {\n",
    "    Jupyter.notebook.save_checkpoint();\n",
    "    Jupyter.notebook.session.delete();\n",
    "}\n",
    "catch(err) {\n",
    "    // NoOp\n",
    "}"
   ]
  }
 ],
 "metadata": {
  "instance_type": "ml.t3.medium",
  "kernelspec": {
   "display_name": "data_science_on_aws",
   "language": "python",
   "name": "python3"
  },
  "language_info": {
   "codemirror_mode": {
    "name": "ipython",
    "version": 3
   },
   "file_extension": ".py",
   "mimetype": "text/x-python",
   "name": "python",
   "nbconvert_exporter": "python",
   "pygments_lexer": "ipython3",
   "version": "3.7.16"
  }
 },
 "nbformat": 4,
 "nbformat_minor": 4
}
