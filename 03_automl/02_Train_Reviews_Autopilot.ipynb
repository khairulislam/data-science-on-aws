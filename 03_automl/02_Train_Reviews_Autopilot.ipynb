{
 "cells": [
  {
   "cell_type": "markdown",
   "metadata": {},
   "source": [
    "# NOTE:  THIS NOTEBOOK RUNS FOR 30+ MINUTES.  \n",
    "\n",
    "# PLEASE BE PATIENT"
   ]
  },
  {
   "cell_type": "markdown",
   "metadata": {},
   "source": [
    "# Train a Model with SageMaker Autopilot\n",
    "\n",
    "We will use Autopilot to predict the star rating of customer reviews. Autopilot implements a transparent approach to AutoML. \n",
    "\n",
    "For more details on Autopilot, have a look at this [**Amazon Science Publication**](https://www.amazon.science/publications/amazon-sagemaker-autopilot-a-white-box-automl-solution-at-scale).\n",
    "\n",
    "[![](img/amazon_science.png)](https://www.amazon.science/publications/amazon-sagemaker-autopilot-a-white-box-automl-solution-at-scale)\n"
   ]
  },
  {
   "cell_type": "markdown",
   "metadata": {},
   "source": [
    "<img src=\"img/autopilot-transparent.png\" width=\"80%\" align=\"left\">"
   ]
  },
  {
   "cell_type": "markdown",
   "metadata": {},
   "source": [
    "# Introduction"
   ]
  },
  {
   "cell_type": "markdown",
   "metadata": {},
   "source": [
    "Amazon SageMaker Autopilot is a service to perform automated machine learning (AutoML) on your datasets.  Autopilot is available through the UI or AWS SDK.  In this notebook, we will use the AWS SDK to create and deploy a text processing and star rating classification machine learning pipeline."
   ]
  },
  {
   "cell_type": "markdown",
   "metadata": {},
   "source": [
    "# Setup\n",
    "\n",
    "Let's start by specifying:\n",
    "\n",
    "* The S3 bucket and prefix to use to train our model.  _Note:  This should be in the same region as this notebook._\n",
    "* The IAM role of this notebook needs access to your data."
   ]
  },
  {
   "cell_type": "markdown",
   "metadata": {},
   "source": [
    "# Notes\n",
    "* This notebook will take some time to finish. \n",
    "\n",
    "* You can start this notebook and continue to the next notebooks whenever you are waiting for the current notebook to finish."
   ]
  },
  {
   "cell_type": "markdown",
   "metadata": {},
   "source": [
    "# Checking Pre-Requisites From Previous Notebook"
   ]
  },
  {
   "cell_type": "code",
   "execution_count": 45,
   "metadata": {},
   "outputs": [],
   "source": [
    "%store -r autopilot_train_s3_uri"
   ]
  },
  {
   "cell_type": "code",
   "execution_count": 46,
   "metadata": {},
   "outputs": [
    {
     "name": "stdout",
     "output_type": "stream",
     "text": [
      "[OK]\n"
     ]
    }
   ],
   "source": [
    "try:\n",
    "    autopilot_train_s3_uri\n",
    "    print(\"[OK]\")\n",
    "except NameError:\n",
    "    print(\"+++++++++++++++++++++++++++++++++++++++++++++++++++++++++++++++++++++\")\n",
    "    print(\"[ERROR] PLEASE RUN THE PREVIOUS 01_PREPARE_DATASET_AUTOPILOT NOTEBOOK.\")\n",
    "    print(\"+++++++++++++++++++++++++++++++++++++++++++++++++++++++++++++++++++++\")"
   ]
  },
  {
   "cell_type": "code",
   "execution_count": 47,
   "metadata": {},
   "outputs": [
    {
     "name": "stdout",
     "output_type": "stream",
     "text": [
      "s3://sagemaker-us-east-1-211125778552/data/amazon_reviews_us_Digital_Software_v1_00_autopilot.csv\n"
     ]
    }
   ],
   "source": [
    "print(autopilot_train_s3_uri)"
   ]
  },
  {
   "cell_type": "code",
   "execution_count": 48,
   "metadata": {},
   "outputs": [
    {
     "name": "stdout",
     "output_type": "stream",
     "text": [
      "[OK]\n"
     ]
    }
   ],
   "source": [
    "if not autopilot_train_s3_uri:\n",
    "    print(\"+++++++++++++++++++++++++++++++++++++++++++++++++++++++++++++++++++++\")\n",
    "    print(\"[ERROR] PLEASE RUN THE PREVIOUS 01_PREPARE_DATASET_AUTOPILOT NOTEBOOK.\")\n",
    "    print(\"+++++++++++++++++++++++++++++++++++++++++++++++++++++++++++++++++++++\")\n",
    "else:\n",
    "    print(\"[OK]\")"
   ]
  },
  {
   "cell_type": "code",
   "execution_count": 49,
   "metadata": {},
   "outputs": [],
   "source": [
    "import boto3\n",
    "import sagemaker\n",
    "import pandas as pd\n",
    "import json\n",
    "\n",
    "sess = sagemaker.Session()\n",
    "bucket = sess.default_bucket()\n",
    "role = sagemaker.get_execution_role()\n",
    "region = boto3.Session().region_name\n",
    "\n",
    "sm = boto3.Session().client(service_name=\"sagemaker\", region_name=region)"
   ]
  },
  {
   "cell_type": "markdown",
   "metadata": {},
   "source": [
    "# Training Data"
   ]
  },
  {
   "cell_type": "code",
   "execution_count": 50,
   "metadata": {},
   "outputs": [
    {
     "name": "stdout",
     "output_type": "stream",
     "text": [
      "s3://sagemaker-us-east-1-211125778552/data/amazon_reviews_us_Digital_Software_v1_00_autopilot.csv\n"
     ]
    }
   ],
   "source": [
    "print(autopilot_train_s3_uri)"
   ]
  },
  {
   "cell_type": "code",
   "execution_count": 51,
   "metadata": {},
   "outputs": [
    {
     "name": "stdout",
     "output_type": "stream",
     "text": [
      "2024-02-15 23:45:15     192167 amazon_reviews_us_Digital_Software_v1_00_autopilot.csv\n"
     ]
    }
   ],
   "source": [
    "!aws s3 ls $autopilot_train_s3_uri"
   ]
  },
  {
   "cell_type": "markdown",
   "metadata": {},
   "source": [
    "## See our prepared training data which we use as input for Autopilot"
   ]
  },
  {
   "cell_type": "code",
   "execution_count": 52,
   "metadata": {},
   "outputs": [
    {
     "name": "stdout",
     "output_type": "stream",
     "text": [
      "download: s3://sagemaker-us-east-1-211125778552/data/amazon_reviews_us_Digital_Software_v1_00_autopilot.csv to tmp/amazon_reviews_us_Digital_Software_v1_00_autopilot.csv\n"
     ]
    }
   ],
   "source": [
    "!aws s3 cp $autopilot_train_s3_uri ./tmp/"
   ]
  },
  {
   "cell_type": "code",
   "execution_count": 53,
   "metadata": {},
   "outputs": [
    {
     "data": {
      "text/html": [
       "<div>\n",
       "<style scoped>\n",
       "    .dataframe tbody tr th:only-of-type {\n",
       "        vertical-align: middle;\n",
       "    }\n",
       "\n",
       "    .dataframe tbody tr th {\n",
       "        vertical-align: top;\n",
       "    }\n",
       "\n",
       "    .dataframe thead th {\n",
       "        text-align: right;\n",
       "    }\n",
       "</style>\n",
       "<table border=\"1\" class=\"dataframe\">\n",
       "  <thead>\n",
       "    <tr style=\"text-align: right;\">\n",
       "      <th></th>\n",
       "      <th>star_rating</th>\n",
       "      <th>review_body</th>\n",
       "    </tr>\n",
       "  </thead>\n",
       "  <tbody>\n",
       "    <tr>\n",
       "      <th>0</th>\n",
       "      <td>1</td>\n",
       "      <td>I bought this because learning pages on my Mac...</td>\n",
       "    </tr>\n",
       "    <tr>\n",
       "      <th>1</th>\n",
       "      <td>4</td>\n",
       "      <td>Norton gives good protection.  The best you ca...</td>\n",
       "    </tr>\n",
       "    <tr>\n",
       "      <th>2</th>\n",
       "      <td>5</td>\n",
       "      <td>Needed a reliable low resources anti-virus for...</td>\n",
       "    </tr>\n",
       "    <tr>\n",
       "      <th>3</th>\n",
       "      <td>4</td>\n",
       "      <td>I've used TurboTax annually for several years....</td>\n",
       "    </tr>\n",
       "    <tr>\n",
       "      <th>4</th>\n",
       "      <td>1</td>\n",
       "      <td>If you want a free audio tool use Audacity. Us...</td>\n",
       "    </tr>\n",
       "  </tbody>\n",
       "</table>\n",
       "</div>"
      ],
      "text/plain": [
       "   star_rating                                        review_body\n",
       "0            1  I bought this because learning pages on my Mac...\n",
       "1            4  Norton gives good protection.  The best you ca...\n",
       "2            5  Needed a reliable low resources anti-virus for...\n",
       "3            4  I've used TurboTax annually for several years....\n",
       "4            1  If you want a free audio tool use Audacity. Us..."
      ]
     },
     "execution_count": 53,
     "metadata": {},
     "output_type": "execute_result"
    }
   ],
   "source": [
    "import csv\n",
    "\n",
    "df = pd.read_csv(\"./tmp/amazon_reviews_us_Digital_Software_v1_00_autopilot.csv\")\n",
    "df.head()"
   ]
  },
  {
   "cell_type": "code",
   "execution_count": 54,
   "metadata": {},
   "outputs": [
    {
     "data": {
      "text/plain": [
       "(562, 2)"
      ]
     },
     "execution_count": 54,
     "metadata": {},
     "output_type": "execute_result"
    }
   ],
   "source": [
    "df.shape"
   ]
  },
  {
   "cell_type": "markdown",
   "metadata": {},
   "source": [
    "# Setup the S3 Location for the Autopilot-Generated Assets \n",
    "This include Jupyter Notebooks (Analysis), Python Scripts (Feature Engineering), and Trained Models."
   ]
  },
  {
   "cell_type": "code",
   "execution_count": 55,
   "metadata": {},
   "outputs": [
    {
     "name": "stdout",
     "output_type": "stream",
     "text": [
      "s3://sagemaker-us-east-1-211125778552/models/autopilot\n"
     ]
    }
   ],
   "source": [
    "prefix_model_output = \"models/autopilot\"\n",
    "\n",
    "model_output_s3_uri = \"s3://{}/{}\".format(bucket, prefix_model_output)\n",
    "\n",
    "print(model_output_s3_uri)"
   ]
  },
  {
   "cell_type": "code",
   "execution_count": 56,
   "metadata": {},
   "outputs": [],
   "source": [
    "max_candidates = 3\n",
    "\n",
    "# original\n",
    "# job_config = {\n",
    "#     \"CompletionCriteria\": {\n",
    "#         \"MaxRuntimePerTrainingJobInSeconds\": 900,\n",
    "#         \"MaxCandidates\": max_candidates,\n",
    "#         \"MaxAutoMLJobRuntimeInSeconds\": 5400,\n",
    "#     },\n",
    "# }\n",
    "\n",
    "# reduced\n",
    "job_config = {\n",
    "    \"CompletionCriteria\": {\n",
    "        \"MaxRuntimePerTrainingJobInSeconds\": 300,\n",
    "        \"MaxCandidates\": max_candidates,\n",
    "        \"MaxAutoMLJobRuntimeInSeconds\": 900,\n",
    "    },\n",
    "}\n",
    "\n",
    "input_data_config = [\n",
    "    {\n",
    "        \"DataSource\": {\"S3DataSource\": {\"S3DataType\": \"S3Prefix\", \"S3Uri\": \"{}\".format(autopilot_train_s3_uri)}},\n",
    "        \"TargetAttributeName\": \"star_rating\",\n",
    "    }\n",
    "]\n",
    "\n",
    "output_data_config = {\"S3OutputPath\": \"{}\".format(model_output_s3_uri)}"
   ]
  },
  {
   "cell_type": "markdown",
   "metadata": {},
   "source": [
    "# Check For Existing Autopilot Jobs"
   ]
  },
  {
   "cell_type": "code",
   "execution_count": 57,
   "metadata": {},
   "outputs": [],
   "source": [
    "existing_jobs_response = sm.list_auto_ml_jobs()"
   ]
  },
  {
   "cell_type": "code",
   "execution_count": 75,
   "metadata": {},
   "outputs": [
    {
     "name": "stdout",
     "output_type": "stream",
     "text": [
      "[INFO] You have 1 Autopilot job(s) currently running << Should be 0 jobs.\n",
      "Stored 'auto_ml_job_name' (str)\n"
     ]
    }
   ],
   "source": [
    "num_existing_jobs = 0\n",
    "running_jobs = 0\n",
    "\n",
    "if \"AutoMLJobSummaries\" in existing_jobs_response.keys():\n",
    "    job_list = existing_jobs_response[\"AutoMLJobSummaries\"]\n",
    "    num_existing_jobs = len(job_list)\n",
    "    # print('[INFO] You already created {} Autopilot job(s) in this account.'.format(num_existing_jobs))\n",
    "\n",
    "    for j in job_list:\n",
    "        if \"AutoMLJobStatus\" in j.keys():\n",
    "            if j[\"AutoMLJobStatus\"] == \"InProgress\":\n",
    "                running_jobs = running_jobs + 1\n",
    "    print(\"[INFO] You have {} Autopilot job(s) currently running << Should be 0 jobs.\".format(running_jobs))\n",
    "    \n",
    "    # newly added. This will read the first running job and store it as the auto ml job\n",
    "    # auto_ml_job_name = job_list[0]['AutoMLJobName']\n",
    "    # %store auto_ml_job_name\n",
    "else:\n",
    "    print(\"[OK] Please continue.\")"
   ]
  },
  {
   "cell_type": "markdown",
   "metadata": {},
   "source": [
    "# Launch the SageMaker Autopilot Job"
   ]
  },
  {
   "cell_type": "code",
   "execution_count": 1,
   "metadata": {},
   "outputs": [],
   "source": [
    "# set this to true if you are facing errors for an already running automl job which is not yours\n",
    "create_new_job = False"
   ]
  },
  {
   "cell_type": "code",
   "execution_count": 4,
   "metadata": {},
   "outputs": [],
   "source": [
    "from time import gmtime, strftime, sleep"
   ]
  },
  {
   "cell_type": "code",
   "execution_count": 5,
   "metadata": {},
   "outputs": [
    {
     "name": "stdout",
     "output_type": "stream",
     "text": [
      "Created AutoMLJobName: automl-dm-16-00-23-46\n"
     ]
    }
   ],
   "source": [
    "%store -r auto_ml_job_name\n",
    "try:\n",
    "    if create_new_job: raise NameError\n",
    "    auto_ml_job_name\n",
    "except NameError:\n",
    "    timestamp_suffix = strftime(\"%d-%H-%M-%S\", gmtime())\n",
    "    auto_ml_job_name = \"automl-dm-\" + timestamp_suffix\n",
    "    print(\"Created AutoMLJobName: \" + auto_ml_job_name)"
   ]
  },
  {
   "cell_type": "code",
   "execution_count": 69,
   "metadata": {},
   "outputs": [
    {
     "name": "stdout",
     "output_type": "stream",
     "text": [
      "automl-dm-15-23-48-16\n"
     ]
    }
   ],
   "source": [
    "print(auto_ml_job_name)\n",
    "\n",
    "%store auto_ml_job_name"
   ]
  },
  {
   "cell_type": "code",
   "execution_count": 79,
   "metadata": {},
   "outputs": [
    {
     "name": "stdout",
     "output_type": "stream",
     "text": [
      "[INFO] You have already launched 1 Autopilot job(s). Please continue see the output of the running job.\n"
     ]
    }
   ],
   "source": [
    "max_running_jobs = 1\n",
    "\n",
    "if running_jobs < max_running_jobs:  # Limiting to max. 1 Jobs\n",
    "    try:\n",
    "        sm.create_auto_ml_job(\n",
    "            AutoMLJobName=auto_ml_job_name,\n",
    "            InputDataConfig=input_data_config,\n",
    "            OutputDataConfig=output_data_config,\n",
    "            AutoMLJobConfig=job_config,\n",
    "            RoleArn=role,\n",
    "        )\n",
    "        print(\"[OK] Autopilot Job {} created.\".format(auto_ml_job_name))\n",
    "        running_jobs = running_jobs + 1\n",
    "    except Exception as error:\n",
    "        print(\n",
    "            \"[INFO] You have already launched an Autopilot job. Please continue see the output of this job.\".format(\n",
    "                running_jobs\n",
    "            )\n",
    "        )\n",
    "        print(error)\n",
    "else:\n",
    "    print(\n",
    "        \"[INFO] You have already launched {} Autopilot job(s). Please continue see the output of the running job.\".format(\n",
    "            running_jobs\n",
    "        )\n",
    "    )"
   ]
  },
  {
   "cell_type": "markdown",
   "metadata": {},
   "source": [
    "# Track the Progress of the Autopilot Job\n",
    "\n",
    "SageMaker Autopilot job consists of the following high-level steps: \n",
    "* _Data Analysis_ where the data is summarized and analyzed to determine which feature engineering techniques, hyper-parameters, and models to explore.\n",
    "* _Feature Engineering_ where the data is scrubbed, balanced, combined, and split into train and validation.\n",
    "* _Model Training and Tuning_ where the top performing features, hyper-parameters, and models are selected and trained.\n",
    "\n",
    "<img src=\"img/autopilot-steps.png\" width=\"90%\" align=\"left\">"
   ]
  },
  {
   "cell_type": "markdown",
   "metadata": {},
   "source": [
    "**Autopilot Research Paper:   \n",
    "https://assets.amazon.science/e8/8b/2366b1ab407990dec96e55ee5664/amazon-sagemaker-autopilot-a-white-box-automl-solution-at-scale.pdf**"
   ]
  },
  {
   "cell_type": "markdown",
   "metadata": {},
   "source": [
    "# Analyzing Data and Generate Notebooks"
   ]
  },
  {
   "cell_type": "code",
   "execution_count": 80,
   "metadata": {},
   "outputs": [
    {
     "name": "stdout",
     "output_type": "stream",
     "text": [
      "[OK] AutoMLJob started.\n"
     ]
    }
   ],
   "source": [
    "job_description_response = sm.describe_auto_ml_job(AutoMLJobName=auto_ml_job_name)\n",
    "\n",
    "while (\n",
    "    \"AutoMLJobStatus\" not in job_description_response.keys()\n",
    "    and \"AutoMLJobSecondaryStatus\" not in job_description_response.keys()\n",
    "):\n",
    "    job_description_response = sm.describe_auto_ml_job(AutoMLJobName=auto_ml_job_name)\n",
    "    print(\"[INFO] Autopilot Job has not yet started. Please wait. \")\n",
    "    print(json.dumps(job_description_response, indent=4, sort_keys=True, default=str))\n",
    "    print(\"[INFO] Waiting for Autopilot Job to start...\")\n",
    "    sleep(15)\n",
    "\n",
    "print(\"[OK] AutoMLJob started.\")"
   ]
  },
  {
   "cell_type": "markdown",
   "metadata": {},
   "source": [
    "# Review the SageMaker `Processing Jobs`\n",
    "* First Processing Job (Data Splitter) checks the data sanity, performs stratified shuffling and splits the data into training and validation. \n",
    "* Second Processing Job (Candidate Generator) first streams through the data to compute statistics for the dataset. Then, uses these statistics to identify the problem type, and possible types of every column-predictor: numeric, categorical, natural language, etc."
   ]
  },
  {
   "cell_type": "code",
   "execution_count": 81,
   "metadata": {},
   "outputs": [
    {
     "data": {
      "text/html": [
       "<b>Review <a target=\"blank\" href=\"https://console.aws.amazon.com/sagemaker/home?region=us-east-1#/processing-jobs/\">Processing Jobs</a></b>"
      ],
      "text/plain": [
       "<IPython.core.display.HTML object>"
      ]
     },
     "metadata": {},
     "output_type": "display_data"
    }
   ],
   "source": [
    "from IPython.core.display import display, HTML\n",
    "\n",
    "display(\n",
    "    HTML(\n",
    "        '<b>Review <a target=\"blank\" href=\"https://console.aws.amazon.com/sagemaker/home?region={}#/processing-jobs/\">Processing Jobs</a></b>'.format(\n",
    "            region\n",
    "        )\n",
    "    )\n",
    ")"
   ]
  },
  {
   "cell_type": "markdown",
   "metadata": {},
   "source": [
    "# The Next Cell Will Show `InProgress` For A Few Minutes.\n",
    "\n",
    "## _Please be patient._"
   ]
  },
  {
   "cell_type": "code",
   "execution_count": 82,
   "metadata": {
    "scrolled": true
   },
   "outputs": [
    {
     "name": "stdout",
     "output_type": "stream",
     "text": [
      "InProgress AnalyzingData\n",
      "InProgress FeatureEngineering\n",
      "[OK] Data analysis phase completed.\n",
      "\n",
      "{\n",
      "    \"AutoMLJobArn\": \"arn:aws:sagemaker:us-east-1:211125778552:automl-job/automl-dm-15-23-44-02\",\n",
      "    \"AutoMLJobArtifacts\": {\n",
      "        \"CandidateDefinitionNotebookLocation\": \"s3://sagemaker-us-east-1-211125778552/models/autopilot/automl-dm-15-23-44-02/sagemaker-automl-candidates/automl-dm-15-23-44-02-pr-1-22eedf8e537f408f8cedc76c5f279e15b2a6/notebooks/SageMakerAutopilotCandidateDefinitionNotebook.ipynb\",\n",
      "        \"DataExplorationNotebookLocation\": \"s3://sagemaker-us-east-1-211125778552/models/autopilot/automl-dm-15-23-44-02/sagemaker-automl-candidates/automl-dm-15-23-44-02-pr-1-22eedf8e537f408f8cedc76c5f279e15b2a6/notebooks/SageMakerAutopilotDataExplorationNotebook.ipynb\"\n",
      "    },\n",
      "    \"AutoMLJobConfig\": {\n",
      "        \"CompletionCriteria\": {\n",
      "            \"MaxAutoMLJobRuntimeInSeconds\": 5400,\n",
      "            \"MaxCandidates\": 3,\n",
      "            \"MaxRuntimePerTrainingJobInSeconds\": 900\n",
      "        }\n",
      "    },\n",
      "    \"AutoMLJobName\": \"automl-dm-15-23-44-02\",\n",
      "    \"AutoMLJobSecondaryStatus\": \"FeatureEngineering\",\n",
      "    \"AutoMLJobStatus\": \"InProgress\",\n",
      "    \"CreationTime\": \"2024-02-15 23:45:23.257000+00:00\",\n",
      "    \"GenerateCandidateDefinitionsOnly\": false,\n",
      "    \"InputDataConfig\": [\n",
      "        {\n",
      "            \"ChannelType\": \"training\",\n",
      "            \"ContentType\": \"text/csv;header=present\",\n",
      "            \"DataSource\": {\n",
      "                \"S3DataSource\": {\n",
      "                    \"S3DataType\": \"S3Prefix\",\n",
      "                    \"S3Uri\": \"s3://sagemaker-us-east-1-211125778552/data/amazon_reviews_us_Digital_Software_v1_00_autopilot.csv\"\n",
      "                }\n",
      "            },\n",
      "            \"TargetAttributeName\": \"star_rating\"\n",
      "        }\n",
      "    ],\n",
      "    \"LastModifiedTime\": \"2024-02-15 23:54:02.699000+00:00\",\n",
      "    \"OutputDataConfig\": {\n",
      "        \"S3OutputPath\": \"s3://sagemaker-us-east-1-211125778552/models/autopilot\"\n",
      "    },\n",
      "    \"ResolvedAttributes\": {\n",
      "        \"AutoMLJobObjective\": {\n",
      "            \"MetricName\": \"Accuracy\"\n",
      "        },\n",
      "        \"CompletionCriteria\": {\n",
      "            \"MaxAutoMLJobRuntimeInSeconds\": 5400,\n",
      "            \"MaxCandidates\": 3,\n",
      "            \"MaxRuntimePerTrainingJobInSeconds\": 900\n",
      "        },\n",
      "        \"ProblemType\": \"MulticlassClassification\"\n",
      "    },\n",
      "    \"ResponseMetadata\": {\n",
      "        \"HTTPHeaders\": {\n",
      "            \"content-length\": \"1749\",\n",
      "            \"content-type\": \"application/x-amz-json-1.1\",\n",
      "            \"date\": \"Thu, 15 Feb 2024 23:54:04 GMT\",\n",
      "            \"x-amzn-requestid\": \"90697ba0-0eb4-45a5-bc0a-446fc0d44269\"\n",
      "        },\n",
      "        \"HTTPStatusCode\": 200,\n",
      "        \"RequestId\": \"90697ba0-0eb4-45a5-bc0a-446fc0d44269\",\n",
      "        \"RetryAttempts\": 0\n",
      "    },\n",
      "    \"RoleArn\": \"arn:aws:iam::211125778552:role/service-role/AmazonSageMaker-ExecutionRole-20240215T152311\"\n",
      "}\n",
      "CPU times: user 10.2 ms, sys: 0 ns, total: 10.2 ms\n",
      "Wall time: 30.2 s\n"
     ]
    }
   ],
   "source": [
    "%%time\n",
    "\n",
    "job_status = job_description_response[\"AutoMLJobStatus\"]\n",
    "job_sec_status = job_description_response[\"AutoMLJobSecondaryStatus\"]\n",
    "\n",
    "if job_status not in (\"Stopped\", \"Failed\"):\n",
    "    while job_status in (\"InProgress\") and job_sec_status in (\"Starting\", \"AnalyzingData\"):\n",
    "        job_description_response = sm.describe_auto_ml_job(AutoMLJobName=auto_ml_job_name)\n",
    "        job_status = job_description_response[\"AutoMLJobStatus\"]\n",
    "        job_sec_status = job_description_response[\"AutoMLJobSecondaryStatus\"]\n",
    "        print(job_status, job_sec_status)\n",
    "        sleep(15)\n",
    "    print(\"[OK] Data analysis phase completed.\\n\")\n",
    "\n",
    "print(json.dumps(job_description_response, indent=4, sort_keys=True, default=str))"
   ]
  },
  {
   "cell_type": "markdown",
   "metadata": {},
   "source": [
    "# View Generated Notebook Samples\n",
    "Once data analysis is complete, SageMaker AutoPilot generates two notebooks: \n",
    "* Data Exploration\n",
    "* Candidate Definition"
   ]
  },
  {
   "cell_type": "markdown",
   "metadata": {},
   "source": [
    "# Waiting For Generated Notebooks"
   ]
  },
  {
   "cell_type": "code",
   "execution_count": 83,
   "metadata": {},
   "outputs": [
    {
     "name": "stdout",
     "output_type": "stream",
     "text": [
      "[OK] AutoMLJobArtifacts generated.\n"
     ]
    }
   ],
   "source": [
    "job_description_response = sm.describe_auto_ml_job(AutoMLJobName=auto_ml_job_name)\n",
    "\n",
    "while \"AutoMLJobArtifacts\" not in job_description_response.keys():\n",
    "    job_description_response = sm.describe_auto_ml_job(AutoMLJobName=auto_ml_job_name)\n",
    "    print(\"[INFO] Autopilot Job has not yet generated the artifacts. Please wait. \")\n",
    "    print(json.dumps(job_description_response, indent=4, sort_keys=True, default=str))\n",
    "    print(\"[INFO] Waiting for AutoMLJobArtifacts...\")\n",
    "    sleep(15)\n",
    "\n",
    "print(\"[OK] AutoMLJobArtifacts generated.\")"
   ]
  },
  {
   "cell_type": "code",
   "execution_count": 84,
   "metadata": {},
   "outputs": [
    {
     "name": "stdout",
     "output_type": "stream",
     "text": [
      "[OK] DataExplorationNotebookLocation found.\n"
     ]
    }
   ],
   "source": [
    "job_description_response = sm.describe_auto_ml_job(AutoMLJobName=auto_ml_job_name)\n",
    "\n",
    "while \"DataExplorationNotebookLocation\" not in job_description_response[\"AutoMLJobArtifacts\"].keys():\n",
    "    job_description_response = sm.describe_auto_ml_job(AutoMLJobName=auto_ml_job_name)\n",
    "    print(\"[INFO] Autopilot Job has not yet generated the notebooks. Please wait. \")\n",
    "    print(json.dumps(job_description_response, indent=4, sort_keys=True, default=str))\n",
    "    print(\"[INFO] Waiting for DataExplorationNotebookLocation...\")\n",
    "    sleep(15)\n",
    "\n",
    "print(\"[OK] DataExplorationNotebookLocation found.\")"
   ]
  },
  {
   "cell_type": "code",
   "execution_count": 85,
   "metadata": {},
   "outputs": [],
   "source": [
    "generated_resources = job_description_response[\"AutoMLJobArtifacts\"][\"DataExplorationNotebookLocation\"]\n",
    "download_path = generated_resources.rsplit(\"/notebooks/SageMakerAutopilotDataExplorationNotebook.ipynb\")[0]\n",
    "job_id = download_path.rsplit(\"/\", 1)[-1]"
   ]
  },
  {
   "cell_type": "code",
   "execution_count": 86,
   "metadata": {},
   "outputs": [
    {
     "data": {
      "text/html": [
       "<b>Review <a target=\"blank\" href=\"https://s3.console.aws.amazon.com/s3/buckets/sagemaker-us-east-1-211125778552/models/autopilot/automl-dm-15-23-44-02/sagemaker-automl-candidates/automl-dm-15-23-44-02-pr-1-22eedf8e537f408f8cedc76c5f279e15b2a6/\">S3 Generated Resources</a></b>"
      ],
      "text/plain": [
       "<IPython.core.display.HTML object>"
      ]
     },
     "metadata": {},
     "output_type": "display_data"
    }
   ],
   "source": [
    "from IPython.core.display import display, HTML\n",
    "\n",
    "if not job_id:\n",
    "    print(\"No AutoMLJobArtifacts found.\")\n",
    "else:\n",
    "    display(\n",
    "        HTML(\n",
    "            '<b>Review <a target=\"blank\" href=\"https://s3.console.aws.amazon.com/s3/buckets/{}/{}/{}/sagemaker-automl-candidates/{}/\">S3 Generated Resources</a></b>'.format(\n",
    "                bucket, prefix_model_output, auto_ml_job_name, job_id\n",
    "            )\n",
    "        )\n",
    "    )"
   ]
  },
  {
   "cell_type": "markdown",
   "metadata": {},
   "source": [
    "# Download Generated Notebooks & Code"
   ]
  },
  {
   "cell_type": "code",
   "execution_count": 87,
   "metadata": {},
   "outputs": [
    {
     "name": "stdout",
     "output_type": "stream",
     "text": [
      "s3://sagemaker-us-east-1-211125778552/models/autopilot/automl-dm-15-23-44-02/sagemaker-automl-candidates/automl-dm-15-23-44-02-pr-1-22eedf8e537f408f8cedc76c5f279e15b2a6\n"
     ]
    }
   ],
   "source": [
    "print(download_path)"
   ]
  },
  {
   "cell_type": "code",
   "execution_count": 88,
   "metadata": {},
   "outputs": [
    {
     "name": "stdout",
     "output_type": "stream",
     "text": [
      "download: s3://sagemaker-us-east-1-211125778552/models/autopilot/automl-dm-15-23-44-02/sagemaker-automl-candidates/automl-dm-15-23-44-02-pr-1-22eedf8e537f408f8cedc76c5f279e15b2a6/generated_module/MANIFEST.in to generated_module/MANIFEST.in\n",
      "download: s3://sagemaker-us-east-1-211125778552/models/autopilot/automl-dm-15-23-44-02/sagemaker-automl-candidates/automl-dm-15-23-44-02-pr-1-22eedf8e537f408f8cedc76c5f279e15b2a6/generated_module/README.md to generated_module/README.md\n",
      "download: s3://sagemaker-us-east-1-211125778552/models/autopilot/automl-dm-15-23-44-02/sagemaker-automl-candidates/automl-dm-15-23-44-02-pr-1-22eedf8e537f408f8cedc76c5f279e15b2a6/generated_module/candidate_data_processors/sagemaker_serve.py to generated_module/candidate_data_processors/sagemaker_serve.py\n",
      "download: s3://sagemaker-us-east-1-211125778552/models/autopilot/automl-dm-15-23-44-02/sagemaker-automl-candidates/automl-dm-15-23-44-02-pr-1-22eedf8e537f408f8cedc76c5f279e15b2a6/generated_module/candidate_data_processors/dpp0.py to generated_module/candidate_data_processors/dpp0.py\n",
      "download: s3://sagemaker-us-east-1-211125778552/models/autopilot/automl-dm-15-23-44-02/sagemaker-automl-candidates/automl-dm-15-23-44-02-pr-1-22eedf8e537f408f8cedc76c5f279e15b2a6/generated_module/candidate_data_processors/dpp1.py to generated_module/candidate_data_processors/dpp1.py\n",
      "download: s3://sagemaker-us-east-1-211125778552/models/autopilot/automl-dm-15-23-44-02/sagemaker-automl-candidates/automl-dm-15-23-44-02-pr-1-22eedf8e537f408f8cedc76c5f279e15b2a6/notebooks/sagemaker_automl/local_candidate.py to notebooks/sagemaker_automl/local_candidate.py\n",
      "download: s3://sagemaker-us-east-1-211125778552/models/autopilot/automl-dm-15-23-44-02/sagemaker-automl-candidates/automl-dm-15-23-44-02-pr-1-22eedf8e537f408f8cedc76c5f279e15b2a6/notebooks/SageMakerAutopilotDataExplorationNotebook.ipynb to notebooks/SageMakerAutopilotDataExplorationNotebook.ipynb\n",
      "download: s3://sagemaker-us-east-1-211125778552/models/autopilot/automl-dm-15-23-44-02/sagemaker-automl-candidates/automl-dm-15-23-44-02-pr-1-22eedf8e537f408f8cedc76c5f279e15b2a6/generated_module/candidate_data_processors/dpp2.py to generated_module/candidate_data_processors/dpp2.py\n",
      "download: s3://sagemaker-us-east-1-211125778552/models/autopilot/automl-dm-15-23-44-02/sagemaker-automl-candidates/automl-dm-15-23-44-02-pr-1-22eedf8e537f408f8cedc76c5f279e15b2a6/notebooks/sagemaker_automl/interactive_runner.py to notebooks/sagemaker_automl/interactive_runner.py\n",
      "download: s3://sagemaker-us-east-1-211125778552/models/autopilot/automl-dm-15-23-44-02/sagemaker-automl-candidates/automl-dm-15-23-44-02-pr-1-22eedf8e537f408f8cedc76c5f279e15b2a6/generated_module/setup.py to generated_module/setup.py\n",
      "download: s3://sagemaker-us-east-1-211125778552/models/autopilot/automl-dm-15-23-44-02/sagemaker-automl-candidates/automl-dm-15-23-44-02-pr-1-22eedf8e537f408f8cedc76c5f279e15b2a6/notebooks/sagemaker_automl/README.md to notebooks/sagemaker_automl/README.md\n",
      "download: s3://sagemaker-us-east-1-211125778552/models/autopilot/automl-dm-15-23-44-02/sagemaker-automl-candidates/automl-dm-15-23-44-02-pr-1-22eedf8e537f408f8cedc76c5f279e15b2a6/notebooks/sagemaker_automl/config.py to notebooks/sagemaker_automl/config.py\n",
      "download: s3://sagemaker-us-east-1-211125778552/models/autopilot/automl-dm-15-23-44-02/sagemaker-automl-candidates/automl-dm-15-23-44-02-pr-1-22eedf8e537f408f8cedc76c5f279e15b2a6/notebooks/sagemaker_automl/common.py to notebooks/sagemaker_automl/common.py\n",
      "download: s3://sagemaker-us-east-1-211125778552/models/autopilot/automl-dm-15-23-44-02/sagemaker-automl-candidates/automl-dm-15-23-44-02-pr-1-22eedf8e537f408f8cedc76c5f279e15b2a6/notebooks/SageMakerAutopilotCandidateDefinitionNotebook.ipynb to notebooks/SageMakerAutopilotCandidateDefinitionNotebook.ipynb\n",
      "download: s3://sagemaker-us-east-1-211125778552/models/autopilot/automl-dm-15-23-44-02/sagemaker-automl-candidates/automl-dm-15-23-44-02-pr-1-22eedf8e537f408f8cedc76c5f279e15b2a6/notebooks/sagemaker_automl/steps.py to notebooks/sagemaker_automl/steps.py\n",
      "download: s3://sagemaker-us-east-1-211125778552/models/autopilot/automl-dm-15-23-44-02/sagemaker-automl-candidates/automl-dm-15-23-44-02-pr-1-22eedf8e537f408f8cedc76c5f279e15b2a6/generated_module/candidate_data_processors/trainer.py to generated_module/candidate_data_processors/trainer.py\n",
      "download: s3://sagemaker-us-east-1-211125778552/models/autopilot/automl-dm-15-23-44-02/sagemaker-automl-candidates/automl-dm-15-23-44-02-pr-1-22eedf8e537f408f8cedc76c5f279e15b2a6/notebooks/sagemaker_automl/__init__.py to notebooks/sagemaker_automl/__init__.py\n"
     ]
    }
   ],
   "source": [
    "try:\n",
    "    !aws s3 cp --recursive $download_path .\n",
    "except:\n",
    "    print('Could not download the generated resources. Make sure the path is correct.')"
   ]
  },
  {
   "cell_type": "markdown",
   "metadata": {},
   "source": [
    "# Review The Generated Resources:"
   ]
  },
  {
   "cell_type": "code",
   "execution_count": 89,
   "metadata": {},
   "outputs": [
    {
     "name": "stdout",
     "output_type": "stream",
     "text": [
      "dpp0.py  dpp1.py  dpp2.py  sagemaker_serve.py  trainer.py\n"
     ]
    }
   ],
   "source": [
    "!ls ./generated_module/candidate_data_processors"
   ]
  },
  {
   "cell_type": "code",
   "execution_count": 90,
   "metadata": {},
   "outputs": [
    {
     "name": "stdout",
     "output_type": "stream",
     "text": [
      "SageMakerAutopilotCandidateDefinitionNotebook.ipynb  sagemaker_automl\n",
      "SageMakerAutopilotDataExplorationNotebook.ipynb\n"
     ]
    }
   ],
   "source": [
    "!ls ./notebooks"
   ]
  },
  {
   "cell_type": "markdown",
   "metadata": {},
   "source": [
    "# Feature Engineering"
   ]
  },
  {
   "cell_type": "markdown",
   "metadata": {},
   "source": [
    "### Watch out for SageMaker `Training Jobs` and `Batch Transform Jobs` to start. \n",
    "\n",
    "* This is the candidate exploration phase. \n",
    "* Each python script code for data-processing is executed inside a SageMaker framework container as a training job, followed by transform job.\n",
    "\n",
    "Note, that feature preprocessing part of each pipeline has all hyper parameters fixed, i.e. does not require tuning, thus feature preprocessing step can be done prior runing the hyper parameter optimization job. \n",
    "\n",
    "It outputs up to 10 variants of transformed data, therefore algorithms for each pipeline are set to use\n",
    "the respective transformed data.\n",
    "\n",
    "<img src=\"img/autopilot-steps.png\" width=\"90%\" align=\"left\">"
   ]
  },
  {
   "cell_type": "markdown",
   "metadata": {},
   "source": [
    "**Autopilot Research Paper:   \n",
    "https://assets.amazon.science/e8/8b/2366b1ab407990dec96e55ee5664/amazon-sagemaker-autopilot-a-white-box-automl-solution-at-scale.pdf**"
   ]
  },
  {
   "cell_type": "code",
   "execution_count": 91,
   "metadata": {},
   "outputs": [
    {
     "data": {
      "text/html": [
       "<b>Review <a target=\"blank\" href=\"https://console.aws.amazon.com/sagemaker/home?region=us-east-1#/jobs/\">Training Jobs</a></b>"
      ],
      "text/plain": [
       "<IPython.core.display.HTML object>"
      ]
     },
     "metadata": {},
     "output_type": "display_data"
    }
   ],
   "source": [
    "from IPython.core.display import display, HTML\n",
    "\n",
    "display(\n",
    "    HTML(\n",
    "        '<b>Review <a target=\"blank\" href=\"https://console.aws.amazon.com/sagemaker/home?region={}#/jobs/\">Training Jobs</a></b>'.format(\n",
    "            region\n",
    "        )\n",
    "    )\n",
    ")"
   ]
  },
  {
   "cell_type": "code",
   "execution_count": 92,
   "metadata": {},
   "outputs": [
    {
     "data": {
      "text/html": [
       "<b>Review <a target=\"blank\" href=\"https://console.aws.amazon.com/sagemaker/home?region=us-east-1#/transform-jobs/\">Batch Transform Jobs</a></b>"
      ],
      "text/plain": [
       "<IPython.core.display.HTML object>"
      ]
     },
     "metadata": {},
     "output_type": "display_data"
    }
   ],
   "source": [
    "from IPython.core.display import display, HTML\n",
    "\n",
    "display(\n",
    "    HTML(\n",
    "        '<b>Review <a target=\"blank\" href=\"https://console.aws.amazon.com/sagemaker/home?region={}#/transform-jobs/\">Batch Transform Jobs</a></b>'.format(\n",
    "            region\n",
    "        )\n",
    "    )\n",
    ")"
   ]
  },
  {
   "cell_type": "markdown",
   "metadata": {},
   "source": [
    "# The Next Cell Will Show `InProgress` For A Few Minutes.\n",
    "\n",
    "## _Please be patient._ ##"
   ]
  },
  {
   "cell_type": "code",
   "execution_count": 93,
   "metadata": {
    "scrolled": true
   },
   "outputs": [
    {
     "name": "stdout",
     "output_type": "stream",
     "text": [
      "InProgress\n",
      "FeatureEngineering\n"
     ]
    },
    {
     "name": "stdout",
     "output_type": "stream",
     "text": [
      "InProgress FeatureEngineering\n",
      "InProgress FeatureEngineering\n",
      "InProgress FeatureEngineering\n",
      "InProgress FeatureEngineering\n",
      "InProgress FeatureEngineering\n",
      "InProgress FeatureEngineering\n",
      "InProgress FeatureEngineering\n",
      "InProgress FeatureEngineering\n",
      "InProgress FeatureEngineering\n",
      "InProgress FeatureEngineering\n",
      "InProgress FeatureEngineering\n",
      "InProgress FeatureEngineering\n",
      "InProgress FeatureEngineering\n",
      "InProgress FeatureEngineering\n",
      "InProgress FeatureEngineering\n",
      "InProgress FeatureEngineering\n",
      "InProgress FeatureEngineering\n",
      "InProgress FeatureEngineering\n",
      "InProgress FeatureEngineering\n",
      "InProgress FeatureEngineering\n",
      "InProgress FeatureEngineering\n",
      "InProgress FeatureEngineering\n",
      "InProgress FeatureEngineering\n",
      "InProgress FeatureEngineering\n",
      "InProgress FeatureEngineering\n",
      "InProgress FeatureEngineering\n",
      "InProgress FeatureEngineering\n",
      "InProgress FeatureEngineering\n",
      "InProgress FeatureEngineering\n",
      "InProgress FeatureEngineering\n",
      "InProgress FeatureEngineering\n",
      "InProgress FeatureEngineering\n",
      "InProgress ModelTuning\n",
      "[OK] Feature engineering phase completed.\n",
      "\n",
      "{\n",
      "    \"AutoMLJobArn\": \"arn:aws:sagemaker:us-east-1:211125778552:automl-job/automl-dm-15-23-44-02\",\n",
      "    \"AutoMLJobArtifacts\": {\n",
      "        \"CandidateDefinitionNotebookLocation\": \"s3://sagemaker-us-east-1-211125778552/models/autopilot/automl-dm-15-23-44-02/sagemaker-automl-candidates/automl-dm-15-23-44-02-pr-1-22eedf8e537f408f8cedc76c5f279e15b2a6/notebooks/SageMakerAutopilotCandidateDefinitionNotebook.ipynb\",\n",
      "        \"DataExplorationNotebookLocation\": \"s3://sagemaker-us-east-1-211125778552/models/autopilot/automl-dm-15-23-44-02/sagemaker-automl-candidates/automl-dm-15-23-44-02-pr-1-22eedf8e537f408f8cedc76c5f279e15b2a6/notebooks/SageMakerAutopilotDataExplorationNotebook.ipynb\"\n",
      "    },\n",
      "    \"AutoMLJobConfig\": {\n",
      "        \"CompletionCriteria\": {\n",
      "            \"MaxAutoMLJobRuntimeInSeconds\": 5400,\n",
      "            \"MaxCandidates\": 3,\n",
      "            \"MaxRuntimePerTrainingJobInSeconds\": 900\n",
      "        }\n",
      "    },\n",
      "    \"AutoMLJobName\": \"automl-dm-15-23-44-02\",\n",
      "    \"AutoMLJobSecondaryStatus\": \"ModelTuning\",\n",
      "    \"AutoMLJobStatus\": \"InProgress\",\n",
      "    \"CreationTime\": \"2024-02-15 23:45:23.257000+00:00\",\n",
      "    \"GenerateCandidateDefinitionsOnly\": false,\n",
      "    \"InputDataConfig\": [\n",
      "        {\n",
      "            \"ChannelType\": \"training\",\n",
      "            \"ContentType\": \"text/csv;header=present\",\n",
      "            \"DataSource\": {\n",
      "                \"S3DataSource\": {\n",
      "                    \"S3DataType\": \"S3Prefix\",\n",
      "                    \"S3Uri\": \"s3://sagemaker-us-east-1-211125778552/data/amazon_reviews_us_Digital_Software_v1_00_autopilot.csv\"\n",
      "                }\n",
      "            },\n",
      "            \"TargetAttributeName\": \"star_rating\"\n",
      "        }\n",
      "    ],\n",
      "    \"LastModifiedTime\": \"2024-02-16 00:02:47.013000+00:00\",\n",
      "    \"OutputDataConfig\": {\n",
      "        \"S3OutputPath\": \"s3://sagemaker-us-east-1-211125778552/models/autopilot\"\n",
      "    },\n",
      "    \"ResolvedAttributes\": {\n",
      "        \"AutoMLJobObjective\": {\n",
      "            \"MetricName\": \"Accuracy\"\n",
      "        },\n",
      "        \"CompletionCriteria\": {\n",
      "            \"MaxAutoMLJobRuntimeInSeconds\": 5400,\n",
      "            \"MaxCandidates\": 3,\n",
      "            \"MaxRuntimePerTrainingJobInSeconds\": 900\n",
      "        },\n",
      "        \"ProblemType\": \"MulticlassClassification\"\n",
      "    },\n",
      "    \"ResponseMetadata\": {\n",
      "        \"HTTPHeaders\": {\n",
      "            \"content-length\": \"1742\",\n",
      "            \"content-type\": \"application/x-amz-json-1.1\",\n",
      "            \"date\": \"Fri, 16 Feb 2024 00:02:55 GMT\",\n",
      "            \"x-amzn-requestid\": \"7ba77eb7-5b5a-4815-8e73-27397a069fbb\"\n",
      "        },\n",
      "        \"HTTPStatusCode\": 200,\n",
      "        \"RequestId\": \"7ba77eb7-5b5a-4815-8e73-27397a069fbb\",\n",
      "        \"RetryAttempts\": 0\n",
      "    },\n",
      "    \"RoleArn\": \"arn:aws:iam::211125778552:role/service-role/AmazonSageMaker-ExecutionRole-20240215T152311\"\n",
      "}\n",
      "CPU times: user 138 ms, sys: 12.9 ms, total: 151 ms\n",
      "Wall time: 8min 17s\n"
     ]
    }
   ],
   "source": [
    "%%time\n",
    "\n",
    "job_description_response = sm.describe_auto_ml_job(AutoMLJobName=auto_ml_job_name)\n",
    "job_status = job_description_response[\"AutoMLJobStatus\"]\n",
    "job_sec_status = job_description_response[\"AutoMLJobSecondaryStatus\"]\n",
    "print(job_status)\n",
    "print(job_sec_status)\n",
    "if job_status not in (\"Stopped\", \"Failed\"):\n",
    "    while job_status in (\"InProgress\") and job_sec_status in (\"FeatureEngineering\"):\n",
    "        job_description_response = sm.describe_auto_ml_job(AutoMLJobName=auto_ml_job_name)\n",
    "        job_status = job_description_response[\"AutoMLJobStatus\"]\n",
    "        job_sec_status = job_description_response[\"AutoMLJobSecondaryStatus\"]\n",
    "        print(job_status, job_sec_status)\n",
    "        sleep(15)\n",
    "    print(\"[OK] Feature engineering phase completed.\\n\")\n",
    "\n",
    "print(json.dumps(job_description_response, indent=4, sort_keys=True, default=str))"
   ]
  },
  {
   "cell_type": "markdown",
   "metadata": {},
   "source": [
    "# [INFO] _Feel free to continue to the next workshop section while this notebook is running._"
   ]
  },
  {
   "cell_type": "markdown",
   "metadata": {},
   "source": [
    "# Model Training and Tuning"
   ]
  },
  {
   "cell_type": "markdown",
   "metadata": {},
   "source": [
    "### Watch out for a SageMaker`Hyperparameter Tuning Job` and various `Training Jobs` to start. \n",
    "\n",
    "* All algorithms are optimized using a SageMaker Hyperparameter Tuning job. \n",
    "* Up to 250 training jobs (based on number of candidates specified) are selectively executed to find the best candidate model.\n",
    "\n",
    "<img src=\"img/autopilot-steps.png\" width=\"90%\" align=\"left\">"
   ]
  },
  {
   "cell_type": "markdown",
   "metadata": {},
   "source": [
    "**Autopilot Research Paper:   \n",
    "https://assets.amazon.science/e8/8b/2366b1ab407990dec96e55ee5664/amazon-sagemaker-autopilot-a-white-box-automl-solution-at-scale.pdf**"
   ]
  },
  {
   "cell_type": "code",
   "execution_count": 94,
   "metadata": {},
   "outputs": [
    {
     "data": {
      "text/html": [
       "<b>Review <a target=\"blank\" href=\"https://console.aws.amazon.com/sagemaker/home?region=us-east-1#/hyper-tuning-jobs/\">Hyperparameter Tuning Jobs</a></b>"
      ],
      "text/plain": [
       "<IPython.core.display.HTML object>"
      ]
     },
     "metadata": {},
     "output_type": "display_data"
    }
   ],
   "source": [
    "from IPython.core.display import display, HTML\n",
    "\n",
    "display(\n",
    "    HTML(\n",
    "        '<b>Review <a target=\"blank\" href=\"https://console.aws.amazon.com/sagemaker/home?region={}#/hyper-tuning-jobs/\">Hyperparameter Tuning Jobs</a></b>'.format(\n",
    "            region\n",
    "        )\n",
    "    )\n",
    ")"
   ]
  },
  {
   "cell_type": "code",
   "execution_count": 95,
   "metadata": {},
   "outputs": [
    {
     "data": {
      "text/html": [
       "<b>Review <a target=\"blank\" href=\"https://console.aws.amazon.com/sagemaker/home?region=us-east-1#/jobs/\">Training Jobs</a></b>"
      ],
      "text/plain": [
       "<IPython.core.display.HTML object>"
      ]
     },
     "metadata": {},
     "output_type": "display_data"
    }
   ],
   "source": [
    "from IPython.core.display import display, HTML\n",
    "\n",
    "display(\n",
    "    HTML(\n",
    "        '<b>Review <a target=\"blank\" href=\"https://console.aws.amazon.com/sagemaker/home?region={}#/jobs/\">Training Jobs</a></b>'.format(\n",
    "            region\n",
    "        )\n",
    "    )\n",
    ")"
   ]
  },
  {
   "cell_type": "markdown",
   "metadata": {},
   "source": [
    "# The Next Cell Will Show `InProgress` For A Few Minutes.\n",
    "\n",
    "## _Please be patient._"
   ]
  },
  {
   "cell_type": "code",
   "execution_count": 96,
   "metadata": {
    "scrolled": true
   },
   "outputs": [
    {
     "name": "stdout",
     "output_type": "stream",
     "text": [
      "InProgress\n",
      "ModelTuning\n",
      "InProgress ModelTuning\n",
      "InProgress ModelTuning\n",
      "InProgress ModelTuning\n",
      "InProgress ModelTuning\n",
      "InProgress ModelTuning\n",
      "InProgress ModelTuning\n",
      "InProgress ModelTuning\n",
      "InProgress ModelTuning\n",
      "InProgress ModelTuning\n",
      "InProgress ModelTuning\n",
      "InProgress ModelTuning\n",
      "InProgress ModelTuning\n",
      "InProgress ModelTuning\n",
      "InProgress ModelTuning\n",
      "InProgress ModelTuning\n",
      "InProgress ModelTuning\n",
      "InProgress ModelTuning\n",
      "InProgress ModelTuning\n",
      "InProgress MergingAutoMLTaskReports\n",
      "[OK] Model tuning phase completed.\n",
      "\n",
      "{\n",
      "    \"AutoMLJobArn\": \"arn:aws:sagemaker:us-east-1:211125778552:automl-job/automl-dm-15-23-44-02\",\n",
      "    \"AutoMLJobArtifacts\": {\n",
      "        \"CandidateDefinitionNotebookLocation\": \"s3://sagemaker-us-east-1-211125778552/models/autopilot/automl-dm-15-23-44-02/sagemaker-automl-candidates/automl-dm-15-23-44-02-pr-1-22eedf8e537f408f8cedc76c5f279e15b2a6/notebooks/SageMakerAutopilotCandidateDefinitionNotebook.ipynb\",\n",
      "        \"DataExplorationNotebookLocation\": \"s3://sagemaker-us-east-1-211125778552/models/autopilot/automl-dm-15-23-44-02/sagemaker-automl-candidates/automl-dm-15-23-44-02-pr-1-22eedf8e537f408f8cedc76c5f279e15b2a6/notebooks/SageMakerAutopilotDataExplorationNotebook.ipynb\"\n",
      "    },\n",
      "    \"AutoMLJobConfig\": {\n",
      "        \"CompletionCriteria\": {\n",
      "            \"MaxAutoMLJobRuntimeInSeconds\": 5400,\n",
      "            \"MaxCandidates\": 3,\n",
      "            \"MaxRuntimePerTrainingJobInSeconds\": 900\n",
      "        }\n",
      "    },\n",
      "    \"AutoMLJobName\": \"automl-dm-15-23-44-02\",\n",
      "    \"AutoMLJobSecondaryStatus\": \"MergingAutoMLTaskReports\",\n",
      "    \"AutoMLJobStatus\": \"InProgress\",\n",
      "    \"BestCandidate\": {\n",
      "        \"CandidateName\": \"automl-dm-15-23-44-02P6qCIvwtEUe-002-d08598bd\",\n",
      "        \"CandidateProperties\": {\n",
      "            \"CandidateMetrics\": [\n",
      "                {\n",
      "                    \"MetricName\": \"F1macro\",\n",
      "                    \"Set\": \"Validation\",\n",
      "                    \"StandardMetricName\": \"F1macro\",\n",
      "                    \"Value\": 0.3677299916744232\n",
      "                },\n",
      "                {\n",
      "                    \"MetricName\": \"PrecisionMacro\",\n",
      "                    \"Set\": \"Validation\",\n",
      "                    \"StandardMetricName\": \"PrecisionMacro\",\n",
      "                    \"Value\": 0.3709299862384796\n",
      "                },\n",
      "                {\n",
      "                    \"MetricName\": \"Accuracy\",\n",
      "                    \"Set\": \"Validation\",\n",
      "                    \"StandardMetricName\": \"Accuracy\",\n",
      "                    \"Value\": 0.3719500005245209\n",
      "                },\n",
      "                {\n",
      "                    \"MetricName\": \"BalancedAccuracy\",\n",
      "                    \"Set\": \"Validation\",\n",
      "                    \"StandardMetricName\": \"BalancedAccuracy\",\n",
      "                    \"Value\": 0.37209999561309814\n",
      "                },\n",
      "                {\n",
      "                    \"MetricName\": \"LogLoss\",\n",
      "                    \"Set\": \"Validation\",\n",
      "                    \"StandardMetricName\": \"LogLoss\",\n",
      "                    \"Value\": 1.5466500520706177\n",
      "                },\n",
      "                {\n",
      "                    \"MetricName\": \"RecallMacro\",\n",
      "                    \"Set\": \"Validation\",\n",
      "                    \"StandardMetricName\": \"RecallMacro\",\n",
      "                    \"Value\": 0.37209999561309814\n",
      "                }\n",
      "            ]\n",
      "        },\n",
      "        \"CandidateStatus\": \"Completed\",\n",
      "        \"CandidateSteps\": [\n",
      "            {\n",
      "                \"CandidateStepArn\": \"arn:aws:sagemaker:us-east-1:211125778552:processing-job/automl-dm-15-23-44-02-db-1-3e9a9bbeacaf4b83a87a7bc44b18b75292b1\",\n",
      "                \"CandidateStepName\": \"automl-dm-15-23-44-02-db-1-3e9a9bbeacaf4b83a87a7bc44b18b75292b1\",\n",
      "                \"CandidateStepType\": \"AWS::SageMaker::ProcessingJob\"\n",
      "            },\n",
      "            {\n",
      "                \"CandidateStepArn\": \"arn:aws:sagemaker:us-east-1:211125778552:training-job/automl-dm-15-23-44-02-dpp0-1-dd9560ec955a4041a32bc74f9829f05fac\",\n",
      "                \"CandidateStepName\": \"automl-dm-15-23-44-02-dpp0-1-dd9560ec955a4041a32bc74f9829f05fac\",\n",
      "                \"CandidateStepType\": \"AWS::SageMaker::TrainingJob\"\n",
      "            },\n",
      "            {\n",
      "                \"CandidateStepArn\": \"arn:aws:sagemaker:us-east-1:211125778552:transform-job/automl-dm-15-23-44-02-dpp0-rpb-1-ac8a2b4f6fda4b41993873191eec8f\",\n",
      "                \"CandidateStepName\": \"automl-dm-15-23-44-02-dpp0-rpb-1-ac8a2b4f6fda4b41993873191eec8f\",\n",
      "                \"CandidateStepType\": \"AWS::SageMaker::TransformJob\"\n",
      "            },\n",
      "            {\n",
      "                \"CandidateStepArn\": \"arn:aws:sagemaker:us-east-1:211125778552:training-job/automl-dm-15-23-44-02P6qCIvwtEUe-002-d08598bd\",\n",
      "                \"CandidateStepName\": \"automl-dm-15-23-44-02P6qCIvwtEUe-002-d08598bd\",\n",
      "                \"CandidateStepType\": \"AWS::SageMaker::TrainingJob\"\n",
      "            }\n",
      "        ],\n",
      "        \"CreationTime\": \"2024-02-16 00:04:24+00:00\",\n",
      "        \"EndTime\": \"2024-02-16 00:06:16+00:00\",\n",
      "        \"FinalAutoMLJobObjectiveMetric\": {\n",
      "            \"MetricName\": \"validation:accuracy\",\n",
      "            \"StandardMetricName\": \"Accuracy\",\n",
      "            \"Value\": 0.3719500005245209\n",
      "        },\n",
      "        \"InferenceContainers\": [\n",
      "            {\n",
      "                \"Environment\": {\n",
      "                    \"AUTOML_SPARSE_ENCODE_RECORDIO_PROTOBUF\": \"1\",\n",
      "                    \"AUTOML_TRANSFORM_MODE\": \"feature-transform\",\n",
      "                    \"SAGEMAKER_DEFAULT_INVOCATIONS_ACCEPT\": \"application/x-recordio-protobuf\",\n",
      "                    \"SAGEMAKER_PROGRAM\": \"sagemaker_serve\",\n",
      "                    \"SAGEMAKER_SUBMIT_DIRECTORY\": \"/opt/ml/model/code\"\n",
      "                },\n",
      "                \"Image\": \"683313688378.dkr.ecr.us-east-1.amazonaws.com/sagemaker-sklearn-automl:2.5-1-cpu-py3\",\n",
      "                \"ModelDataUrl\": \"s3://sagemaker-us-east-1-211125778552/models/autopilot/automl-dm-15-23-44-02/data-processor-models/automl-dm-15-23-44-02-dpp0-1-dd9560ec955a4041a32bc74f9829f05fac/output/model.tar.gz\"\n",
      "            },\n",
      "            {\n",
      "                \"Environment\": {\n",
      "                    \"MAX_CONTENT_LENGTH\": \"20971520\",\n",
      "                    \"SAGEMAKER_DEFAULT_INVOCATIONS_ACCEPT\": \"text/csv\",\n",
      "                    \"SAGEMAKER_INFERENCE_OUTPUT\": \"predicted_label\",\n",
      "                    \"SAGEMAKER_INFERENCE_SUPPORTED\": \"predicted_label,probability,probabilities\"\n",
      "                },\n",
      "                \"Image\": \"683313688378.dkr.ecr.us-east-1.amazonaws.com/sagemaker-xgboost:1.3-1-cpu-py3\",\n",
      "                \"ModelDataUrl\": \"s3://sagemaker-us-east-1-211125778552/models/autopilot/automl-dm-15-23-44-02/tuning/automl-dm--dpp0-xgb/automl-dm-15-23-44-02P6qCIvwtEUe-002-d08598bd/output/model.tar.gz\"\n",
      "            },\n",
      "            {\n",
      "                \"Environment\": {\n",
      "                    \"AUTOML_TRANSFORM_MODE\": \"inverse-label-transform\",\n",
      "                    \"SAGEMAKER_DEFAULT_INVOCATIONS_ACCEPT\": \"text/csv\",\n",
      "                    \"SAGEMAKER_INFERENCE_INPUT\": \"predicted_label\",\n",
      "                    \"SAGEMAKER_INFERENCE_OUTPUT\": \"predicted_label\",\n",
      "                    \"SAGEMAKER_INFERENCE_SUPPORTED\": \"predicted_label,probability,labels,probabilities\",\n",
      "                    \"SAGEMAKER_PROGRAM\": \"sagemaker_serve\",\n",
      "                    \"SAGEMAKER_SUBMIT_DIRECTORY\": \"/opt/ml/model/code\"\n",
      "                },\n",
      "                \"Image\": \"683313688378.dkr.ecr.us-east-1.amazonaws.com/sagemaker-sklearn-automl:2.5-1-cpu-py3\",\n",
      "                \"ModelDataUrl\": \"s3://sagemaker-us-east-1-211125778552/models/autopilot/automl-dm-15-23-44-02/data-processor-models/automl-dm-15-23-44-02-dpp0-1-dd9560ec955a4041a32bc74f9829f05fac/output/model.tar.gz\"\n",
      "            }\n",
      "        ],\n",
      "        \"LastModifiedTime\": \"2024-02-16 00:07:36.743000+00:00\",\n",
      "        \"ObjectiveStatus\": \"Succeeded\"\n",
      "    },\n",
      "    \"CreationTime\": \"2024-02-15 23:45:23.257000+00:00\",\n",
      "    \"GenerateCandidateDefinitionsOnly\": false,\n",
      "    \"InputDataConfig\": [\n",
      "        {\n",
      "            \"ChannelType\": \"training\",\n",
      "            \"ContentType\": \"text/csv;header=present\",\n",
      "            \"DataSource\": {\n",
      "                \"S3DataSource\": {\n",
      "                    \"S3DataType\": \"S3Prefix\",\n",
      "                    \"S3Uri\": \"s3://sagemaker-us-east-1-211125778552/data/amazon_reviews_us_Digital_Software_v1_00_autopilot.csv\"\n",
      "                }\n",
      "            },\n",
      "            \"TargetAttributeName\": \"star_rating\"\n",
      "        }\n",
      "    ],\n",
      "    \"LastModifiedTime\": \"2024-02-16 00:07:37.908000+00:00\",\n",
      "    \"OutputDataConfig\": {\n",
      "        \"S3OutputPath\": \"s3://sagemaker-us-east-1-211125778552/models/autopilot\"\n",
      "    },\n",
      "    \"ResolvedAttributes\": {\n",
      "        \"AutoMLJobObjective\": {\n",
      "            \"MetricName\": \"Accuracy\"\n",
      "        },\n",
      "        \"CompletionCriteria\": {\n",
      "            \"MaxAutoMLJobRuntimeInSeconds\": 5400,\n",
      "            \"MaxCandidates\": 3,\n",
      "            \"MaxRuntimePerTrainingJobInSeconds\": 900\n",
      "        },\n",
      "        \"ProblemType\": \"MulticlassClassification\"\n",
      "    },\n",
      "    \"ResponseMetadata\": {\n",
      "        \"HTTPHeaders\": {\n",
      "            \"content-length\": \"5696\",\n",
      "            \"content-type\": \"application/x-amz-json-1.1\",\n",
      "            \"date\": \"Fri, 16 Feb 2024 00:07:43 GMT\",\n",
      "            \"x-amzn-requestid\": \"734d1674-3226-425b-abd6-ba014cd6b360\"\n",
      "        },\n",
      "        \"HTTPStatusCode\": 200,\n",
      "        \"RequestId\": \"734d1674-3226-425b-abd6-ba014cd6b360\",\n",
      "        \"RetryAttempts\": 0\n",
      "    },\n",
      "    \"RoleArn\": \"arn:aws:iam::211125778552:role/service-role/AmazonSageMaker-ExecutionRole-20240215T152311\"\n",
      "}\n",
      "CPU times: user 275 ms, sys: 26.7 ms, total: 301 ms\n",
      "Wall time: 4min 47s\n"
     ]
    }
   ],
   "source": [
    "%%time\n",
    "\n",
    "job_description_response = sm.describe_auto_ml_job(AutoMLJobName=auto_ml_job_name)\n",
    "job_status = job_description_response[\"AutoMLJobStatus\"]\n",
    "job_sec_status = job_description_response[\"AutoMLJobSecondaryStatus\"]\n",
    "print(job_status)\n",
    "print(job_sec_status)\n",
    "if job_status not in (\"Stopped\", \"Failed\"):\n",
    "    while job_status in (\"InProgress\") and job_sec_status in (\"ModelTuning\"):\n",
    "        job_description_response = sm.describe_auto_ml_job(AutoMLJobName=auto_ml_job_name)\n",
    "        job_status = job_description_response[\"AutoMLJobStatus\"]\n",
    "        job_sec_status = job_description_response[\"AutoMLJobSecondaryStatus\"]\n",
    "        print(job_status, job_sec_status)\n",
    "        sleep(15)\n",
    "    print(\"[OK] Model tuning phase completed.\\n\")\n",
    "\n",
    "print(json.dumps(job_description_response, indent=4, sort_keys=True, default=str))"
   ]
  },
  {
   "cell_type": "markdown",
   "metadata": {},
   "source": [
    "# _Please Wait Until ^^ Autopilot ^^ Completes Above_\n",
    "\n",
    "# [INFO] _Feel free to continue to the next workshop section while this notebook is running._"
   ]
  },
  {
   "cell_type": "markdown",
   "metadata": {},
   "source": [
    "Make sure the status below indicates `Completed`."
   ]
  },
  {
   "cell_type": "code",
   "execution_count": 97,
   "metadata": {},
   "outputs": [
    {
     "name": "stdout",
     "output_type": "stream",
     "text": [
      "InProgress\n",
      "InProgress\n",
      "InProgress\n",
      "InProgress\n",
      "InProgress\n",
      "InProgress\n",
      "InProgress\n",
      "InProgress\n",
      "InProgress\n",
      "InProgress\n",
      "InProgress\n",
      "InProgress\n",
      "InProgress\n",
      "InProgress\n",
      "InProgress\n",
      "InProgress\n",
      "InProgress\n",
      "InProgress\n",
      "InProgress\n",
      "InProgress\n",
      "InProgress\n",
      "InProgress\n",
      "InProgress\n",
      "InProgress\n",
      "InProgress\n",
      "InProgress\n",
      "InProgress\n",
      "InProgress\n",
      "InProgress\n",
      "InProgress\n",
      "InProgress\n",
      "InProgress\n",
      "InProgress\n",
      "InProgress\n",
      "InProgress\n",
      "InProgress\n",
      "InProgress\n",
      "InProgress\n",
      "InProgress\n",
      "InProgress\n",
      "InProgress\n",
      "InProgress\n",
      "InProgress\n",
      "InProgress\n",
      "Completed\n",
      "[OK] Autopilot Job completed.\n",
      "\n",
      "CPU times: user 200 ms, sys: 15.7 ms, total: 216 ms\n",
      "Wall time: 7min 23s\n"
     ]
    }
   ],
   "source": [
    "%%time\n",
    "\n",
    "job_description_response = sm.describe_auto_ml_job(AutoMLJobName=auto_ml_job_name)\n",
    "job_status = job_description_response[\"AutoMLJobStatus\"]\n",
    "print(job_status)\n",
    "if job_status not in (\"Stopped\", \"Failed\"):\n",
    "    while job_status not in (\"Completed\"):\n",
    "        job_description_response = sm.describe_auto_ml_job(AutoMLJobName=auto_ml_job_name)\n",
    "        job_status = job_description_response[\"AutoMLJobStatus\"]\n",
    "        print(job_status)\n",
    "        sleep(10)\n",
    "    print(\"[OK] Autopilot Job completed.\\n\")\n",
    "else:\n",
    "    print(job_status)"
   ]
  },
  {
   "cell_type": "markdown",
   "metadata": {},
   "source": [
    "# Viewing All Candidates\n",
    "Once model tuning is complete, you can view all the candidates (pipeline evaluations with different hyperparameter combinations) that were explored by AutoML and sort them by their final performance metric."
   ]
  },
  {
   "cell_type": "code",
   "execution_count": 98,
   "metadata": {},
   "outputs": [],
   "source": [
    "candidates_response = sm.list_candidates_for_auto_ml_job(\n",
    "    AutoMLJobName=auto_ml_job_name, SortBy=\"FinalObjectiveMetricValue\"\n",
    ")"
   ]
  },
  {
   "cell_type": "markdown",
   "metadata": {},
   "source": [
    "### Check that candidates exist"
   ]
  },
  {
   "cell_type": "code",
   "execution_count": 99,
   "metadata": {},
   "outputs": [
    {
     "name": "stdout",
     "output_type": "stream",
     "text": [
      "dict_keys(['Candidates', 'ResponseMetadata'])\n"
     ]
    }
   ],
   "source": [
    "print(candidates_response.keys())"
   ]
  },
  {
   "cell_type": "code",
   "execution_count": 100,
   "metadata": {},
   "outputs": [
    {
     "name": "stdout",
     "output_type": "stream",
     "text": [
      "[OK] Candidates generated.\n"
     ]
    }
   ],
   "source": [
    "while \"Candidates\" not in candidates_response.keys():\n",
    "    candidates_response = sm.list_candidates_for_auto_ml_job(\n",
    "        AutoMLJobName=auto_ml_job_name, SortBy=\"FinalObjectiveMetricValue\"\n",
    "    )\n",
    "    print(\"[INFO] Autopilot Job is generating the Candidates. Please wait.\")\n",
    "    print(json.dumps(candidates_response, indent=4, sort_keys=True, default=str))\n",
    "    sleep(10)\n",
    "\n",
    "candidates = candidates_response[\"Candidates\"]\n",
    "print(\"[OK] Candidates generated.\")"
   ]
  },
  {
   "cell_type": "code",
   "execution_count": 101,
   "metadata": {},
   "outputs": [
    {
     "name": "stdout",
     "output_type": "stream",
     "text": [
      "dict_keys(['CandidateName', 'FinalAutoMLJobObjectiveMetric', 'ObjectiveStatus', 'CandidateSteps', 'CandidateStatus', 'InferenceContainers', 'CreationTime', 'EndTime', 'LastModifiedTime', 'CandidateProperties'])\n"
     ]
    }
   ],
   "source": [
    "print(candidates[0].keys())"
   ]
  },
  {
   "cell_type": "code",
   "execution_count": 102,
   "metadata": {},
   "outputs": [
    {
     "name": "stdout",
     "output_type": "stream",
     "text": [
      "[OK] CandidateName generated.\n"
     ]
    }
   ],
   "source": [
    "while \"CandidateName\" not in candidates[0]:\n",
    "    candidates_response = sm.list_candidates_for_auto_ml_job(\n",
    "        AutoMLJobName=auto_ml_job_name, SortBy=\"FinalObjectiveMetricValue\"\n",
    "    )\n",
    "    candidates = candidates_response[\"Candidates\"]\n",
    "    print(\"[INFO] Autopilot Job is generating CandidateName. Please wait. \")\n",
    "    print(json.dumps(candidates, indent=4, sort_keys=True, default=str))\n",
    "    sleep(10)\n",
    "\n",
    "print(\"[OK] CandidateName generated.\")"
   ]
  },
  {
   "cell_type": "code",
   "execution_count": 103,
   "metadata": {},
   "outputs": [
    {
     "name": "stdout",
     "output_type": "stream",
     "text": [
      "[OK] FinalAutoMLJobObjectiveMetric generated.\n"
     ]
    }
   ],
   "source": [
    "while \"FinalAutoMLJobObjectiveMetric\" not in candidates[0]:\n",
    "    candidates_response = sm.list_candidates_for_auto_ml_job(\n",
    "        AutoMLJobName=auto_ml_job_name, SortBy=\"FinalObjectiveMetricValue\"\n",
    "    )\n",
    "    candidates = candidates_response[\"Candidates\"]\n",
    "    print(\"[INFO] Autopilot Job is generating FinalAutoMLJobObjectiveMetric. Please wait. \")\n",
    "    print(json.dumps(candidates, indent=4, sort_keys=True, default=str))\n",
    "    sleep(10)\n",
    "\n",
    "print(\"[OK] FinalAutoMLJobObjectiveMetric generated.\")"
   ]
  },
  {
   "cell_type": "code",
   "execution_count": 104,
   "metadata": {
    "scrolled": true
   },
   "outputs": [
    {
     "name": "stdout",
     "output_type": "stream",
     "text": [
      "[\n",
      "    {\n",
      "        \"CandidateName\": \"automl-dm-15-23-44-02P6qCIvwtEUe-002-d08598bd\",\n",
      "        \"CandidateProperties\": {\n",
      "            \"CandidateArtifactLocations\": {\n",
      "                \"Explainability\": \"s3://sagemaker-us-east-1-211125778552/models/autopilot/automl-dm-15-23-44-02/documentation/explainability/output\",\n",
      "                \"ModelInsights\": \"s3://sagemaker-us-east-1-211125778552/models/autopilot/automl-dm-15-23-44-02/documentation/model_monitor/output\"\n",
      "            },\n",
      "            \"CandidateMetrics\": [\n",
      "                {\n",
      "                    \"MetricName\": \"F1macro\",\n",
      "                    \"Set\": \"Validation\",\n",
      "                    \"StandardMetricName\": \"F1macro\",\n",
      "                    \"Value\": 0.3677299916744232\n",
      "                },\n",
      "                {\n",
      "                    \"MetricName\": \"PrecisionMacro\",\n",
      "                    \"Set\": \"Validation\",\n",
      "                    \"StandardMetricName\": \"PrecisionMacro\",\n",
      "                    \"Value\": 0.3709299862384796\n",
      "                },\n",
      "                {\n",
      "                    \"MetricName\": \"Accuracy\",\n",
      "                    \"Set\": \"Validation\",\n",
      "                    \"StandardMetricName\": \"Accuracy\",\n",
      "                    \"Value\": 0.3719500005245209\n",
      "                },\n",
      "                {\n",
      "                    \"MetricName\": \"BalancedAccuracy\",\n",
      "                    \"Set\": \"Validation\",\n",
      "                    \"StandardMetricName\": \"BalancedAccuracy\",\n",
      "                    \"Value\": 0.37209999561309814\n",
      "                },\n",
      "                {\n",
      "                    \"MetricName\": \"LogLoss\",\n",
      "                    \"Set\": \"Validation\",\n",
      "                    \"StandardMetricName\": \"LogLoss\",\n",
      "                    \"Value\": 1.5466500520706177\n",
      "                },\n",
      "                {\n",
      "                    \"MetricName\": \"RecallMacro\",\n",
      "                    \"Set\": \"Validation\",\n",
      "                    \"StandardMetricName\": \"RecallMacro\",\n",
      "                    \"Value\": 0.37209999561309814\n",
      "                }\n",
      "            ]\n",
      "        },\n",
      "        \"CandidateStatus\": \"Completed\",\n",
      "        \"CandidateSteps\": [\n",
      "            {\n",
      "                \"CandidateStepArn\": \"arn:aws:sagemaker:us-east-1:211125778552:processing-job/automl-dm-15-23-44-02-db-1-3e9a9bbeacaf4b83a87a7bc44b18b75292b1\",\n",
      "                \"CandidateStepName\": \"automl-dm-15-23-44-02-db-1-3e9a9bbeacaf4b83a87a7bc44b18b75292b1\",\n",
      "                \"CandidateStepType\": \"AWS::SageMaker::ProcessingJob\"\n",
      "            },\n",
      "            {\n",
      "                \"CandidateStepArn\": \"arn:aws:sagemaker:us-east-1:211125778552:training-job/automl-dm-15-23-44-02-dpp0-1-dd9560ec955a4041a32bc74f9829f05fac\",\n",
      "                \"CandidateStepName\": \"automl-dm-15-23-44-02-dpp0-1-dd9560ec955a4041a32bc74f9829f05fac\",\n",
      "                \"CandidateStepType\": \"AWS::SageMaker::TrainingJob\"\n",
      "            },\n",
      "            {\n",
      "                \"CandidateStepArn\": \"arn:aws:sagemaker:us-east-1:211125778552:transform-job/automl-dm-15-23-44-02-dpp0-rpb-1-ac8a2b4f6fda4b41993873191eec8f\",\n",
      "                \"CandidateStepName\": \"automl-dm-15-23-44-02-dpp0-rpb-1-ac8a2b4f6fda4b41993873191eec8f\",\n",
      "                \"CandidateStepType\": \"AWS::SageMaker::TransformJob\"\n",
      "            },\n",
      "            {\n",
      "                \"CandidateStepArn\": \"arn:aws:sagemaker:us-east-1:211125778552:training-job/automl-dm-15-23-44-02P6qCIvwtEUe-002-d08598bd\",\n",
      "                \"CandidateStepName\": \"automl-dm-15-23-44-02P6qCIvwtEUe-002-d08598bd\",\n",
      "                \"CandidateStepType\": \"AWS::SageMaker::TrainingJob\"\n",
      "            }\n",
      "        ],\n",
      "        \"CreationTime\": \"2024-02-16 00:04:24+00:00\",\n",
      "        \"EndTime\": \"2024-02-16 00:06:16+00:00\",\n",
      "        \"FinalAutoMLJobObjectiveMetric\": {\n",
      "            \"MetricName\": \"validation:accuracy\",\n",
      "            \"StandardMetricName\": \"Accuracy\",\n",
      "            \"Value\": 0.3719500005245209\n",
      "        },\n",
      "        \"InferenceContainers\": [\n",
      "            {\n",
      "                \"Environment\": {\n",
      "                    \"AUTOML_SPARSE_ENCODE_RECORDIO_PROTOBUF\": \"1\",\n",
      "                    \"AUTOML_TRANSFORM_MODE\": \"feature-transform\",\n",
      "                    \"SAGEMAKER_DEFAULT_INVOCATIONS_ACCEPT\": \"application/x-recordio-protobuf\",\n",
      "                    \"SAGEMAKER_PROGRAM\": \"sagemaker_serve\",\n",
      "                    \"SAGEMAKER_SUBMIT_DIRECTORY\": \"/opt/ml/model/code\"\n",
      "                },\n",
      "                \"Image\": \"683313688378.dkr.ecr.us-east-1.amazonaws.com/sagemaker-sklearn-automl:2.5-1-cpu-py3\",\n",
      "                \"ModelDataUrl\": \"s3://sagemaker-us-east-1-211125778552/models/autopilot/automl-dm-15-23-44-02/data-processor-models/automl-dm-15-23-44-02-dpp0-1-dd9560ec955a4041a32bc74f9829f05fac/output/model.tar.gz\"\n",
      "            },\n",
      "            {\n",
      "                \"Environment\": {\n",
      "                    \"MAX_CONTENT_LENGTH\": \"20971520\",\n",
      "                    \"SAGEMAKER_DEFAULT_INVOCATIONS_ACCEPT\": \"text/csv\",\n",
      "                    \"SAGEMAKER_INFERENCE_OUTPUT\": \"predicted_label\",\n",
      "                    \"SAGEMAKER_INFERENCE_SUPPORTED\": \"predicted_label,probability,probabilities\"\n",
      "                },\n",
      "                \"Image\": \"683313688378.dkr.ecr.us-east-1.amazonaws.com/sagemaker-xgboost:1.3-1-cpu-py3\",\n",
      "                \"ModelDataUrl\": \"s3://sagemaker-us-east-1-211125778552/models/autopilot/automl-dm-15-23-44-02/tuning/automl-dm--dpp0-xgb/automl-dm-15-23-44-02P6qCIvwtEUe-002-d08598bd/output/model.tar.gz\"\n",
      "            },\n",
      "            {\n",
      "                \"Environment\": {\n",
      "                    \"AUTOML_TRANSFORM_MODE\": \"inverse-label-transform\",\n",
      "                    \"SAGEMAKER_DEFAULT_INVOCATIONS_ACCEPT\": \"text/csv\",\n",
      "                    \"SAGEMAKER_INFERENCE_INPUT\": \"predicted_label\",\n",
      "                    \"SAGEMAKER_INFERENCE_OUTPUT\": \"predicted_label\",\n",
      "                    \"SAGEMAKER_INFERENCE_SUPPORTED\": \"predicted_label,probability,labels,probabilities\",\n",
      "                    \"SAGEMAKER_PROGRAM\": \"sagemaker_serve\",\n",
      "                    \"SAGEMAKER_SUBMIT_DIRECTORY\": \"/opt/ml/model/code\"\n",
      "                },\n",
      "                \"Image\": \"683313688378.dkr.ecr.us-east-1.amazonaws.com/sagemaker-sklearn-automl:2.5-1-cpu-py3\",\n",
      "                \"ModelDataUrl\": \"s3://sagemaker-us-east-1-211125778552/models/autopilot/automl-dm-15-23-44-02/data-processor-models/automl-dm-15-23-44-02-dpp0-1-dd9560ec955a4041a32bc74f9829f05fac/output/model.tar.gz\"\n",
      "            }\n",
      "        ],\n",
      "        \"LastModifiedTime\": \"2024-02-16 00:07:36.743000+00:00\",\n",
      "        \"ObjectiveStatus\": \"Succeeded\"\n",
      "    },\n",
      "    {\n",
      "        \"CandidateName\": \"automl-dm-15-23-44-02P6qCIvwtEUe-001-310b0c86\",\n",
      "        \"CandidateProperties\": {\n",
      "            \"CandidateMetrics\": [\n",
      "                {\n",
      "                    \"MetricName\": \"F1macro\",\n",
      "                    \"Set\": \"Validation\",\n",
      "                    \"StandardMetricName\": \"F1macro\",\n",
      "                    \"Value\": 0.28944000601768494\n",
      "                },\n",
      "                {\n",
      "                    \"MetricName\": \"PrecisionMacro\",\n",
      "                    \"Set\": \"Validation\",\n",
      "                    \"StandardMetricName\": \"PrecisionMacro\",\n",
      "                    \"Value\": 0.2948499917984009\n",
      "                },\n",
      "                {\n",
      "                    \"MetricName\": \"Accuracy\",\n",
      "                    \"Set\": \"Validation\",\n",
      "                    \"StandardMetricName\": \"Accuracy\",\n",
      "                    \"Value\": 0.30257999897003174\n",
      "                },\n",
      "                {\n",
      "                    \"MetricName\": \"BalancedAccuracy\",\n",
      "                    \"Set\": \"Validation\",\n",
      "                    \"StandardMetricName\": \"BalancedAccuracy\",\n",
      "                    \"Value\": 0.30386999249458313\n",
      "                },\n",
      "                {\n",
      "                    \"MetricName\": \"LogLoss\",\n",
      "                    \"Set\": \"Validation\",\n",
      "                    \"StandardMetricName\": \"LogLoss\",\n",
      "                    \"Value\": 1.5274900197982788\n",
      "                },\n",
      "                {\n",
      "                    \"MetricName\": \"RecallMacro\",\n",
      "                    \"Set\": \"Validation\",\n",
      "                    \"StandardMetricName\": \"RecallMacro\",\n",
      "                    \"Value\": 0.30386999249458313\n",
      "                }\n",
      "            ]\n",
      "        },\n",
      "        \"CandidateStatus\": \"Completed\",\n",
      "        \"CandidateSteps\": [\n",
      "            {\n",
      "                \"CandidateStepArn\": \"arn:aws:sagemaker:us-east-1:211125778552:processing-job/automl-dm-15-23-44-02-db-1-3e9a9bbeacaf4b83a87a7bc44b18b75292b1\",\n",
      "                \"CandidateStepName\": \"automl-dm-15-23-44-02-db-1-3e9a9bbeacaf4b83a87a7bc44b18b75292b1\",\n",
      "                \"CandidateStepType\": \"AWS::SageMaker::ProcessingJob\"\n",
      "            },\n",
      "            {\n",
      "                \"CandidateStepArn\": \"arn:aws:sagemaker:us-east-1:211125778552:training-job/automl-dm-15-23-44-02-dpp0-1-dd9560ec955a4041a32bc74f9829f05fac\",\n",
      "                \"CandidateStepName\": \"automl-dm-15-23-44-02-dpp0-1-dd9560ec955a4041a32bc74f9829f05fac\",\n",
      "                \"CandidateStepType\": \"AWS::SageMaker::TrainingJob\"\n",
      "            },\n",
      "            {\n",
      "                \"CandidateStepArn\": \"arn:aws:sagemaker:us-east-1:211125778552:transform-job/automl-dm-15-23-44-02-dpp0-rpb-1-ac8a2b4f6fda4b41993873191eec8f\",\n",
      "                \"CandidateStepName\": \"automl-dm-15-23-44-02-dpp0-rpb-1-ac8a2b4f6fda4b41993873191eec8f\",\n",
      "                \"CandidateStepType\": \"AWS::SageMaker::TransformJob\"\n",
      "            },\n",
      "            {\n",
      "                \"CandidateStepArn\": \"arn:aws:sagemaker:us-east-1:211125778552:training-job/automl-dm-15-23-44-02P6qCIvwtEUe-001-310b0c86\",\n",
      "                \"CandidateStepName\": \"automl-dm-15-23-44-02P6qCIvwtEUe-001-310b0c86\",\n",
      "                \"CandidateStepType\": \"AWS::SageMaker::TrainingJob\"\n",
      "            }\n",
      "        ],\n",
      "        \"CreationTime\": \"2024-02-16 00:04:30+00:00\",\n",
      "        \"EndTime\": \"2024-02-16 00:06:27+00:00\",\n",
      "        \"FinalAutoMLJobObjectiveMetric\": {\n",
      "            \"MetricName\": \"validation:accuracy\",\n",
      "            \"StandardMetricName\": \"Accuracy\",\n",
      "            \"Value\": 0.30257999897003174\n",
      "        },\n",
      "        \"InferenceContainers\": [\n",
      "            {\n",
      "                \"Environment\": {\n",
      "                    \"AUTOML_SPARSE_ENCODE_RECORDIO_PROTOBUF\": \"1\",\n",
      "                    \"AUTOML_TRANSFORM_MODE\": \"feature-transform\",\n",
      "                    \"SAGEMAKER_DEFAULT_INVOCATIONS_ACCEPT\": \"application/x-recordio-protobuf\",\n",
      "                    \"SAGEMAKER_PROGRAM\": \"sagemaker_serve\",\n",
      "                    \"SAGEMAKER_SUBMIT_DIRECTORY\": \"/opt/ml/model/code\"\n",
      "                },\n",
      "                \"Image\": \"683313688378.dkr.ecr.us-east-1.amazonaws.com/sagemaker-sklearn-automl:2.5-1-cpu-py3\",\n",
      "                \"ModelDataUrl\": \"s3://sagemaker-us-east-1-211125778552/models/autopilot/automl-dm-15-23-44-02/data-processor-models/automl-dm-15-23-44-02-dpp0-1-dd9560ec955a4041a32bc74f9829f05fac/output/model.tar.gz\"\n",
      "            },\n",
      "            {\n",
      "                \"Environment\": {\n",
      "                    \"MAX_CONTENT_LENGTH\": \"20971520\",\n",
      "                    \"SAGEMAKER_DEFAULT_INVOCATIONS_ACCEPT\": \"text/csv\",\n",
      "                    \"SAGEMAKER_INFERENCE_OUTPUT\": \"predicted_label\",\n",
      "                    \"SAGEMAKER_INFERENCE_SUPPORTED\": \"predicted_label,probability,probabilities\"\n",
      "                },\n",
      "                \"Image\": \"683313688378.dkr.ecr.us-east-1.amazonaws.com/sagemaker-xgboost:1.3-1-cpu-py3\",\n",
      "                \"ModelDataUrl\": \"s3://sagemaker-us-east-1-211125778552/models/autopilot/automl-dm-15-23-44-02/tuning/automl-dm--dpp0-xgb/automl-dm-15-23-44-02P6qCIvwtEUe-001-310b0c86/output/model.tar.gz\"\n",
      "            },\n",
      "            {\n",
      "                \"Environment\": {\n",
      "                    \"AUTOML_TRANSFORM_MODE\": \"inverse-label-transform\",\n",
      "                    \"SAGEMAKER_DEFAULT_INVOCATIONS_ACCEPT\": \"text/csv\",\n",
      "                    \"SAGEMAKER_INFERENCE_INPUT\": \"predicted_label\",\n",
      "                    \"SAGEMAKER_INFERENCE_OUTPUT\": \"predicted_label\",\n",
      "                    \"SAGEMAKER_INFERENCE_SUPPORTED\": \"predicted_label,probability,labels,probabilities\",\n",
      "                    \"SAGEMAKER_PROGRAM\": \"sagemaker_serve\",\n",
      "                    \"SAGEMAKER_SUBMIT_DIRECTORY\": \"/opt/ml/model/code\"\n",
      "                },\n",
      "                \"Image\": \"683313688378.dkr.ecr.us-east-1.amazonaws.com/sagemaker-sklearn-automl:2.5-1-cpu-py3\",\n",
      "                \"ModelDataUrl\": \"s3://sagemaker-us-east-1-211125778552/models/autopilot/automl-dm-15-23-44-02/data-processor-models/automl-dm-15-23-44-02-dpp0-1-dd9560ec955a4041a32bc74f9829f05fac/output/model.tar.gz\"\n",
      "            }\n",
      "        ],\n",
      "        \"LastModifiedTime\": \"2024-02-16 00:07:36.674000+00:00\",\n",
      "        \"ObjectiveStatus\": \"Succeeded\"\n",
      "    },\n",
      "    {\n",
      "        \"CandidateName\": \"automl-dm-15-23-44-02P6qCIvwtEUe-003-e0fc55c6\",\n",
      "        \"CandidateProperties\": {\n",
      "            \"CandidateMetrics\": [\n",
      "                {\n",
      "                    \"MetricName\": \"F1macro\",\n",
      "                    \"Set\": \"Validation\",\n",
      "                    \"StandardMetricName\": \"F1macro\",\n",
      "                    \"Value\": 0.2775000035762787\n",
      "                },\n",
      "                {\n",
      "                    \"MetricName\": \"PrecisionMacro\",\n",
      "                    \"Set\": \"Validation\",\n",
      "                    \"StandardMetricName\": \"PrecisionMacro\",\n",
      "                    \"Value\": 0.2839199900627136\n",
      "                },\n",
      "                {\n",
      "                    \"MetricName\": \"Accuracy\",\n",
      "                    \"Set\": \"Validation\",\n",
      "                    \"StandardMetricName\": \"Accuracy\",\n",
      "                    \"Value\": 0.28242000937461853\n",
      "                },\n",
      "                {\n",
      "                    \"MetricName\": \"BalancedAccuracy\",\n",
      "                    \"Set\": \"Validation\",\n",
      "                    \"StandardMetricName\": \"BalancedAccuracy\",\n",
      "                    \"Value\": 0.2830600142478943\n",
      "                },\n",
      "                {\n",
      "                    \"MetricName\": \"LogLoss\",\n",
      "                    \"Set\": \"Validation\",\n",
      "                    \"StandardMetricName\": \"LogLoss\",\n",
      "                    \"Value\": 1.580739974975586\n",
      "                },\n",
      "                {\n",
      "                    \"MetricName\": \"RecallMacro\",\n",
      "                    \"Set\": \"Validation\",\n",
      "                    \"StandardMetricName\": \"RecallMacro\",\n",
      "                    \"Value\": 0.2830600142478943\n",
      "                }\n",
      "            ]\n",
      "        },\n",
      "        \"CandidateStatus\": \"Completed\",\n",
      "        \"CandidateSteps\": [\n",
      "            {\n",
      "                \"CandidateStepArn\": \"arn:aws:sagemaker:us-east-1:211125778552:processing-job/automl-dm-15-23-44-02-db-1-3e9a9bbeacaf4b83a87a7bc44b18b75292b1\",\n",
      "                \"CandidateStepName\": \"automl-dm-15-23-44-02-db-1-3e9a9bbeacaf4b83a87a7bc44b18b75292b1\",\n",
      "                \"CandidateStepType\": \"AWS::SageMaker::ProcessingJob\"\n",
      "            },\n",
      "            {\n",
      "                \"CandidateStepArn\": \"arn:aws:sagemaker:us-east-1:211125778552:training-job/automl-dm-15-23-44-02-dpp1-1-2674376376604d388d5de37af7eb4ec92b\",\n",
      "                \"CandidateStepName\": \"automl-dm-15-23-44-02-dpp1-1-2674376376604d388d5de37af7eb4ec92b\",\n",
      "                \"CandidateStepType\": \"AWS::SageMaker::TrainingJob\"\n",
      "            },\n",
      "            {\n",
      "                \"CandidateStepArn\": \"arn:aws:sagemaker:us-east-1:211125778552:transform-job/automl-dm-15-23-44-02-dpp1-csv-1-f77d4d23014b4048b6dfc9806d3df3\",\n",
      "                \"CandidateStepName\": \"automl-dm-15-23-44-02-dpp1-csv-1-f77d4d23014b4048b6dfc9806d3df3\",\n",
      "                \"CandidateStepType\": \"AWS::SageMaker::TransformJob\"\n",
      "            },\n",
      "            {\n",
      "                \"CandidateStepArn\": \"arn:aws:sagemaker:us-east-1:211125778552:training-job/automl-dm-15-23-44-02P6qCIvwtEUe-003-e0fc55c6\",\n",
      "                \"CandidateStepName\": \"automl-dm-15-23-44-02P6qCIvwtEUe-003-e0fc55c6\",\n",
      "                \"CandidateStepType\": \"AWS::SageMaker::TrainingJob\"\n",
      "            }\n",
      "        ],\n",
      "        \"CreationTime\": \"2024-02-16 00:04:28+00:00\",\n",
      "        \"EndTime\": \"2024-02-16 00:06:55+00:00\",\n",
      "        \"FinalAutoMLJobObjectiveMetric\": {\n",
      "            \"MetricName\": \"validation:accuracy\",\n",
      "            \"StandardMetricName\": \"Accuracy\",\n",
      "            \"Value\": 0.28242000937461853\n",
      "        },\n",
      "        \"InferenceContainers\": [\n",
      "            {\n",
      "                \"Environment\": {\n",
      "                    \"AUTOML_TRANSFORM_MODE\": \"feature-transform\",\n",
      "                    \"SAGEMAKER_DEFAULT_INVOCATIONS_ACCEPT\": \"application/x-recordio-protobuf\",\n",
      "                    \"SAGEMAKER_PROGRAM\": \"sagemaker_serve\",\n",
      "                    \"SAGEMAKER_SUBMIT_DIRECTORY\": \"/opt/ml/model/code\"\n",
      "                },\n",
      "                \"Image\": \"683313688378.dkr.ecr.us-east-1.amazonaws.com/sagemaker-sklearn-automl:2.5-1-cpu-py3\",\n",
      "                \"ModelDataUrl\": \"s3://sagemaker-us-east-1-211125778552/models/autopilot/automl-dm-15-23-44-02/data-processor-models/automl-dm-15-23-44-02-dpp1-1-2674376376604d388d5de37af7eb4ec92b/output/model.tar.gz\"\n",
      "            },\n",
      "            {\n",
      "                \"Environment\": {\n",
      "                    \"MAX_CONTENT_LENGTH\": \"20971520\",\n",
      "                    \"SAGEMAKER_DEFAULT_INVOCATIONS_ACCEPT\": \"text/csv\",\n",
      "                    \"SAGEMAKER_INFERENCE_OUTPUT\": \"predicted_label\",\n",
      "                    \"SAGEMAKER_INFERENCE_SUPPORTED\": \"predicted_label,probability,probabilities\"\n",
      "                },\n",
      "                \"Image\": \"683313688378.dkr.ecr.us-east-1.amazonaws.com/sagemaker-xgboost:1.3-1-cpu-py3\",\n",
      "                \"ModelDataUrl\": \"s3://sagemaker-us-east-1-211125778552/models/autopilot/automl-dm-15-23-44-02/tuning/automl-dm--dpp1-xgb/automl-dm-15-23-44-02P6qCIvwtEUe-003-e0fc55c6/output/model.tar.gz\"\n",
      "            },\n",
      "            {\n",
      "                \"Environment\": {\n",
      "                    \"AUTOML_TRANSFORM_MODE\": \"inverse-label-transform\",\n",
      "                    \"SAGEMAKER_DEFAULT_INVOCATIONS_ACCEPT\": \"text/csv\",\n",
      "                    \"SAGEMAKER_INFERENCE_INPUT\": \"predicted_label\",\n",
      "                    \"SAGEMAKER_INFERENCE_OUTPUT\": \"predicted_label\",\n",
      "                    \"SAGEMAKER_INFERENCE_SUPPORTED\": \"predicted_label,probability,labels,probabilities\",\n",
      "                    \"SAGEMAKER_PROGRAM\": \"sagemaker_serve\",\n",
      "                    \"SAGEMAKER_SUBMIT_DIRECTORY\": \"/opt/ml/model/code\"\n",
      "                },\n",
      "                \"Image\": \"683313688378.dkr.ecr.us-east-1.amazonaws.com/sagemaker-sklearn-automl:2.5-1-cpu-py3\",\n",
      "                \"ModelDataUrl\": \"s3://sagemaker-us-east-1-211125778552/models/autopilot/automl-dm-15-23-44-02/data-processor-models/automl-dm-15-23-44-02-dpp1-1-2674376376604d388d5de37af7eb4ec92b/output/model.tar.gz\"\n",
      "            }\n",
      "        ],\n",
      "        \"LastModifiedTime\": \"2024-02-16 00:07:36.672000+00:00\",\n",
      "        \"ObjectiveStatus\": \"Succeeded\"\n",
      "    }\n",
      "]\n"
     ]
    }
   ],
   "source": [
    "print(json.dumps(candidates, indent=4, sort_keys=True, default=str))"
   ]
  },
  {
   "cell_type": "code",
   "execution_count": 105,
   "metadata": {},
   "outputs": [
    {
     "name": "stdout",
     "output_type": "stream",
     "text": [
      "0  automl-dm-15-23-44-02P6qCIvwtEUe-002-d08598bd  0.3719500005245209\n",
      "1  automl-dm-15-23-44-02P6qCIvwtEUe-001-310b0c86  0.30257999897003174\n",
      "2  automl-dm-15-23-44-02P6qCIvwtEUe-003-e0fc55c6  0.28242000937461853\n"
     ]
    }
   ],
   "source": [
    "for index, candidate in enumerate(candidates):\n",
    "    print(\n",
    "        str(index)\n",
    "        + \"  \"\n",
    "        + candidate[\"CandidateName\"]\n",
    "        + \"  \"\n",
    "        + str(candidate[\"FinalAutoMLJobObjectiveMetric\"][\"Value\"])\n",
    "    )"
   ]
  },
  {
   "cell_type": "markdown",
   "metadata": {},
   "source": [
    "# Inspect Trials using Experiments API\n",
    "\n",
    "SageMaker Autopilot automatically creates a new experiment, and pushes information for each trial. "
   ]
  },
  {
   "cell_type": "code",
   "execution_count": 106,
   "metadata": {},
   "outputs": [
    {
     "name": "stdout",
     "output_type": "stream",
     "text": [
      "                                  TrialComponentName  \\\n",
      "0  automl-dm-15-23-44-02P6qCIvwtEUe-003-e0fc55c6-...   \n",
      "1  automl-dm-15-23-44-02P6qCIvwtEUe-001-310b0c86-...   \n",
      "2  automl-dm-15-23-44-02P6qCIvwtEUe-002-d08598bd-...   \n",
      "3  automl-dm-15-23-44-02-dpp0-rpb-1-ac8a2b4f6fda4...   \n",
      "4  automl-dm-15-23-44-02-dpp1-csv-1-f77d4d23014b4...   \n",
      "5  automl-dm-15-23-44-02-dpp0-1-dd9560ec955a4041a...   \n",
      "6  automl-dm-15-23-44-02-dpp1-1-2674376376604d388...   \n",
      "7  automl-dm-15-23-44-02-db-1-3e9a9bbeacaf4b83a87...   \n",
      "\n",
      "                                         DisplayName  \\\n",
      "0  automl-dm-15-23-44-02P6qCIvwtEUe-003-e0fc55c6-...   \n",
      "1  automl-dm-15-23-44-02P6qCIvwtEUe-001-310b0c86-...   \n",
      "2  automl-dm-15-23-44-02P6qCIvwtEUe-002-d08598bd-...   \n",
      "3  automl-dm-15-23-44-02-dpp0-rpb-1-ac8a2b4f6fda4...   \n",
      "4  automl-dm-15-23-44-02-dpp1-csv-1-f77d4d23014b4...   \n",
      "5  automl-dm-15-23-44-02-dpp0-1-dd9560ec955a4041a...   \n",
      "6  automl-dm-15-23-44-02-dpp1-1-2674376376604d388...   \n",
      "7  automl-dm-15-23-44-02-db-1-3e9a9bbeacaf4b83a87...   \n",
      "\n",
      "                                           SourceArn  \\\n",
      "0  arn:aws:sagemaker:us-east-1:211125778552:train...   \n",
      "1  arn:aws:sagemaker:us-east-1:211125778552:train...   \n",
      "2  arn:aws:sagemaker:us-east-1:211125778552:train...   \n",
      "3  arn:aws:sagemaker:us-east-1:211125778552:trans...   \n",
      "4  arn:aws:sagemaker:us-east-1:211125778552:trans...   \n",
      "5  arn:aws:sagemaker:us-east-1:211125778552:train...   \n",
      "6  arn:aws:sagemaker:us-east-1:211125778552:train...   \n",
      "7  arn:aws:sagemaker:us-east-1:211125778552:proce...   \n",
      "\n",
      "                                  SageMaker.ImageUri  SageMaker.InstanceCount  \\\n",
      "0  683313688378.dkr.ecr.us-east-1.amazonaws.com/s...                      1.0   \n",
      "1  683313688378.dkr.ecr.us-east-1.amazonaws.com/s...                      1.0   \n",
      "2  683313688378.dkr.ecr.us-east-1.amazonaws.com/s...                      1.0   \n",
      "3                                                NaN                      1.0   \n",
      "4                                                NaN                      1.0   \n",
      "5  683313688378.dkr.ecr.us-east-1.amazonaws.com/s...                      1.0   \n",
      "6  683313688378.dkr.ecr.us-east-1.amazonaws.com/s...                      1.0   \n",
      "7                                                NaN                      1.0   \n",
      "\n",
      "  SageMaker.InstanceType  SageMaker.VolumeSizeInGB  _kfold  _num_cv_round  \\\n",
      "0         ml.m5.12xlarge                      50.0     5.0            3.0   \n",
      "1         ml.m5.12xlarge                      50.0     5.0            NaN   \n",
      "2         ml.m5.12xlarge                      50.0     5.0            NaN   \n",
      "3          ml.m5.4xlarge                       NaN     NaN            NaN   \n",
      "4          ml.m5.4xlarge                       NaN     NaN            NaN   \n",
      "5         ml.m5.12xlarge                      50.0     NaN            NaN   \n",
      "6         ml.m5.12xlarge                      50.0     NaN            NaN   \n",
      "7          ml.m5.2xlarge                     250.0     NaN            NaN   \n",
      "\n",
      "  _tuning_objective_metric  ...  enable_validation_split  input_channel_mode  \\\n",
      "0      validation:accuracy  ...                      NaN                 NaN   \n",
      "1      validation:accuracy  ...                      NaN                 NaN   \n",
      "2      validation:accuracy  ...                      NaN                 NaN   \n",
      "3                      NaN  ...                      NaN                 NaN   \n",
      "4                      NaN  ...                      NaN                 NaN   \n",
      "5                      NaN  ...                      NaN                 NaN   \n",
      "6                      NaN  ...                      NaN                 NaN   \n",
      "7                      NaN  ...                     true                Pipe   \n",
      "\n",
      "                job_name    label_col  max_dataset_size  \\\n",
      "0                    NaN          NaN               NaN   \n",
      "1                    NaN          NaN               NaN   \n",
      "2                    NaN          NaN               NaN   \n",
      "3                    NaN          NaN               NaN   \n",
      "4                    NaN          NaN               NaN   \n",
      "5                    NaN          NaN               NaN   \n",
      "6                    NaN          NaN               NaN   \n",
      "7  automl-dm-15-23-44-02  star_rating               100   \n",
      "\n",
      "   max_subsampled_dataset_size  SageMaker.ImageUri - MediaType  \\\n",
      "0                          NaN                             NaN   \n",
      "1                          NaN                             NaN   \n",
      "2                          NaN                             NaN   \n",
      "3                          NaN                             NaN   \n",
      "4                          NaN                             NaN   \n",
      "5                          NaN                             NaN   \n",
      "6                          NaN                             NaN   \n",
      "7                            5                             NaN   \n",
      "\n",
      "                          SageMaker.ImageUri - Value  ds - MediaType  \\\n",
      "0                                                NaN             NaN   \n",
      "1                                                NaN             NaN   \n",
      "2                                                NaN             NaN   \n",
      "3                                                NaN             NaN   \n",
      "4                                                NaN             NaN   \n",
      "5                                                NaN             NaN   \n",
      "6                                                NaN             NaN   \n",
      "7  120479346908.dkr.ecr.us-east-1.amazonaws.com/d...             NaN   \n",
      "\n",
      "                                          ds - Value  \n",
      "0                                                NaN  \n",
      "1                                                NaN  \n",
      "2                                                NaN  \n",
      "3                                                NaN  \n",
      "4                                                NaN  \n",
      "5                                                NaN  \n",
      "6                                                NaN  \n",
      "7  s3://sagemaker-us-east-1-211125778552/models/a...  \n",
      "\n",
      "[8 rows x 127 columns]\n"
     ]
    }
   ],
   "source": [
    "from sagemaker.analytics import ExperimentAnalytics, TrainingJobAnalytics\n",
    "\n",
    "exp = ExperimentAnalytics(\n",
    "    sagemaker_session=sess,\n",
    "    experiment_name=auto_ml_job_name + \"-aws-auto-ml-job\",\n",
    ")\n",
    "\n",
    "df = exp.dataframe()\n",
    "print(df)"
   ]
  },
  {
   "cell_type": "markdown",
   "metadata": {},
   "source": [
    "# Explore the Best Candidate\n",
    "Now that we have successfully completed the AutoML job on our dataset and visualized the trials, we can create a model from any of the trials with a single API call and then deploy that model for online or batch prediction using [Inference Pipelines](https://docs.aws.amazon.com/sagemaker/latest/dg/inference-pipelines.html). For this notebook, we deploy only the best performing trial for inference."
   ]
  },
  {
   "cell_type": "markdown",
   "metadata": {},
   "source": [
    "The best candidate is the one we're really interested in."
   ]
  },
  {
   "cell_type": "code",
   "execution_count": 107,
   "metadata": {},
   "outputs": [],
   "source": [
    "best_candidate_response = sm.describe_auto_ml_job(AutoMLJobName=auto_ml_job_name)"
   ]
  },
  {
   "cell_type": "code",
   "execution_count": 108,
   "metadata": {},
   "outputs": [
    {
     "name": "stdout",
     "output_type": "stream",
     "text": [
      "dict_keys(['AutoMLJobName', 'AutoMLJobArn', 'InputDataConfig', 'OutputDataConfig', 'RoleArn', 'AutoMLJobConfig', 'CreationTime', 'EndTime', 'LastModifiedTime', 'BestCandidate', 'AutoMLJobStatus', 'AutoMLJobSecondaryStatus', 'GenerateCandidateDefinitionsOnly', 'AutoMLJobArtifacts', 'ResolvedAttributes', 'ResponseMetadata'])\n"
     ]
    }
   ],
   "source": [
    "print(best_candidate_response.keys())"
   ]
  },
  {
   "cell_type": "code",
   "execution_count": 109,
   "metadata": {},
   "outputs": [
    {
     "name": "stdout",
     "output_type": "stream",
     "text": [
      "[OK] BestCandidate generated.\n"
     ]
    }
   ],
   "source": [
    "while \"BestCandidate\" not in best_candidate_response:\n",
    "    best_candidate_response = sm.describe_auto_ml_job(AutoMLJobName=auto_ml_job_name)\n",
    "    print(\"[INFO] Autopilot Job is generating BestCandidate. Please wait. \")\n",
    "    print(json.dumps(best_candidate_response, indent=4, sort_keys=True, default=str))\n",
    "    sleep(10)\n",
    "\n",
    "best_candidate = best_candidate_response[\"BestCandidate\"]\n",
    "print(\"[OK] BestCandidate generated.\")"
   ]
  },
  {
   "cell_type": "code",
   "execution_count": 110,
   "metadata": {
    "scrolled": true
   },
   "outputs": [
    {
     "name": "stdout",
     "output_type": "stream",
     "text": [
      "{\n",
      "    \"AutoMLJobArn\": \"arn:aws:sagemaker:us-east-1:211125778552:automl-job/automl-dm-15-23-44-02\",\n",
      "    \"AutoMLJobArtifacts\": {\n",
      "        \"CandidateDefinitionNotebookLocation\": \"s3://sagemaker-us-east-1-211125778552/models/autopilot/automl-dm-15-23-44-02/sagemaker-automl-candidates/automl-dm-15-23-44-02-pr-1-22eedf8e537f408f8cedc76c5f279e15b2a6/notebooks/SageMakerAutopilotCandidateDefinitionNotebook.ipynb\",\n",
      "        \"DataExplorationNotebookLocation\": \"s3://sagemaker-us-east-1-211125778552/models/autopilot/automl-dm-15-23-44-02/sagemaker-automl-candidates/automl-dm-15-23-44-02-pr-1-22eedf8e537f408f8cedc76c5f279e15b2a6/notebooks/SageMakerAutopilotDataExplorationNotebook.ipynb\"\n",
      "    },\n",
      "    \"AutoMLJobConfig\": {\n",
      "        \"CompletionCriteria\": {\n",
      "            \"MaxAutoMLJobRuntimeInSeconds\": 5400,\n",
      "            \"MaxCandidates\": 3,\n",
      "            \"MaxRuntimePerTrainingJobInSeconds\": 900\n",
      "        }\n",
      "    },\n",
      "    \"AutoMLJobName\": \"automl-dm-15-23-44-02\",\n",
      "    \"AutoMLJobSecondaryStatus\": \"Completed\",\n",
      "    \"AutoMLJobStatus\": \"Completed\",\n",
      "    \"BestCandidate\": {\n",
      "        \"CandidateName\": \"automl-dm-15-23-44-02P6qCIvwtEUe-002-d08598bd\",\n",
      "        \"CandidateProperties\": {\n",
      "            \"CandidateArtifactLocations\": {\n",
      "                \"Explainability\": \"s3://sagemaker-us-east-1-211125778552/models/autopilot/automl-dm-15-23-44-02/documentation/explainability/output\",\n",
      "                \"ModelInsights\": \"s3://sagemaker-us-east-1-211125778552/models/autopilot/automl-dm-15-23-44-02/documentation/model_monitor/output\"\n",
      "            },\n",
      "            \"CandidateMetrics\": [\n",
      "                {\n",
      "                    \"MetricName\": \"F1macro\",\n",
      "                    \"Set\": \"Validation\",\n",
      "                    \"StandardMetricName\": \"F1macro\",\n",
      "                    \"Value\": 0.3677299916744232\n",
      "                },\n",
      "                {\n",
      "                    \"MetricName\": \"PrecisionMacro\",\n",
      "                    \"Set\": \"Validation\",\n",
      "                    \"StandardMetricName\": \"PrecisionMacro\",\n",
      "                    \"Value\": 0.3709299862384796\n",
      "                },\n",
      "                {\n",
      "                    \"MetricName\": \"Accuracy\",\n",
      "                    \"Set\": \"Validation\",\n",
      "                    \"StandardMetricName\": \"Accuracy\",\n",
      "                    \"Value\": 0.3719500005245209\n",
      "                },\n",
      "                {\n",
      "                    \"MetricName\": \"BalancedAccuracy\",\n",
      "                    \"Set\": \"Validation\",\n",
      "                    \"StandardMetricName\": \"BalancedAccuracy\",\n",
      "                    \"Value\": 0.37209999561309814\n",
      "                },\n",
      "                {\n",
      "                    \"MetricName\": \"LogLoss\",\n",
      "                    \"Set\": \"Validation\",\n",
      "                    \"StandardMetricName\": \"LogLoss\",\n",
      "                    \"Value\": 1.5466500520706177\n",
      "                },\n",
      "                {\n",
      "                    \"MetricName\": \"RecallMacro\",\n",
      "                    \"Set\": \"Validation\",\n",
      "                    \"StandardMetricName\": \"RecallMacro\",\n",
      "                    \"Value\": 0.37209999561309814\n",
      "                }\n",
      "            ]\n",
      "        },\n",
      "        \"CandidateStatus\": \"Completed\",\n",
      "        \"CandidateSteps\": [\n",
      "            {\n",
      "                \"CandidateStepArn\": \"arn:aws:sagemaker:us-east-1:211125778552:processing-job/automl-dm-15-23-44-02-db-1-3e9a9bbeacaf4b83a87a7bc44b18b75292b1\",\n",
      "                \"CandidateStepName\": \"automl-dm-15-23-44-02-db-1-3e9a9bbeacaf4b83a87a7bc44b18b75292b1\",\n",
      "                \"CandidateStepType\": \"AWS::SageMaker::ProcessingJob\"\n",
      "            },\n",
      "            {\n",
      "                \"CandidateStepArn\": \"arn:aws:sagemaker:us-east-1:211125778552:training-job/automl-dm-15-23-44-02-dpp0-1-dd9560ec955a4041a32bc74f9829f05fac\",\n",
      "                \"CandidateStepName\": \"automl-dm-15-23-44-02-dpp0-1-dd9560ec955a4041a32bc74f9829f05fac\",\n",
      "                \"CandidateStepType\": \"AWS::SageMaker::TrainingJob\"\n",
      "            },\n",
      "            {\n",
      "                \"CandidateStepArn\": \"arn:aws:sagemaker:us-east-1:211125778552:transform-job/automl-dm-15-23-44-02-dpp0-rpb-1-ac8a2b4f6fda4b41993873191eec8f\",\n",
      "                \"CandidateStepName\": \"automl-dm-15-23-44-02-dpp0-rpb-1-ac8a2b4f6fda4b41993873191eec8f\",\n",
      "                \"CandidateStepType\": \"AWS::SageMaker::TransformJob\"\n",
      "            },\n",
      "            {\n",
      "                \"CandidateStepArn\": \"arn:aws:sagemaker:us-east-1:211125778552:training-job/automl-dm-15-23-44-02P6qCIvwtEUe-002-d08598bd\",\n",
      "                \"CandidateStepName\": \"automl-dm-15-23-44-02P6qCIvwtEUe-002-d08598bd\",\n",
      "                \"CandidateStepType\": \"AWS::SageMaker::TrainingJob\"\n",
      "            }\n",
      "        ],\n",
      "        \"CreationTime\": \"2024-02-16 00:04:24+00:00\",\n",
      "        \"EndTime\": \"2024-02-16 00:06:16+00:00\",\n",
      "        \"FinalAutoMLJobObjectiveMetric\": {\n",
      "            \"MetricName\": \"validation:accuracy\",\n",
      "            \"StandardMetricName\": \"Accuracy\",\n",
      "            \"Value\": 0.3719500005245209\n",
      "        },\n",
      "        \"InferenceContainers\": [\n",
      "            {\n",
      "                \"Environment\": {\n",
      "                    \"AUTOML_SPARSE_ENCODE_RECORDIO_PROTOBUF\": \"1\",\n",
      "                    \"AUTOML_TRANSFORM_MODE\": \"feature-transform\",\n",
      "                    \"SAGEMAKER_DEFAULT_INVOCATIONS_ACCEPT\": \"application/x-recordio-protobuf\",\n",
      "                    \"SAGEMAKER_PROGRAM\": \"sagemaker_serve\",\n",
      "                    \"SAGEMAKER_SUBMIT_DIRECTORY\": \"/opt/ml/model/code\"\n",
      "                },\n",
      "                \"Image\": \"683313688378.dkr.ecr.us-east-1.amazonaws.com/sagemaker-sklearn-automl:2.5-1-cpu-py3\",\n",
      "                \"ModelDataUrl\": \"s3://sagemaker-us-east-1-211125778552/models/autopilot/automl-dm-15-23-44-02/data-processor-models/automl-dm-15-23-44-02-dpp0-1-dd9560ec955a4041a32bc74f9829f05fac/output/model.tar.gz\"\n",
      "            },\n",
      "            {\n",
      "                \"Environment\": {\n",
      "                    \"MAX_CONTENT_LENGTH\": \"20971520\",\n",
      "                    \"SAGEMAKER_DEFAULT_INVOCATIONS_ACCEPT\": \"text/csv\",\n",
      "                    \"SAGEMAKER_INFERENCE_OUTPUT\": \"predicted_label\",\n",
      "                    \"SAGEMAKER_INFERENCE_SUPPORTED\": \"predicted_label,probability,probabilities\"\n",
      "                },\n",
      "                \"Image\": \"683313688378.dkr.ecr.us-east-1.amazonaws.com/sagemaker-xgboost:1.3-1-cpu-py3\",\n",
      "                \"ModelDataUrl\": \"s3://sagemaker-us-east-1-211125778552/models/autopilot/automl-dm-15-23-44-02/tuning/automl-dm--dpp0-xgb/automl-dm-15-23-44-02P6qCIvwtEUe-002-d08598bd/output/model.tar.gz\"\n",
      "            },\n",
      "            {\n",
      "                \"Environment\": {\n",
      "                    \"AUTOML_TRANSFORM_MODE\": \"inverse-label-transform\",\n",
      "                    \"SAGEMAKER_DEFAULT_INVOCATIONS_ACCEPT\": \"text/csv\",\n",
      "                    \"SAGEMAKER_INFERENCE_INPUT\": \"predicted_label\",\n",
      "                    \"SAGEMAKER_INFERENCE_OUTPUT\": \"predicted_label\",\n",
      "                    \"SAGEMAKER_INFERENCE_SUPPORTED\": \"predicted_label,probability,labels,probabilities\",\n",
      "                    \"SAGEMAKER_PROGRAM\": \"sagemaker_serve\",\n",
      "                    \"SAGEMAKER_SUBMIT_DIRECTORY\": \"/opt/ml/model/code\"\n",
      "                },\n",
      "                \"Image\": \"683313688378.dkr.ecr.us-east-1.amazonaws.com/sagemaker-sklearn-automl:2.5-1-cpu-py3\",\n",
      "                \"ModelDataUrl\": \"s3://sagemaker-us-east-1-211125778552/models/autopilot/automl-dm-15-23-44-02/data-processor-models/automl-dm-15-23-44-02-dpp0-1-dd9560ec955a4041a32bc74f9829f05fac/output/model.tar.gz\"\n",
      "            }\n",
      "        ],\n",
      "        \"LastModifiedTime\": \"2024-02-16 00:07:36.743000+00:00\",\n",
      "        \"ObjectiveStatus\": \"Succeeded\"\n",
      "    },\n",
      "    \"CreationTime\": \"2024-02-15 23:45:23.257000+00:00\",\n",
      "    \"EndTime\": \"2024-02-16 00:15:06.745000+00:00\",\n",
      "    \"GenerateCandidateDefinitionsOnly\": false,\n",
      "    \"InputDataConfig\": [\n",
      "        {\n",
      "            \"ChannelType\": \"training\",\n",
      "            \"ContentType\": \"text/csv;header=present\",\n",
      "            \"DataSource\": {\n",
      "                \"S3DataSource\": {\n",
      "                    \"S3DataType\": \"S3Prefix\",\n",
      "                    \"S3Uri\": \"s3://sagemaker-us-east-1-211125778552/data/amazon_reviews_us_Digital_Software_v1_00_autopilot.csv\"\n",
      "                }\n",
      "            },\n",
      "            \"TargetAttributeName\": \"star_rating\"\n",
      "        }\n",
      "    ],\n",
      "    \"LastModifiedTime\": \"2024-02-16 00:15:06.775000+00:00\",\n",
      "    \"OutputDataConfig\": {\n",
      "        \"S3OutputPath\": \"s3://sagemaker-us-east-1-211125778552/models/autopilot\"\n",
      "    },\n",
      "    \"ResolvedAttributes\": {\n",
      "        \"AutoMLJobObjective\": {\n",
      "            \"MetricName\": \"Accuracy\"\n",
      "        },\n",
      "        \"CompletionCriteria\": {\n",
      "            \"MaxAutoMLJobRuntimeInSeconds\": 5400,\n",
      "            \"MaxCandidates\": 3,\n",
      "            \"MaxRuntimePerTrainingJobInSeconds\": 900\n",
      "        },\n",
      "        \"ProblemType\": \"MulticlassClassification\"\n",
      "    },\n",
      "    \"ResponseMetadata\": {\n",
      "        \"HTTPHeaders\": {\n",
      "            \"content-length\": \"6000\",\n",
      "            \"content-type\": \"application/x-amz-json-1.1\",\n",
      "            \"date\": \"Fri, 16 Feb 2024 00:15:22 GMT\",\n",
      "            \"x-amzn-requestid\": \"04ec40dc-21d4-46c0-a195-3a205008f638\"\n",
      "        },\n",
      "        \"HTTPStatusCode\": 200,\n",
      "        \"RequestId\": \"04ec40dc-21d4-46c0-a195-3a205008f638\",\n",
      "        \"RetryAttempts\": 0\n",
      "    },\n",
      "    \"RoleArn\": \"arn:aws:iam::211125778552:role/service-role/AmazonSageMaker-ExecutionRole-20240215T152311\"\n",
      "}\n"
     ]
    }
   ],
   "source": [
    "print(json.dumps(best_candidate_response, indent=4, sort_keys=True, default=str))"
   ]
  },
  {
   "cell_type": "code",
   "execution_count": 111,
   "metadata": {},
   "outputs": [
    {
     "name": "stdout",
     "output_type": "stream",
     "text": [
      "dict_keys(['CandidateName', 'FinalAutoMLJobObjectiveMetric', 'ObjectiveStatus', 'CandidateSteps', 'CandidateStatus', 'InferenceContainers', 'CreationTime', 'EndTime', 'LastModifiedTime', 'CandidateProperties'])\n"
     ]
    }
   ],
   "source": [
    "print(best_candidate.keys())"
   ]
  },
  {
   "cell_type": "code",
   "execution_count": 112,
   "metadata": {},
   "outputs": [
    {
     "name": "stdout",
     "output_type": "stream",
     "text": [
      "[OK] BestCandidate CandidateName generated.\n"
     ]
    }
   ],
   "source": [
    "# Doing BestCandidate check again because of Github issue https://github.com/data-science-on-aws/data-science-on-aws/issues/107\n",
    "while \"CandidateName\" not in best_candidate and \"BestCandidate\" not in best_candidate_response:\n",
    "    best_candidate_response = sm.describe_auto_ml_job(AutoMLJobName=auto_ml_job_name)\n",
    "    best_candidate = best_candidate_response[\"BestCandidate\"]\n",
    "    print(\"[INFO] Autopilot Job is generating BestCandidate CandidateName. Please wait. \")\n",
    "    print(json.dumps(best_candidate, indent=4, sort_keys=True, default=str))\n",
    "    sleep(10)\n",
    "\n",
    "print(\"[OK] BestCandidate CandidateName generated.\")"
   ]
  },
  {
   "cell_type": "code",
   "execution_count": 113,
   "metadata": {},
   "outputs": [
    {
     "name": "stdout",
     "output_type": "stream",
     "text": [
      "[OK] BestCandidate FinalAutoMLJobObjectiveMetric generated.\n"
     ]
    }
   ],
   "source": [
    "# Doing BestCandidate check again because of Github issue https://github.com/data-science-on-aws/data-science-on-aws/issues/107\n",
    "while \"FinalAutoMLJobObjectiveMetric\" not in best_candidate and \"BestCandidate\" not in best_candidate_response:\n",
    "    best_candidate_response = sm.describe_auto_ml_job(AutoMLJobName=auto_ml_job_name)\n",
    "    best_candidate = best_candidate_response[\"BestCandidate\"]\n",
    "    print(\"[INFO] Autopilot Job is generating BestCandidate FinalAutoMLJobObjectiveMetric. Please wait. \")\n",
    "    print(json.dumps(best_candidate, indent=4, sort_keys=True, default=str))\n",
    "    sleep(10)\n",
    "\n",
    "print(\"[OK] BestCandidate FinalAutoMLJobObjectiveMetric generated.\")"
   ]
  },
  {
   "cell_type": "code",
   "execution_count": 114,
   "metadata": {},
   "outputs": [
    {
     "name": "stdout",
     "output_type": "stream",
     "text": [
      "Candidate name: automl-dm-15-23-44-02P6qCIvwtEUe-002-d08598bd\n",
      "Metric name: validation:accuracy\n",
      "Metric value: 0.3719500005245209\n"
     ]
    }
   ],
   "source": [
    "best_candidate_identifier = best_candidate[\"CandidateName\"]\n",
    "print(\"Candidate name: \" + best_candidate_identifier)\n",
    "print(\"Metric name: \" + best_candidate[\"FinalAutoMLJobObjectiveMetric\"][\"MetricName\"])\n",
    "print(\"Metric value: \" + str(best_candidate[\"FinalAutoMLJobObjectiveMetric\"][\"Value\"]))"
   ]
  },
  {
   "cell_type": "code",
   "execution_count": 115,
   "metadata": {
    "scrolled": true
   },
   "outputs": [
    {
     "name": "stdout",
     "output_type": "stream",
     "text": [
      "{\n",
      "    \"CandidateName\": \"automl-dm-15-23-44-02P6qCIvwtEUe-002-d08598bd\",\n",
      "    \"CandidateProperties\": {\n",
      "        \"CandidateArtifactLocations\": {\n",
      "            \"Explainability\": \"s3://sagemaker-us-east-1-211125778552/models/autopilot/automl-dm-15-23-44-02/documentation/explainability/output\",\n",
      "            \"ModelInsights\": \"s3://sagemaker-us-east-1-211125778552/models/autopilot/automl-dm-15-23-44-02/documentation/model_monitor/output\"\n",
      "        },\n",
      "        \"CandidateMetrics\": [\n",
      "            {\n",
      "                \"MetricName\": \"F1macro\",\n",
      "                \"Set\": \"Validation\",\n",
      "                \"StandardMetricName\": \"F1macro\",\n",
      "                \"Value\": 0.3677299916744232\n",
      "            },\n",
      "            {\n",
      "                \"MetricName\": \"PrecisionMacro\",\n",
      "                \"Set\": \"Validation\",\n",
      "                \"StandardMetricName\": \"PrecisionMacro\",\n",
      "                \"Value\": 0.3709299862384796\n",
      "            },\n",
      "            {\n",
      "                \"MetricName\": \"Accuracy\",\n",
      "                \"Set\": \"Validation\",\n",
      "                \"StandardMetricName\": \"Accuracy\",\n",
      "                \"Value\": 0.3719500005245209\n",
      "            },\n",
      "            {\n",
      "                \"MetricName\": \"BalancedAccuracy\",\n",
      "                \"Set\": \"Validation\",\n",
      "                \"StandardMetricName\": \"BalancedAccuracy\",\n",
      "                \"Value\": 0.37209999561309814\n",
      "            },\n",
      "            {\n",
      "                \"MetricName\": \"LogLoss\",\n",
      "                \"Set\": \"Validation\",\n",
      "                \"StandardMetricName\": \"LogLoss\",\n",
      "                \"Value\": 1.5466500520706177\n",
      "            },\n",
      "            {\n",
      "                \"MetricName\": \"RecallMacro\",\n",
      "                \"Set\": \"Validation\",\n",
      "                \"StandardMetricName\": \"RecallMacro\",\n",
      "                \"Value\": 0.37209999561309814\n",
      "            }\n",
      "        ]\n",
      "    },\n",
      "    \"CandidateStatus\": \"Completed\",\n",
      "    \"CandidateSteps\": [\n",
      "        {\n",
      "            \"CandidateStepArn\": \"arn:aws:sagemaker:us-east-1:211125778552:processing-job/automl-dm-15-23-44-02-db-1-3e9a9bbeacaf4b83a87a7bc44b18b75292b1\",\n",
      "            \"CandidateStepName\": \"automl-dm-15-23-44-02-db-1-3e9a9bbeacaf4b83a87a7bc44b18b75292b1\",\n",
      "            \"CandidateStepType\": \"AWS::SageMaker::ProcessingJob\"\n",
      "        },\n",
      "        {\n",
      "            \"CandidateStepArn\": \"arn:aws:sagemaker:us-east-1:211125778552:training-job/automl-dm-15-23-44-02-dpp0-1-dd9560ec955a4041a32bc74f9829f05fac\",\n",
      "            \"CandidateStepName\": \"automl-dm-15-23-44-02-dpp0-1-dd9560ec955a4041a32bc74f9829f05fac\",\n",
      "            \"CandidateStepType\": \"AWS::SageMaker::TrainingJob\"\n",
      "        },\n",
      "        {\n",
      "            \"CandidateStepArn\": \"arn:aws:sagemaker:us-east-1:211125778552:transform-job/automl-dm-15-23-44-02-dpp0-rpb-1-ac8a2b4f6fda4b41993873191eec8f\",\n",
      "            \"CandidateStepName\": \"automl-dm-15-23-44-02-dpp0-rpb-1-ac8a2b4f6fda4b41993873191eec8f\",\n",
      "            \"CandidateStepType\": \"AWS::SageMaker::TransformJob\"\n",
      "        },\n",
      "        {\n",
      "            \"CandidateStepArn\": \"arn:aws:sagemaker:us-east-1:211125778552:training-job/automl-dm-15-23-44-02P6qCIvwtEUe-002-d08598bd\",\n",
      "            \"CandidateStepName\": \"automl-dm-15-23-44-02P6qCIvwtEUe-002-d08598bd\",\n",
      "            \"CandidateStepType\": \"AWS::SageMaker::TrainingJob\"\n",
      "        }\n",
      "    ],\n",
      "    \"CreationTime\": \"2024-02-16 00:04:24+00:00\",\n",
      "    \"EndTime\": \"2024-02-16 00:06:16+00:00\",\n",
      "    \"FinalAutoMLJobObjectiveMetric\": {\n",
      "        \"MetricName\": \"validation:accuracy\",\n",
      "        \"StandardMetricName\": \"Accuracy\",\n",
      "        \"Value\": 0.3719500005245209\n",
      "    },\n",
      "    \"InferenceContainers\": [\n",
      "        {\n",
      "            \"Environment\": {\n",
      "                \"AUTOML_SPARSE_ENCODE_RECORDIO_PROTOBUF\": \"1\",\n",
      "                \"AUTOML_TRANSFORM_MODE\": \"feature-transform\",\n",
      "                \"SAGEMAKER_DEFAULT_INVOCATIONS_ACCEPT\": \"application/x-recordio-protobuf\",\n",
      "                \"SAGEMAKER_PROGRAM\": \"sagemaker_serve\",\n",
      "                \"SAGEMAKER_SUBMIT_DIRECTORY\": \"/opt/ml/model/code\"\n",
      "            },\n",
      "            \"Image\": \"683313688378.dkr.ecr.us-east-1.amazonaws.com/sagemaker-sklearn-automl:2.5-1-cpu-py3\",\n",
      "            \"ModelDataUrl\": \"s3://sagemaker-us-east-1-211125778552/models/autopilot/automl-dm-15-23-44-02/data-processor-models/automl-dm-15-23-44-02-dpp0-1-dd9560ec955a4041a32bc74f9829f05fac/output/model.tar.gz\"\n",
      "        },\n",
      "        {\n",
      "            \"Environment\": {\n",
      "                \"MAX_CONTENT_LENGTH\": \"20971520\",\n",
      "                \"SAGEMAKER_DEFAULT_INVOCATIONS_ACCEPT\": \"text/csv\",\n",
      "                \"SAGEMAKER_INFERENCE_OUTPUT\": \"predicted_label\",\n",
      "                \"SAGEMAKER_INFERENCE_SUPPORTED\": \"predicted_label,probability,probabilities\"\n",
      "            },\n",
      "            \"Image\": \"683313688378.dkr.ecr.us-east-1.amazonaws.com/sagemaker-xgboost:1.3-1-cpu-py3\",\n",
      "            \"ModelDataUrl\": \"s3://sagemaker-us-east-1-211125778552/models/autopilot/automl-dm-15-23-44-02/tuning/automl-dm--dpp0-xgb/automl-dm-15-23-44-02P6qCIvwtEUe-002-d08598bd/output/model.tar.gz\"\n",
      "        },\n",
      "        {\n",
      "            \"Environment\": {\n",
      "                \"AUTOML_TRANSFORM_MODE\": \"inverse-label-transform\",\n",
      "                \"SAGEMAKER_DEFAULT_INVOCATIONS_ACCEPT\": \"text/csv\",\n",
      "                \"SAGEMAKER_INFERENCE_INPUT\": \"predicted_label\",\n",
      "                \"SAGEMAKER_INFERENCE_OUTPUT\": \"predicted_label\",\n",
      "                \"SAGEMAKER_INFERENCE_SUPPORTED\": \"predicted_label,probability,labels,probabilities\",\n",
      "                \"SAGEMAKER_PROGRAM\": \"sagemaker_serve\",\n",
      "                \"SAGEMAKER_SUBMIT_DIRECTORY\": \"/opt/ml/model/code\"\n",
      "            },\n",
      "            \"Image\": \"683313688378.dkr.ecr.us-east-1.amazonaws.com/sagemaker-sklearn-automl:2.5-1-cpu-py3\",\n",
      "            \"ModelDataUrl\": \"s3://sagemaker-us-east-1-211125778552/models/autopilot/automl-dm-15-23-44-02/data-processor-models/automl-dm-15-23-44-02-dpp0-1-dd9560ec955a4041a32bc74f9829f05fac/output/model.tar.gz\"\n",
      "        }\n",
      "    ],\n",
      "    \"LastModifiedTime\": \"2024-02-16 00:07:36.743000+00:00\",\n",
      "    \"ObjectiveStatus\": \"Succeeded\"\n",
      "}\n"
     ]
    }
   ],
   "source": [
    "print(json.dumps(best_candidate, indent=4, sort_keys=True, default=str))"
   ]
  },
  {
   "cell_type": "markdown",
   "metadata": {},
   "source": [
    "# View Individual Autopilot Jobs"
   ]
  },
  {
   "cell_type": "code",
   "execution_count": 116,
   "metadata": {},
   "outputs": [
    {
     "name": "stdout",
     "output_type": "stream",
     "text": [
      "[OK] BestCandidate CandidateSteps generated.\n"
     ]
    }
   ],
   "source": [
    "# Doing BestCandidate check again because of Github issue https://github.com/data-science-on-aws/data-science-on-aws/issues/107\n",
    "while \"CandidateSteps\" not in best_candidate and \"BestCandidate\" not in best_candidate_response:\n",
    "    best_candidate_response = sm.describe_auto_ml_job(AutoMLJobName=auto_ml_job_name)\n",
    "    best_candidate = best_candidate_response[\"BestCandidate\"]\n",
    "    print(\"[INFO] Autopilot Job is generating BestCandidate CandidateSteps. Please wait. \")\n",
    "    print(json.dumps(best_candidate, indent=4, sort_keys=True, default=str))\n",
    "    sleep(10)\n",
    "\n",
    "best_candidate = best_candidate_response[\"BestCandidate\"]\n",
    "print(\"[OK] BestCandidate CandidateSteps generated.\")"
   ]
  },
  {
   "cell_type": "code",
   "execution_count": 117,
   "metadata": {
    "scrolled": true
   },
   "outputs": [
    {
     "name": "stdout",
     "output_type": "stream",
     "text": [
      "[OK] BestCandidate CandidateSteps CandidateStepType generated.\n"
     ]
    }
   ],
   "source": [
    "# Doing BestCandidate check again because of Github issue https://github.com/data-science-on-aws/data-science-on-aws/issues/107\n",
    "while \"CandidateStepType\" not in best_candidate[\"CandidateSteps\"][0] and \"BestCandidate\" not in best_candidate_response:\n",
    "    best_candidate_response = sm.describe_auto_ml_job(AutoMLJobName=auto_ml_job_name)\n",
    "    best_candidate = best_candidate_response[\"BestCandidate\"]\n",
    "    print(\"[INFO] Autopilot Job is generating BestCandidate CandidateSteps CandidateStepType. Please wait. \")\n",
    "    print(json.dumps(best_candidate, indent=4, sort_keys=True, default=str))\n",
    "    sleep(10)\n",
    "\n",
    "best_candidate = best_candidate_response[\"BestCandidate\"]\n",
    "print(\"[OK] BestCandidate CandidateSteps CandidateStepType generated.\")"
   ]
  },
  {
   "cell_type": "code",
   "execution_count": 118,
   "metadata": {},
   "outputs": [
    {
     "name": "stdout",
     "output_type": "stream",
     "text": [
      "[OK] BestCandidate CandidateSteps CandidateStepName generated.\n"
     ]
    }
   ],
   "source": [
    "# Doing BestCandidate check again because of Github issue https://github.com/data-science-on-aws/data-science-on-aws/issues/107\n",
    "while \"CandidateStepName\" not in best_candidate[\"CandidateSteps\"][0] and \"BestCandidate\" not in best_candidate_response:\n",
    "    best_candidate_response = sm.describe_auto_ml_job(AutoMLJobName=auto_ml_job_name)\n",
    "    best_candidate = best_candidate_response[\"BestCandidate\"]\n",
    "    print(\"[INFO] Autopilot Job is generating BestCandidate CandidateSteps CandidateStepName. Please wait. \")\n",
    "    print(json.dumps(best_candidate, indent=4, sort_keys=True, default=str))\n",
    "    sleep(10)\n",
    "\n",
    "best_candidate = best_candidate_response[\"BestCandidate\"]\n",
    "print(\"[OK] BestCandidate CandidateSteps CandidateStepName generated.\")"
   ]
  },
  {
   "cell_type": "code",
   "execution_count": 119,
   "metadata": {},
   "outputs": [
    {
     "data": {
      "text/plain": [
       "{'CandidateName': 'automl-dm-15-23-44-02P6qCIvwtEUe-002-d08598bd',\n",
       " 'FinalAutoMLJobObjectiveMetric': {'MetricName': 'validation:accuracy',\n",
       "  'Value': 0.3719500005245209,\n",
       "  'StandardMetricName': 'Accuracy'},\n",
       " 'ObjectiveStatus': 'Succeeded',\n",
       " 'CandidateSteps': [{'CandidateStepType': 'AWS::SageMaker::ProcessingJob',\n",
       "   'CandidateStepArn': 'arn:aws:sagemaker:us-east-1:211125778552:processing-job/automl-dm-15-23-44-02-db-1-3e9a9bbeacaf4b83a87a7bc44b18b75292b1',\n",
       "   'CandidateStepName': 'automl-dm-15-23-44-02-db-1-3e9a9bbeacaf4b83a87a7bc44b18b75292b1'},\n",
       "  {'CandidateStepType': 'AWS::SageMaker::TrainingJob',\n",
       "   'CandidateStepArn': 'arn:aws:sagemaker:us-east-1:211125778552:training-job/automl-dm-15-23-44-02-dpp0-1-dd9560ec955a4041a32bc74f9829f05fac',\n",
       "   'CandidateStepName': 'automl-dm-15-23-44-02-dpp0-1-dd9560ec955a4041a32bc74f9829f05fac'},\n",
       "  {'CandidateStepType': 'AWS::SageMaker::TransformJob',\n",
       "   'CandidateStepArn': 'arn:aws:sagemaker:us-east-1:211125778552:transform-job/automl-dm-15-23-44-02-dpp0-rpb-1-ac8a2b4f6fda4b41993873191eec8f',\n",
       "   'CandidateStepName': 'automl-dm-15-23-44-02-dpp0-rpb-1-ac8a2b4f6fda4b41993873191eec8f'},\n",
       "  {'CandidateStepType': 'AWS::SageMaker::TrainingJob',\n",
       "   'CandidateStepArn': 'arn:aws:sagemaker:us-east-1:211125778552:training-job/automl-dm-15-23-44-02P6qCIvwtEUe-002-d08598bd',\n",
       "   'CandidateStepName': 'automl-dm-15-23-44-02P6qCIvwtEUe-002-d08598bd'}],\n",
       " 'CandidateStatus': 'Completed',\n",
       " 'InferenceContainers': [{'Image': '683313688378.dkr.ecr.us-east-1.amazonaws.com/sagemaker-sklearn-automl:2.5-1-cpu-py3',\n",
       "   'ModelDataUrl': 's3://sagemaker-us-east-1-211125778552/models/autopilot/automl-dm-15-23-44-02/data-processor-models/automl-dm-15-23-44-02-dpp0-1-dd9560ec955a4041a32bc74f9829f05fac/output/model.tar.gz',\n",
       "   'Environment': {'AUTOML_SPARSE_ENCODE_RECORDIO_PROTOBUF': '1',\n",
       "    'AUTOML_TRANSFORM_MODE': 'feature-transform',\n",
       "    'SAGEMAKER_DEFAULT_INVOCATIONS_ACCEPT': 'application/x-recordio-protobuf',\n",
       "    'SAGEMAKER_PROGRAM': 'sagemaker_serve',\n",
       "    'SAGEMAKER_SUBMIT_DIRECTORY': '/opt/ml/model/code'}},\n",
       "  {'Image': '683313688378.dkr.ecr.us-east-1.amazonaws.com/sagemaker-xgboost:1.3-1-cpu-py3',\n",
       "   'ModelDataUrl': 's3://sagemaker-us-east-1-211125778552/models/autopilot/automl-dm-15-23-44-02/tuning/automl-dm--dpp0-xgb/automl-dm-15-23-44-02P6qCIvwtEUe-002-d08598bd/output/model.tar.gz',\n",
       "   'Environment': {'MAX_CONTENT_LENGTH': '20971520',\n",
       "    'SAGEMAKER_DEFAULT_INVOCATIONS_ACCEPT': 'text/csv',\n",
       "    'SAGEMAKER_INFERENCE_OUTPUT': 'predicted_label',\n",
       "    'SAGEMAKER_INFERENCE_SUPPORTED': 'predicted_label,probability,probabilities'}},\n",
       "  {'Image': '683313688378.dkr.ecr.us-east-1.amazonaws.com/sagemaker-sklearn-automl:2.5-1-cpu-py3',\n",
       "   'ModelDataUrl': 's3://sagemaker-us-east-1-211125778552/models/autopilot/automl-dm-15-23-44-02/data-processor-models/automl-dm-15-23-44-02-dpp0-1-dd9560ec955a4041a32bc74f9829f05fac/output/model.tar.gz',\n",
       "   'Environment': {'AUTOML_TRANSFORM_MODE': 'inverse-label-transform',\n",
       "    'SAGEMAKER_DEFAULT_INVOCATIONS_ACCEPT': 'text/csv',\n",
       "    'SAGEMAKER_INFERENCE_INPUT': 'predicted_label',\n",
       "    'SAGEMAKER_INFERENCE_OUTPUT': 'predicted_label',\n",
       "    'SAGEMAKER_INFERENCE_SUPPORTED': 'predicted_label,probability,labels,probabilities',\n",
       "    'SAGEMAKER_PROGRAM': 'sagemaker_serve',\n",
       "    'SAGEMAKER_SUBMIT_DIRECTORY': '/opt/ml/model/code'}}],\n",
       " 'CreationTime': datetime.datetime(2024, 2, 16, 0, 4, 24, tzinfo=tzlocal()),\n",
       " 'EndTime': datetime.datetime(2024, 2, 16, 0, 6, 16, tzinfo=tzlocal()),\n",
       " 'LastModifiedTime': datetime.datetime(2024, 2, 16, 0, 7, 36, 743000, tzinfo=tzlocal()),\n",
       " 'CandidateProperties': {'CandidateArtifactLocations': {'Explainability': 's3://sagemaker-us-east-1-211125778552/models/autopilot/automl-dm-15-23-44-02/documentation/explainability/output',\n",
       "   'ModelInsights': 's3://sagemaker-us-east-1-211125778552/models/autopilot/automl-dm-15-23-44-02/documentation/model_monitor/output'},\n",
       "  'CandidateMetrics': [{'MetricName': 'F1macro',\n",
       "    'Value': 0.3677299916744232,\n",
       "    'Set': 'Validation',\n",
       "    'StandardMetricName': 'F1macro'},\n",
       "   {'MetricName': 'PrecisionMacro',\n",
       "    'Value': 0.3709299862384796,\n",
       "    'Set': 'Validation',\n",
       "    'StandardMetricName': 'PrecisionMacro'},\n",
       "   {'MetricName': 'Accuracy',\n",
       "    'Value': 0.3719500005245209,\n",
       "    'Set': 'Validation',\n",
       "    'StandardMetricName': 'Accuracy'},\n",
       "   {'MetricName': 'BalancedAccuracy',\n",
       "    'Value': 0.37209999561309814,\n",
       "    'Set': 'Validation',\n",
       "    'StandardMetricName': 'BalancedAccuracy'},\n",
       "   {'MetricName': 'LogLoss',\n",
       "    'Value': 1.5466500520706177,\n",
       "    'Set': 'Validation',\n",
       "    'StandardMetricName': 'LogLoss'},\n",
       "   {'MetricName': 'RecallMacro',\n",
       "    'Value': 0.37209999561309814,\n",
       "    'Set': 'Validation',\n",
       "    'StandardMetricName': 'RecallMacro'}]}}"
      ]
     },
     "execution_count": 119,
     "metadata": {},
     "output_type": "execute_result"
    }
   ],
   "source": [
    "best_candidate"
   ]
  },
  {
   "cell_type": "code",
   "execution_count": 120,
   "metadata": {},
   "outputs": [
    {
     "name": "stdout",
     "output_type": "stream",
     "text": [
      "Candidate Step Type: AWS::SageMaker::ProcessingJob\n",
      "Candidate Step Name: automl-dm-15-23-44-02-db-1-3e9a9bbeacaf4b83a87a7bc44b18b75292b1\n",
      "Candidate Step Type: AWS::SageMaker::TrainingJob\n",
      "Candidate Step Name: automl-dm-15-23-44-02-dpp0-1-dd9560ec955a4041a32bc74f9829f05fac\n",
      "Candidate Step Type: AWS::SageMaker::TransformJob\n",
      "Candidate Step Name: automl-dm-15-23-44-02-dpp0-rpb-1-ac8a2b4f6fda4b41993873191eec8f\n",
      "Candidate Step Type: AWS::SageMaker::TrainingJob\n",
      "Candidate Step Name: automl-dm-15-23-44-02P6qCIvwtEUe-002-d08598bd\n"
     ]
    }
   ],
   "source": [
    "steps = []\n",
    "for step in best_candidate[\"CandidateSteps\"]:\n",
    "    print(\"Candidate Step Type: {}\".format(step[\"CandidateStepType\"]))\n",
    "    print(\"Candidate Step Name: {}\".format(step[\"CandidateStepName\"]))\n",
    "    steps.append(step[\"CandidateStepName\"])"
   ]
  },
  {
   "cell_type": "code",
   "execution_count": 121,
   "metadata": {},
   "outputs": [
    {
     "data": {
      "text/html": [
       "<b>Review Best Candidate <a target=\"blank\" href=\"https://console.aws.amazon.com/sagemaker/home?region=us-east-1#/processing-jobs/automl-dm-15-23-44-02-db-1-3e9a9bbeacaf4b83a87a7bc44b18b75292b1\">Processing Job</a></b>"
      ],
      "text/plain": [
       "<IPython.core.display.HTML object>"
      ]
     },
     "metadata": {},
     "output_type": "display_data"
    }
   ],
   "source": [
    "from IPython.core.display import display, HTML\n",
    "\n",
    "display(\n",
    "    HTML(\n",
    "        '<b>Review Best Candidate <a target=\"blank\" href=\"https://console.aws.amazon.com/sagemaker/home?region={}#/processing-jobs/{}\">Processing Job</a></b>'.format(\n",
    "            region, steps[0]\n",
    "        )\n",
    "    )\n",
    ")"
   ]
  },
  {
   "cell_type": "code",
   "execution_count": 122,
   "metadata": {},
   "outputs": [
    {
     "data": {
      "text/html": [
       "<b>Review Best Candidate <a target=\"blank\" href=\"https://console.aws.amazon.com/sagemaker/home?region=us-east-1#/jobs/automl-dm-15-23-44-02-dpp0-1-dd9560ec955a4041a32bc74f9829f05fac\">Training Job</a></b>"
      ],
      "text/plain": [
       "<IPython.core.display.HTML object>"
      ]
     },
     "metadata": {},
     "output_type": "display_data"
    }
   ],
   "source": [
    "from IPython.core.display import display, HTML\n",
    "\n",
    "display(\n",
    "    HTML(\n",
    "        '<b>Review Best Candidate <a target=\"blank\" href=\"https://console.aws.amazon.com/sagemaker/home?region={}#/jobs/{}\">Training Job</a></b>'.format(\n",
    "            region, steps[1]\n",
    "        )\n",
    "    )\n",
    ")"
   ]
  },
  {
   "cell_type": "code",
   "execution_count": 123,
   "metadata": {},
   "outputs": [
    {
     "data": {
      "text/html": [
       "<b>Review Best Candidate <a target=\"blank\" href=\"https://console.aws.amazon.com/sagemaker/home?region=us-east-1#/transform-jobs/automl-dm-15-23-44-02-dpp0-rpb-1-ac8a2b4f6fda4b41993873191eec8f\">Transform Job</a></b>"
      ],
      "text/plain": [
       "<IPython.core.display.HTML object>"
      ]
     },
     "metadata": {},
     "output_type": "display_data"
    }
   ],
   "source": [
    "from IPython.core.display import display, HTML\n",
    "\n",
    "display(\n",
    "    HTML(\n",
    "        '<b>Review Best Candidate <a target=\"blank\" href=\"https://console.aws.amazon.com/sagemaker/home?region={}#/transform-jobs/{}\">Transform Job</a></b>'.format(\n",
    "            region, steps[2]\n",
    "        )\n",
    "    )\n",
    ")"
   ]
  },
  {
   "cell_type": "code",
   "execution_count": 124,
   "metadata": {},
   "outputs": [
    {
     "data": {
      "text/html": [
       "<b>Review Best Candidate <a target=\"blank\" href=\"https://console.aws.amazon.com/sagemaker/home?region=us-east-1#/jobs/automl-dm-15-23-44-02P6qCIvwtEUe-002-d08598bd\">Training Job (Tuning)</a></b>"
      ],
      "text/plain": [
       "<IPython.core.display.HTML object>"
      ]
     },
     "metadata": {},
     "output_type": "display_data"
    }
   ],
   "source": [
    "from IPython.core.display import display, HTML\n",
    "\n",
    "display(\n",
    "    HTML(\n",
    "        '<b>Review Best Candidate <a target=\"blank\" href=\"https://console.aws.amazon.com/sagemaker/home?region={}#/jobs/{}\">Training Job (Tuning)</a></b>'.format(\n",
    "            region, steps[3]\n",
    "        )\n",
    "    )\n",
    ")"
   ]
  },
  {
   "cell_type": "code",
   "execution_count": 125,
   "metadata": {},
   "outputs": [
    {
     "data": {
      "text/html": [
       "<b>Review All <a target=\"blank\" href=\"https://console.aws.amazon.com/sagemaker/home?region=us-east-1#/processing-jobs/\">Processing Jobs</a></b>"
      ],
      "text/plain": [
       "<IPython.core.display.HTML object>"
      ]
     },
     "metadata": {},
     "output_type": "display_data"
    }
   ],
   "source": [
    "from IPython.core.display import display, HTML\n",
    "\n",
    "display(\n",
    "    HTML(\n",
    "        '<b>Review All <a target=\"blank\" href=\"https://console.aws.amazon.com/sagemaker/home?region={}#/processing-jobs/\">Processing Jobs</a></b>'.format(\n",
    "            region\n",
    "        )\n",
    "    )\n",
    ")"
   ]
  },
  {
   "cell_type": "markdown",
   "metadata": {},
   "source": [
    "# Review All Output in S3\n",
    "\n",
    "You will see the artifacts generated by Autopilot including the following:\n",
    "```\n",
    "data-processor-models/        # \"models\" learned to transform raw data into features \n",
    "documentation/                # explainability and other documentation about your model\n",
    "preprocessed-data/            # data for train and validation\n",
    "sagemaker-automl-candidates/  # candidate models which autopilot compares\n",
    "transformed-data/             # candidate-specific data for train and validation\n",
    "tuning/                       # candidate-specific tuning results\n",
    "validations/                  # validation results\n",
    "```"
   ]
  },
  {
   "cell_type": "code",
   "execution_count": 126,
   "metadata": {},
   "outputs": [
    {
     "data": {
      "text/html": [
       "<b>Review All <a target=\"blank\" href=\"https://s3.console.aws.amazon.com/s3/buckets/sagemaker-us-east-1-211125778552?region=us-east-1&prefix=models/autopilot/automl-dm-15-23-44-02/\">Output in S3</a></b>"
      ],
      "text/plain": [
       "<IPython.core.display.HTML object>"
      ]
     },
     "metadata": {},
     "output_type": "display_data"
    }
   ],
   "source": [
    "from IPython.core.display import display, HTML\n",
    "\n",
    "display(\n",
    "    HTML(\n",
    "        '<b>Review All <a target=\"blank\" href=\"https://s3.console.aws.amazon.com/s3/buckets/{}?region={}&prefix=models/autopilot/{}/\">Output in S3</a></b>'.format(\n",
    "            bucket, region, auto_ml_job_name\n",
    "        )\n",
    "    )\n",
    ")"
   ]
  },
  {
   "cell_type": "markdown",
   "metadata": {},
   "source": [
    "# See the Containers and Models within the Inference Pipeline"
   ]
  },
  {
   "cell_type": "code",
   "execution_count": 127,
   "metadata": {},
   "outputs": [
    {
     "name": "stdout",
     "output_type": "stream",
     "text": [
      "[OK] BestCandidate InferenceContainers generated.\n"
     ]
    }
   ],
   "source": [
    "# Doing BestCandidate check again because of Github issue https://github.com/data-science-on-aws/data-science-on-aws/issues/107\n",
    "while \"InferenceContainers\" not in best_candidate and \"BestCandidate\" not in best_candidate_response:\n",
    "    best_candidate_response = sm.describe_auto_ml_job(AutoMLJobName=auto_ml_job_name)\n",
    "    best_candidate = best_candidate_response[\"BestCandidate\"]\n",
    "    print(\"[INFO] Autopilot Job is generating BestCandidate InferenceContainers. Please wait. \")\n",
    "    print(json.dumps(best_candidate, indent=4, sort_keys=True, default=str))\n",
    "    sleep(10)\n",
    "\n",
    "print(\"[OK] BestCandidate InferenceContainers generated.\")"
   ]
  },
  {
   "cell_type": "code",
   "execution_count": 128,
   "metadata": {},
   "outputs": [],
   "source": [
    "best_candidate_containers = best_candidate[\"InferenceContainers\"]"
   ]
  },
  {
   "cell_type": "code",
   "execution_count": 129,
   "metadata": {},
   "outputs": [
    {
     "name": "stdout",
     "output_type": "stream",
     "text": [
      "683313688378.dkr.ecr.us-east-1.amazonaws.com/sagemaker-sklearn-automl:2.5-1-cpu-py3\n",
      "s3://sagemaker-us-east-1-211125778552/models/autopilot/automl-dm-15-23-44-02/data-processor-models/automl-dm-15-23-44-02-dpp0-1-dd9560ec955a4041a32bc74f9829f05fac/output/model.tar.gz\n",
      "======================\n",
      "683313688378.dkr.ecr.us-east-1.amazonaws.com/sagemaker-xgboost:1.3-1-cpu-py3\n",
      "s3://sagemaker-us-east-1-211125778552/models/autopilot/automl-dm-15-23-44-02/tuning/automl-dm--dpp0-xgb/automl-dm-15-23-44-02P6qCIvwtEUe-002-d08598bd/output/model.tar.gz\n",
      "======================\n",
      "683313688378.dkr.ecr.us-east-1.amazonaws.com/sagemaker-sklearn-automl:2.5-1-cpu-py3\n",
      "s3://sagemaker-us-east-1-211125778552/models/autopilot/automl-dm-15-23-44-02/data-processor-models/automl-dm-15-23-44-02-dpp0-1-dd9560ec955a4041a32bc74f9829f05fac/output/model.tar.gz\n",
      "======================\n"
     ]
    }
   ],
   "source": [
    "for container in best_candidate_containers:\n",
    "    print(container[\"Image\"])\n",
    "    print(container[\"ModelDataUrl\"])\n",
    "    print(\"======================\")"
   ]
  },
  {
   "cell_type": "markdown",
   "metadata": {},
   "source": [
    "# Update Containers To Show Predicted Label and Confidence Score"
   ]
  },
  {
   "cell_type": "code",
   "execution_count": 130,
   "metadata": {},
   "outputs": [
    {
     "name": "stdout",
     "output_type": "stream",
     "text": [
      "{'AUTOML_SPARSE_ENCODE_RECORDIO_PROTOBUF': '1', 'AUTOML_TRANSFORM_MODE': 'feature-transform', 'SAGEMAKER_DEFAULT_INVOCATIONS_ACCEPT': 'application/x-recordio-protobuf', 'SAGEMAKER_PROGRAM': 'sagemaker_serve', 'SAGEMAKER_SUBMIT_DIRECTORY': '/opt/ml/model/code'}\n",
      "======================\n",
      "{'MAX_CONTENT_LENGTH': '20971520', 'SAGEMAKER_DEFAULT_INVOCATIONS_ACCEPT': 'text/csv', 'SAGEMAKER_INFERENCE_OUTPUT': 'predicted_label', 'SAGEMAKER_INFERENCE_SUPPORTED': 'predicted_label,probability,probabilities'}\n",
      "======================\n",
      "{'AUTOML_TRANSFORM_MODE': 'inverse-label-transform', 'SAGEMAKER_DEFAULT_INVOCATIONS_ACCEPT': 'text/csv', 'SAGEMAKER_INFERENCE_INPUT': 'predicted_label', 'SAGEMAKER_INFERENCE_OUTPUT': 'predicted_label', 'SAGEMAKER_INFERENCE_SUPPORTED': 'predicted_label,probability,labels,probabilities', 'SAGEMAKER_PROGRAM': 'sagemaker_serve', 'SAGEMAKER_SUBMIT_DIRECTORY': '/opt/ml/model/code'}\n",
      "======================\n"
     ]
    }
   ],
   "source": [
    "for container in best_candidate_containers:\n",
    "    print(container[\"Environment\"])\n",
    "    print(\"======================\")"
   ]
  },
  {
   "cell_type": "code",
   "execution_count": 131,
   "metadata": {},
   "outputs": [],
   "source": [
    "best_candidate_containers[1][\"Environment\"].update({\"SAGEMAKER_INFERENCE_OUTPUT\": \"predicted_label, probability\"})\n",
    "best_candidate_containers[2][\"Environment\"].update({\"SAGEMAKER_INFERENCE_INPUT\": \"predicted_label, probability\"})\n",
    "best_candidate_containers[2][\"Environment\"].update({\"SAGEMAKER_INFERENCE_OUTPUT\": \"predicted_label, probability\"})"
   ]
  },
  {
   "cell_type": "code",
   "execution_count": 132,
   "metadata": {},
   "outputs": [
    {
     "name": "stdout",
     "output_type": "stream",
     "text": [
      "{'AUTOML_SPARSE_ENCODE_RECORDIO_PROTOBUF': '1', 'AUTOML_TRANSFORM_MODE': 'feature-transform', 'SAGEMAKER_DEFAULT_INVOCATIONS_ACCEPT': 'application/x-recordio-protobuf', 'SAGEMAKER_PROGRAM': 'sagemaker_serve', 'SAGEMAKER_SUBMIT_DIRECTORY': '/opt/ml/model/code'}\n",
      "======================\n",
      "{'MAX_CONTENT_LENGTH': '20971520', 'SAGEMAKER_DEFAULT_INVOCATIONS_ACCEPT': 'text/csv', 'SAGEMAKER_INFERENCE_OUTPUT': 'predicted_label, probability', 'SAGEMAKER_INFERENCE_SUPPORTED': 'predicted_label,probability,probabilities'}\n",
      "======================\n",
      "{'AUTOML_TRANSFORM_MODE': 'inverse-label-transform', 'SAGEMAKER_DEFAULT_INVOCATIONS_ACCEPT': 'text/csv', 'SAGEMAKER_INFERENCE_INPUT': 'predicted_label, probability', 'SAGEMAKER_INFERENCE_OUTPUT': 'predicted_label, probability', 'SAGEMAKER_INFERENCE_SUPPORTED': 'predicted_label,probability,labels,probabilities', 'SAGEMAKER_PROGRAM': 'sagemaker_serve', 'SAGEMAKER_SUBMIT_DIRECTORY': '/opt/ml/model/code'}\n",
      "======================\n"
     ]
    }
   ],
   "source": [
    "for container in best_candidate_containers:\n",
    "    print(container[\"Environment\"])\n",
    "    print(\"======================\")"
   ]
  },
  {
   "cell_type": "markdown",
   "metadata": {},
   "source": [
    "# Autopilot Chooses XGBoost as Best Candidate!\n",
    "\n",
    "Note that Autopilot chose different hyper-parameters and feature transformations than we used in our own XGBoost model."
   ]
  },
  {
   "cell_type": "markdown",
   "metadata": {},
   "source": [
    "# Deploy the Model as a REST Endpoint\n",
    "Batch transformations are also supported, but for now, we will use a REST Endpoint."
   ]
  },
  {
   "cell_type": "code",
   "execution_count": 133,
   "metadata": {},
   "outputs": [
    {
     "name": "stdout",
     "output_type": "stream",
     "text": [
      "[{'Image': '683313688378.dkr.ecr.us-east-1.amazonaws.com/sagemaker-sklearn-automl:2.5-1-cpu-py3', 'ModelDataUrl': 's3://sagemaker-us-east-1-211125778552/models/autopilot/automl-dm-15-23-44-02/data-processor-models/automl-dm-15-23-44-02-dpp0-1-dd9560ec955a4041a32bc74f9829f05fac/output/model.tar.gz', 'Environment': {'AUTOML_SPARSE_ENCODE_RECORDIO_PROTOBUF': '1', 'AUTOML_TRANSFORM_MODE': 'feature-transform', 'SAGEMAKER_DEFAULT_INVOCATIONS_ACCEPT': 'application/x-recordio-protobuf', 'SAGEMAKER_PROGRAM': 'sagemaker_serve', 'SAGEMAKER_SUBMIT_DIRECTORY': '/opt/ml/model/code'}}, {'Image': '683313688378.dkr.ecr.us-east-1.amazonaws.com/sagemaker-xgboost:1.3-1-cpu-py3', 'ModelDataUrl': 's3://sagemaker-us-east-1-211125778552/models/autopilot/automl-dm-15-23-44-02/tuning/automl-dm--dpp0-xgb/automl-dm-15-23-44-02P6qCIvwtEUe-002-d08598bd/output/model.tar.gz', 'Environment': {'MAX_CONTENT_LENGTH': '20971520', 'SAGEMAKER_DEFAULT_INVOCATIONS_ACCEPT': 'text/csv', 'SAGEMAKER_INFERENCE_OUTPUT': 'predicted_label, probability', 'SAGEMAKER_INFERENCE_SUPPORTED': 'predicted_label,probability,probabilities'}}, {'Image': '683313688378.dkr.ecr.us-east-1.amazonaws.com/sagemaker-sklearn-automl:2.5-1-cpu-py3', 'ModelDataUrl': 's3://sagemaker-us-east-1-211125778552/models/autopilot/automl-dm-15-23-44-02/data-processor-models/automl-dm-15-23-44-02-dpp0-1-dd9560ec955a4041a32bc74f9829f05fac/output/model.tar.gz', 'Environment': {'AUTOML_TRANSFORM_MODE': 'inverse-label-transform', 'SAGEMAKER_DEFAULT_INVOCATIONS_ACCEPT': 'text/csv', 'SAGEMAKER_INFERENCE_INPUT': 'predicted_label, probability', 'SAGEMAKER_INFERENCE_OUTPUT': 'predicted_label, probability', 'SAGEMAKER_INFERENCE_SUPPORTED': 'predicted_label,probability,labels,probabilities', 'SAGEMAKER_PROGRAM': 'sagemaker_serve', 'SAGEMAKER_SUBMIT_DIRECTORY': '/opt/ml/model/code'}}]\n"
     ]
    }
   ],
   "source": [
    "print(best_candidate[\"InferenceContainers\"])"
   ]
  },
  {
   "cell_type": "code",
   "execution_count": 134,
   "metadata": {},
   "outputs": [
    {
     "name": "stdout",
     "output_type": "stream",
     "text": [
      "no stored variable or alias autopilot_model_name\n"
     ]
    }
   ],
   "source": [
    "%store -r autopilot_model_name"
   ]
  },
  {
   "cell_type": "code",
   "execution_count": 135,
   "metadata": {},
   "outputs": [
    {
     "name": "stdout",
     "output_type": "stream",
     "text": [
      "[OK] Created Autopilot Model Name: automl-dm-model-16-00-15-23\n"
     ]
    }
   ],
   "source": [
    "try:\n",
    "    autopilot_model_name\n",
    "except NameError:\n",
    "    timestamp_suffix = strftime(\"%d-%H-%M-%S\", gmtime())\n",
    "    autopilot_model_name = \"automl-dm-model-\" + timestamp_suffix\n",
    "    print(\"[OK] Created Autopilot Model Name: \" + autopilot_model_name)"
   ]
  },
  {
   "cell_type": "code",
   "execution_count": 136,
   "metadata": {},
   "outputs": [
    {
     "name": "stdout",
     "output_type": "stream",
     "text": [
      "Stored 'autopilot_model_name' (str)\n"
     ]
    }
   ],
   "source": [
    "%store autopilot_model_name"
   ]
  },
  {
   "cell_type": "code",
   "execution_count": 137,
   "metadata": {},
   "outputs": [
    {
     "name": "stdout",
     "output_type": "stream",
     "text": [
      "no stored variable or alias autopilot_model_arn\n"
     ]
    }
   ],
   "source": [
    "%store -r autopilot_model_arn"
   ]
  },
  {
   "cell_type": "code",
   "execution_count": 138,
   "metadata": {},
   "outputs": [
    {
     "name": "stdout",
     "output_type": "stream",
     "text": [
      "[OK] Created Autopilot Model: arn:aws:sagemaker:us-east-1:211125778552:model/automl-dm-model-16-00-15-23\n"
     ]
    }
   ],
   "source": [
    "try:\n",
    "    autopilot_model_arn\n",
    "except NameError:\n",
    "    create_model_response = sm.create_model(\n",
    "        Containers=best_candidate[\"InferenceContainers\"], ModelName=autopilot_model_name, ExecutionRoleArn=role\n",
    "    )\n",
    "    autopilot_model_arn = create_model_response[\"ModelArn\"]\n",
    "    print(\"[OK] Created Autopilot Model: {}\".format(autopilot_model_arn))"
   ]
  },
  {
   "cell_type": "code",
   "execution_count": 139,
   "metadata": {},
   "outputs": [
    {
     "name": "stdout",
     "output_type": "stream",
     "text": [
      "Stored 'autopilot_model_arn' (str)\n"
     ]
    }
   ],
   "source": [
    "%store autopilot_model_arn"
   ]
  },
  {
   "cell_type": "markdown",
   "metadata": {},
   "source": [
    "# Define EndpointConfig Name"
   ]
  },
  {
   "cell_type": "code",
   "execution_count": 140,
   "metadata": {},
   "outputs": [
    {
     "name": "stdout",
     "output_type": "stream",
     "text": [
      "automl-dm-epc-16-00-15-24\n"
     ]
    }
   ],
   "source": [
    "timestamp_suffix = strftime(\"%d-%H-%M-%S\", gmtime())\n",
    "epc_name = \"automl-dm-epc-\" + timestamp_suffix\n",
    "\n",
    "print(epc_name)"
   ]
  },
  {
   "cell_type": "markdown",
   "metadata": {},
   "source": [
    "# Define REST Endpoint Name for Autopilot Model"
   ]
  },
  {
   "cell_type": "code",
   "execution_count": 141,
   "metadata": {},
   "outputs": [
    {
     "name": "stdout",
     "output_type": "stream",
     "text": [
      "no stored variable or alias autopilot_endpoint_name\n"
     ]
    }
   ],
   "source": [
    "%store -r autopilot_endpoint_name"
   ]
  },
  {
   "cell_type": "code",
   "execution_count": 142,
   "metadata": {},
   "outputs": [
    {
     "name": "stdout",
     "output_type": "stream",
     "text": [
      "[OK] Created Autopilot Endpoint Name automl-dm-ep-16-00-15-24: \n"
     ]
    }
   ],
   "source": [
    "timestamp_suffix = strftime(\"%d-%H-%M-%S\", gmtime())\n",
    "\n",
    "try:\n",
    "    autopilot_endpoint_name\n",
    "except NameError:\n",
    "    autopilot_endpoint_name = \"automl-dm-ep-\" + timestamp_suffix\n",
    "    print(\"[OK] Created Autopilot Endpoint Name {}: \".format(autopilot_endpoint_name))"
   ]
  },
  {
   "cell_type": "code",
   "execution_count": 143,
   "metadata": {},
   "outputs": [
    {
     "name": "stdout",
     "output_type": "stream",
     "text": [
      "[OK] Created Endpoint Variant Name automl-dm-variant-16-00-15-24: \n"
     ]
    }
   ],
   "source": [
    "variant_name = \"automl-dm-variant-\" + timestamp_suffix\n",
    "print(\"[OK] Created Endpoint Variant Name {}: \".format(variant_name))"
   ]
  },
  {
   "cell_type": "code",
   "execution_count": 144,
   "metadata": {},
   "outputs": [
    {
     "name": "stdout",
     "output_type": "stream",
     "text": [
      "Stored 'autopilot_endpoint_name' (str)\n"
     ]
    }
   ],
   "source": [
    "%store autopilot_endpoint_name"
   ]
  },
  {
   "cell_type": "code",
   "execution_count": 145,
   "metadata": {},
   "outputs": [],
   "source": [
    "ep_config = sm.create_endpoint_config(\n",
    "    EndpointConfigName=epc_name,\n",
    "    ProductionVariants=[\n",
    "        {\n",
    "            \"InstanceType\": \"ml.m5.large\",\n",
    "            \"InitialInstanceCount\": 1,\n",
    "            \"ModelName\": autopilot_model_name,\n",
    "            \"VariantName\": variant_name,\n",
    "        }\n",
    "    ],\n",
    ")"
   ]
  },
  {
   "cell_type": "code",
   "execution_count": 146,
   "metadata": {},
   "outputs": [
    {
     "name": "stdout",
     "output_type": "stream",
     "text": [
      "no stored variable or alias autopilot_endpoint_arn\n"
     ]
    }
   ],
   "source": [
    "%store -r autopilot_endpoint_arn"
   ]
  },
  {
   "cell_type": "code",
   "execution_count": 147,
   "metadata": {},
   "outputs": [
    {
     "name": "stdout",
     "output_type": "stream",
     "text": [
      "arn:aws:sagemaker:us-east-1:211125778552:endpoint/automl-dm-ep-16-00-15-24\n"
     ]
    }
   ],
   "source": [
    "try:\n",
    "    autopilot_endpoint_arn\n",
    "except NameError:\n",
    "    create_endpoint_response = sm.create_endpoint(EndpointName=autopilot_endpoint_name, EndpointConfigName=epc_name)\n",
    "    autopilot_endpoint_arn = create_endpoint_response[\"EndpointArn\"]\n",
    "    print(autopilot_endpoint_arn)"
   ]
  },
  {
   "cell_type": "code",
   "execution_count": 148,
   "metadata": {},
   "outputs": [
    {
     "name": "stdout",
     "output_type": "stream",
     "text": [
      "Stored 'autopilot_endpoint_arn' (str)\n"
     ]
    }
   ],
   "source": [
    "%store autopilot_endpoint_arn"
   ]
  },
  {
   "cell_type": "code",
   "execution_count": 149,
   "metadata": {},
   "outputs": [
    {
     "data": {
      "text/html": [
       "<b>Review <a target=\"blank\" href=\"https://console.aws.amazon.com/sagemaker/home?region=us-east-1#/endpoints/automl-dm-ep-16-00-15-24\">SageMaker REST Endpoint</a></b>"
      ],
      "text/plain": [
       "<IPython.core.display.HTML object>"
      ]
     },
     "metadata": {},
     "output_type": "display_data"
    }
   ],
   "source": [
    "from IPython.core.display import display, HTML\n",
    "\n",
    "display(\n",
    "    HTML(\n",
    "        '<b>Review <a target=\"blank\" href=\"https://console.aws.amazon.com/sagemaker/home?region={}#/endpoints/{}\">SageMaker REST Endpoint</a></b>'.format(\n",
    "            region, autopilot_endpoint_name\n",
    "        )\n",
    "    )\n",
    ")"
   ]
  },
  {
   "cell_type": "markdown",
   "metadata": {},
   "source": [
    "# Store Variables for the Next Notebooks"
   ]
  },
  {
   "cell_type": "code",
   "execution_count": 150,
   "metadata": {},
   "outputs": [
    {
     "name": "stdout",
     "output_type": "stream",
     "text": [
      "Stored variables and their in-db values:\n",
      "auto_ml_job_name                        -> 'automl-dm-15-23-44-02'\n",
      "autopilot_endpoint_arn                  -> 'arn:aws:sagemaker:us-east-1:211125778552:endpoint\n",
      "autopilot_endpoint_name                 -> 'automl-dm-ep-16-00-15-24'\n",
      "autopilot_model_arn                     -> 'arn:aws:sagemaker:us-east-1:211125778552:model/au\n",
      "autopilot_model_name                    -> 'automl-dm-model-16-00-15-23'\n",
      "autopilot_train_s3_uri                  -> 's3://sagemaker-us-east-1-211125778552/data/amazon\n",
      "comprehend_endpoint_arn                 -> 'arn:aws:comprehend:us-east-1:211125778552:documen\n",
      "comprehend_train_s3_uri                 -> 's3://sagemaker-us-east-1-211125778552/data/amazon\n",
      "comprehend_training_job_arn             -> 'arn:aws:comprehend:us-east-1:211125778552:documen\n",
      "setup_dependencies_passed               -> True\n",
      "setup_iam_roles_passed                  -> True\n",
      "setup_s3_bucket_passed                  -> True\n"
     ]
    }
   ],
   "source": [
    "%store"
   ]
  },
  {
   "cell_type": "markdown",
   "metadata": {},
   "source": [
    "# Summary\n",
    "We used Autopilot to automatically find the best model, hyper-parameters, and feature-engineering scripts for our dataset.  \n",
    "\n",
    "Autopilot uses a transparent approach to generate re-usable exploration Jupyter Notebooks and transformation Python scripts to continue to train and deploy our model on new data - well after this initial interaction with the Autopilot service."
   ]
  },
  {
   "cell_type": "markdown",
   "metadata": {},
   "source": [
    "# Release Resources"
   ]
  },
  {
   "cell_type": "code",
   "execution_count": 151,
   "metadata": {},
   "outputs": [
    {
     "data": {
      "text/html": [
       "\n",
       "<p><b>Shutting down your kernel for this notebook to release resources.</b></p>\n",
       "<button class=\"sm-command-button\" data-commandlinker-command=\"kernelmenu:shutdown\" style=\"display:none;\">Shutdown Kernel</button>\n",
       "        \n",
       "<script>\n",
       "try {\n",
       "    els = document.getElementsByClassName(\"sm-command-button\");\n",
       "    els[0].click();\n",
       "}\n",
       "catch(err) {\n",
       "    // NoOp\n",
       "}    \n",
       "</script>\n"
      ],
      "text/plain": [
       "<IPython.core.display.HTML object>"
      ]
     },
     "metadata": {},
     "output_type": "display_data"
    }
   ],
   "source": [
    "%%html\n",
    "\n",
    "<p><b>Shutting down your kernel for this notebook to release resources.</b></p>\n",
    "<button class=\"sm-command-button\" data-commandlinker-command=\"kernelmenu:shutdown\" style=\"display:none;\">Shutdown Kernel</button>\n",
    "        \n",
    "<script>\n",
    "try {\n",
    "    els = document.getElementsByClassName(\"sm-command-button\");\n",
    "    els[0].click();\n",
    "}\n",
    "catch(err) {\n",
    "    // NoOp\n",
    "}    \n",
    "</script>"
   ]
  },
  {
   "cell_type": "code",
   "execution_count": 152,
   "metadata": {},
   "outputs": [
    {
     "data": {
      "application/javascript": "\ntry {\n    Jupyter.notebook.save_checkpoint();\n    Jupyter.notebook.session.delete();\n}\ncatch(err) {\n    // NoOp\n}\n",
      "text/plain": [
       "<IPython.core.display.Javascript object>"
      ]
     },
     "metadata": {},
     "output_type": "display_data"
    }
   ],
   "source": [
    "%%javascript\n",
    "\n",
    "try {\n",
    "    Jupyter.notebook.save_checkpoint();\n",
    "    Jupyter.notebook.session.delete();\n",
    "}\n",
    "catch(err) {\n",
    "    // NoOp\n",
    "}"
   ]
  }
 ],
 "metadata": {
  "instance_type": "ml.t3.medium",
  "kernelspec": {
   "display_name": "data_science_on_aws",
   "language": "python",
   "name": "python3"
  },
  "language_info": {
   "codemirror_mode": {
    "name": "ipython",
    "version": 3
   },
   "file_extension": ".py",
   "mimetype": "text/x-python",
   "name": "python",
   "nbconvert_exporter": "python",
   "pygments_lexer": "ipython3",
   "version": "3.7.16"
  }
 },
 "nbformat": 4,
 "nbformat_minor": 4
}
